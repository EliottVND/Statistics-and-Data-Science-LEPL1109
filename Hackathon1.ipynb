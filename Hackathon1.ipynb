{
 "cells": [
  {
   "cell_type": "markdown",
   "metadata": {},
   "source": [
    "# Hackathon 1: simulations, descriptive stats & estimation\n",
    "\n",
    "This project illustrates the course LEPL1109 with an industrial applications of simulations. You will analyse the performance of an assembly chain, analytically and with simulations. This is an introduction to supply chain management which is a field actively studied by engineers (see e.g. LINMA2470 Stochastic modelling). \n",
    "\n",
    "## Report content\n",
    "\n",
    "•\tGrades are granted to the members whose names are in the Jupyter notebook. If your name doesn’t appear on the top of the notebook, you’ll get a 0, even though you are in a group on Moodle.\n",
    "\n",
    "•\tThe jupyter notebook must be compiled with printed results and next submitted via moodle. The absence of compiled results (or non-printed values) leads to a lower grade.\n",
    "\n",
    "## Report submission\n",
    "\n",
    "•\tDeadline, see moodle website. Submission after the deadline will not be accepted.\n",
    "\n",
    "•\tTo submit your report, go to the section “APP” on Moodle and the subsection “Soumission du rapport”. You can upload your work there. Once you are sure that it is your final version, click the button “Envoyer le devoir”. It is important that you don’t forget to click on this button ! \n",
    "\n",
    "•\tReports that have not been uploaded through Moodle will not be corrected.\n",
    "\n",
    "\n",
    "## Names and Noma of participants:\n",
    "\n",
    "Part. 1: Eliott Van Dieren 09731900\n",
    "\n",
    "Part. 2: Cédric Ponsard 10721900\n",
    "\n",
    "Part. 3: Romain Van Hauwaert 45081900\n",
    "\n",
    "Part. 4: Baptiste Sambon 09781900\n",
    "\n",
    "Part. 5: Maxime Vanliefde 16991900\n",
    "\n",
    "Part. 6: Simon Delvaux 54091900"
   ]
  },
  {
   "attachments": {
    "Capture.PNG": {
     "image/png": "[encoded data removed]"
    }
   },
   "cell_type": "markdown",
   "metadata": {},
   "source": [
    "In a manufacture of mechanical devices for the automotive industry, the production of a gearbox is done by a line of 3 successive working stations. The production of a new gearbox starts only when the previous one is fully assembled. In what follows, the assembly time of one gearbox is denoted by $T$. Also, $T_k$ is the assembly time at machine $k$. Finally $\\mu_k = \\mathbb{E}(T_k)$ and $\\sigma^2_k = \\mathbb{V}(T)$. Details about the production line are provided in the graph below.\n",
    "\n",
    "![Capture.PNG](attachment:Capture.PNG)\n",
    "\n",
    "where $p=0.75$ indicates for example that the output of machine 1 ends up in machine 2 with probability $0.75$. \n",
    "\n",
    "------------------------------------------------------------------------------------------------------\n",
    "\n",
    "1.\tFor each machine $k$, choose a (non-Gaussian) statistical distribution for the assembly time $T_k$ and provide value(s) for its parameter(s).\n",
    "\n",
    "------------------------------------------------------------------------------------------------------"
   ]
  },
  {
   "cell_type": "markdown",
   "metadata": {},
   "source": [
    "On sait déjà que les durées d'utilisation doivent être positives. On peut penser aux fonctions gamma (2 df) ainsi qu'aux exponentielles (1 df). Les machines 1 et 3 peuvent donc être décrites par des fonctions gamma et les machines 2 et 4, dont l'espérance et la variance sont égales, peuvent être modélisées par des exponentielles.\n",
    "\n",
    "$\\alpha_k \\beta_k = \\mathbb{E}(T_k)$ et $\\alpha_k \\beta_k^2 = \\mathbb{V}(T_k)$\n",
    "\n",
    "distrib function of exp = $\\frac{1}{\\beta}e^{-\\frac{x}{\\beta}}$\n",
    "\n",
    "distrib function of gamma = \n",
    "\n",
    "* $T_1$ ~ $\\Gamma(\\frac{49}{4},\\frac{4}{7})$\n",
    "* $T_2$ ~ $expo(12)$\n",
    "* $T_3$ ~ $\\Gamma(4,4)$\n",
    "* $T_4$ ~ $expo(8)$"
   ]
  },
  {
   "cell_type": "markdown",
   "metadata": {},
   "source": [
    "------------------------------------------------------------------------------------------------------------------------\n",
    "\n",
    "b) Calculate the expected time for assembling one gearbox, $\\mathbb{E}(T)$.\n",
    "\n",
    "------------------------------------------------------------------------------------------------------------------------"
   ]
  },
  {
   "cell_type": "markdown",
   "metadata": {},
   "source": [
    "Nous pouvons observer par linéarité que $\\mathbb{E}(T)$ = $\\mathbb{E}(T_1) + 0.75\\mathbb{E}(T_2) + 0.25\\mathbb{E}(T_3) + \\mathbb{E}(T_4) = 7+0.75*12 + 0.25*16+8 = 28s$"
   ]
  },
  {
   "cell_type": "markdown",
   "metadata": {},
   "source": [
    "------------------------------------------------------------------------------------------------------\n",
    "\n",
    "2. Simulate 5000 durations  $T$  for assembling one single gearbox and report the mean (check that its is well close to the expectation of question 1), standard deviation, 5% and 95% percentile. Plot an histogram. Save the simulated durations in a file \"sample.csv\".\n",
    "\n",
    "------------------------------------------------------------------------------------------------------"
   ]
  },
  {
   "cell_type": "code",
   "execution_count": 61,
   "metadata": {},
   "outputs": [],
   "source": [
    "import scipy.stats as sc\n",
    "import pandas as pd\n",
    "import numpy as np\n",
    "import random\n",
    "import matplotlib.pyplot as plt"
   ]
  },
  {
   "cell_type": "code",
   "execution_count": 62,
   "metadata": {
    "scrolled": true
   },
   "outputs": [
    {
     "name": "stdout",
     "output_type": "stream",
     "text": [
      "mean_T = 27.915591810811485\n",
      "fifthPercentile_T = 10.828651069231837\n",
      "nightyfifthPercentile_T = 53.110202249704976\n",
      "std_T = 13.579843607577127\n"
     ]
    }
   ],
   "source": [
    "T = np.zeros(5000)\n",
    "\n",
    "M1a = 49/4\n",
    "M1scale = 4/7\n",
    "M2scale = 12\n",
    "M3a = 4\n",
    "M3scale = 4\n",
    "M4scale = 8\n",
    "\n",
    "for i in range(5000):\n",
    "    second_m = random.choices([0,1], weights=[0.25,0.75])[0] # 1 if 2nd machine, 0 otherwise \n",
    "    T[i] = sc.gamma.rvs(a = M1a,scale = M1scale,size=1) \\\n",
    "           + second_m*sc.expon.rvs(scale=M2scale) \\\n",
    "           + (1-second_m)*sc.gamma.rvs(a = M3a,scale = M3scale,size=1) \\\n",
    "           + sc.expon.rvs(scale=M4scale)\n",
    "\n",
    "fifthPercentile_T = np.quantile(T,q=0.05)\n",
    "nightyfifthPercentile_T = np.quantile(T,q=0.95)\n",
    "std_T = np.std(T)\n",
    "\n",
    "print(\"mean_T = {}\".format(np.mean(T)))\n",
    "print(\"fifthPercentile_T = {}\".format(fifthPercentile_T))\n",
    "print(\"nightyfifthPercentile_T = {}\".format(nightyfifthPercentile_T))\n",
    "print(\"std_T = {}\".format(std_T))"
   ]
  },
  {
   "cell_type": "code",
   "execution_count": 63,
   "metadata": {},
   "outputs": [
    {
     "data": {
      "text/plain": "<Figure size 432x288 with 1 Axes>",
      "image/png": "[encoded data removed]"
     },
     "metadata": {
      "needs_background": "light"
     },
     "output_type": "display_data"
    }
   ],
   "source": [
    "# plot\n",
    "plt.hist(T,bins=50);\n",
    "plt.title(\"titre\")\n",
    "plt.show()\n",
    "\n",
    "np.savetxt(\"sample.csv\", T, delimiter=\",\")"
   ]
  },
  {
   "cell_type": "markdown",
   "metadata": {},
   "source": [
    "\n",
    "------------------------------------------------------------------------------------------------------\n",
    "\n",
    "\n",
    "3. a) Load simulated data from the file \"sample.csv\". Fit the exponential, gamma and chi-square distributions and estimate their parameters by log-likelihood maximization. Select the best non-Gaussian statistical distribution for  $T$. Justify your choice.\n",
    "\n",
    "Rem: if you use scipy, set the location parameter to zero with option 'floc=0'.\n",
    "\n",
    "------------------------------------------------------------------------------------------------------"
   ]
  },
  {
   "cell_type": "markdown",
   "metadata": {},
   "source": [
    "Answer here\n"
   ]
  },
  {
   "cell_type": "code",
   "execution_count": 64,
   "metadata": {},
   "outputs": [],
   "source": [
    "data = pd.read_csv(\"sample.csv\")\n",
    "[_, expon_scale] = sc.expon.fit(data,floc=0)\n",
    "[gamma_alpha,_,gamma_beta] = sc.gamma.fit(data,floc=0)\n",
    "[chi2_alpha,_,chi2_beta] = sc.chi2.fit(data,floc=0) # chi2_alpha = 0.5*df"
   ]
  },
  {
   "cell_type": "markdown",
   "metadata": {},
   "source": [
    "b) During the lectures, we have seen that the chi-square distribution has only one single parameter (the number of degrees of freedom). In Scipy, we find two other parameters location \"loc\" and scale \"scale\". Why? "
   ]
  },
  {
   "cell_type": "markdown",
   "metadata": {},
   "source": [
    "# TODO Simon\n"
   ]
  },
  {
   "cell_type": "markdown",
   "metadata": {},
   "source": [
    "------------------------------------------------------------------------------------------------------\n",
    "\n",
    "c) Compare the empirical distribution with the distribution you chose at 3a). For this purpose, plot an histogram of  durations and add the probability density function (pdf) that you have selected for modelling the random variable.\n",
    "\n",
    "------------------------------------------------------------------------------------------------------"
   ]
  },
  {
   "cell_type": "code",
   "execution_count": 65,
   "metadata": {
    "scrolled": true
   },
   "outputs": [
    {
     "name": "stdout",
     "output_type": "stream",
     "text": [
      "-9.704089963486422e-10\n"
     ]
    },
    {
     "data": {
      "text/plain": "<Figure size 432x288 with 1 Axes>",
      "image/png": "[encoded data removed]"
     },
     "metadata": {
      "needs_background": "light"
     },
     "output_type": "display_data"
    }
   ],
   "source": [
    "x = np.arange(0,np.max(data)[0]+1)\n",
    "expon_pdf = sc.expon.pdf(x,loc=0,scale=expon_scale)\n",
    "gamma_pdf = sc.gamma.pdf(x, gamma_alpha, loc=0, scale=gamma_beta)\n",
    "chi2_pdf = sc.chi2.pdf(x,chi2_alpha, loc=0, scale=chi2_beta)\n",
    "plt.plot(expon_pdf)\n",
    "plt.plot(gamma_pdf)\n",
    "plt.hist(data,bins=50,density=True); # pdf T\n",
    "plt.plot(chi2_pdf)\n",
    "\n",
    "print(np.sum(gamma_pdf-chi2_pdf)) # kiff kiff"
   ]
  },
  {
   "cell_type": "markdown",
   "metadata": {},
   "source": [
    "------------------------------------------------------------------------------------------------------\n",
    "\n",
    "4. We want to fit a Weibull distribution to $T$. The density, $f(t)$, depends upon two parameters $\\alpha>0$ and $\\lambda>0$ and is given by:\n",
    "\n",
    "$$ f(t)=\\lambda \\alpha t^{\\alpha-1} \\exp(-\\lambda t^\\alpha) $$\n",
    "\n",
    "a) Write two functions: one for the density and one that computes the log-likelihood of a sample of durations for this distribution. Test this function on the simulated dataset and for $\\alpha=1$ and $\\lambda=\\frac{1}{28}$\n",
    "\n",
    "------------------------------------------------------------------------------------------------------"
   ]
  },
  {
   "cell_type": "code",
   "execution_count": 66,
   "metadata": {},
   "outputs": [
    {
     "name": "stdout",
     "output_type": "stream",
     "text": [
      "-3.971841397759259\n"
     ]
    }
   ],
   "source": [
    "Weibull_pdf = lambda t, a, l: l*a*np.power(t,a-1)*np.exp(-l*np.power(t,a))\n",
    "\n",
    "def log_likelihood_Weibull(yeet,data):\n",
    "\n",
    "    [a,l] = yeet\n",
    "    L = []\n",
    "    for x in data:\n",
    "        y =  Weibull_pdf(float(x),a,l)\n",
    "        L.append(np.log(y))\n",
    "    return np.sum(L)\n",
    "\n",
    "print(log_likelihood_Weibull([1,1/28],data))"
   ]
  },
  {
   "cell_type": "markdown",
   "metadata": {},
   "source": [
    "------------------------------------------------------------------------------------------------------\n",
    "\n",
    "b) Maximize the log-likelihood to find estimates $\\hat{\\alpha}$ and $\\hat{\\lambda}$. Next compare the log-likelihood with those computed previously. Is this model better?\n",
    "\n",
    "Hint: use the \"scipy.optimize\" package and the function \"minimize\". To avoid adding constraints, you can do a change of variables: $\\alpha=\\exp(a)$ and $\\lambda=\\exp(b)$. The function \"minimize\" may send back a warning (division by zero in log) but converges well to the solution.\n",
    "\n",
    "------------------------------------------------------------------------------------------------------"
   ]
  },
  {
   "cell_type": "code",
   "execution_count": 67,
   "metadata": {},
   "outputs": [
    {
     "name": "stdout",
     "output_type": "stream",
     "text": [
      "-252.9724326206203\n",
      "-116.48918546148137\n"
     ]
    },
    {
     "name": "stderr",
     "output_type": "stream",
     "text": [
      "C:\\Users\\7dric\\AppData\\Local\\Temp/ipykernel_23760/1079790711.py:9: RuntimeWarning: invalid value encountered in log\n",
      "  L.append(np.log(y))\n",
      "C:\\Users\\7dric\\AppData\\Local\\Temp/ipykernel_23760/1079790711.py:1: RuntimeWarning: divide by zero encountered in power\n",
      "  Weibull_pdf = lambda t, a, l: l*a*np.power(t,a-1)*np.exp(-l*np.power(t,a))\n"
     ]
    },
    {
     "data": {
      "text/plain": "Text(0.5, 1.0, 'yeet')"
     },
     "execution_count": 67,
     "metadata": {},
     "output_type": "execute_result"
    },
    {
     "data": {
      "text/plain": "<Figure size 432x288 with 1 Axes>",
      "image/png": "[encoded data removed]"
     },
     "metadata": {
      "needs_background": "light"
     },
     "output_type": "display_data"
    }
   ],
   "source": [
    "from scipy import optimize\n",
    "x0 = [1,1/28]\n",
    "a_weilbull, l_weilbull = optimize.minimize(log_likelihood_Weibull,x0,(data,)).x\n",
    "\n",
    "print(a_weilbull)\n",
    "print(l_weilbull)\n",
    "\n",
    "x = np.arange(0,np.max(data)[0]+1)\n",
    "plt.hist(data,bins=50,density=True)\n",
    "plt.plot(Weibull_pdf(x,a_weilbull,l_weilbull))\n",
    "plt.title(\"yeet\")"
   ]
  },
  {
   "cell_type": "markdown",
   "metadata": {},
   "source": [
    "------------------------------------------------------------------------------------------------------\n",
    "\n",
    "c) The expectation and variance of the Weibull distribution are \n",
    "$$ \\mathbb{E}(T)=\\lambda^{-\\frac{1}{\\alpha}}\\Gamma(\\frac{1}{\\alpha}+1) $$\n",
    "\n",
    "$$ \\mathbb{V}(T)=\\lambda^{-\\frac{2}{\\alpha}} \\left(  \\Gamma(\\frac{2}{\\alpha}+1) -\\Gamma(\\frac{1}{\\alpha}+1)^2  \\right) $$\n",
    "\n",
    "Estimate $\\alpha$  and $\\lambda$ by the methods of moments. Next calculate the log-likelihood with these estimates and compare with these obtained by log-likelihood maximization. Is the result surprising ?\n",
    "\n",
    "Hint: use the scipy.optimize package and the function \"root\". The gamma function is scipy.special.gamma(z)\n",
    "\n",
    "------------------------------------------------------------------------------------------------------"
   ]
  },
  {
   "cell_type": "code",
   "execution_count": 68,
   "metadata": {},
   "outputs": [],
   "source": [
    "#code here\n"
   ]
  },
  {
   "cell_type": "markdown",
   "metadata": {},
   "source": [
    "------------------------------------------------------------------------------------------------------\n",
    "\n",
    "5.\tBased on the content of the “Self-learning 2”, Bootstrap 1000 times the sample of durations simulated in Question 2 (stored in the file \"sample.csv\") and compute, the mean, standard deviation and 95% and 90% confidence interval for parameter(s) estimate(s). Plot the empirical distribution of parameter(s).\n",
    "\n",
    "------------------------------------------------------------------------------------------------------"
   ]
  },
  {
   "cell_type": "code",
   "execution_count": 69,
   "metadata": {},
   "outputs": [],
   "source": [
    "#code here\n"
   ]
  },
  {
   "cell_type": "markdown",
   "metadata": {},
   "source": [
    "-----------------------------------------------------------------------------------------------------\n",
    "\n",
    "6. Using simulated assembling times, determine the probability that assembling 10 gearboxes lasts less than 320 seconds $P(T\\leq 320\\,sec)$. \n",
    "\n",
    "------------------------------------------------------------------------------------------------------"
   ]
  },
  {
   "cell_type": "code",
   "execution_count": 70,
   "metadata": {},
   "outputs": [],
   "source": [
    "#code here\n"
   ]
  },
  {
   "cell_type": "markdown",
   "metadata": {},
   "source": [
    "------------------------------------------------------------------------------------------------------\n",
    "\n",
    "7. Is there any alternative to numerical computing in question 6 for approximating  $P(T\\leq 320\\,sec)$? Please detail your answer and provide an estimate of this probability.\n",
    "\n",
    "------------------------------------------------------------------------------------------------------"
   ]
  },
  {
   "cell_type": "markdown",
   "metadata": {},
   "source": [
    "Answer here\n"
   ]
  },
  {
   "cell_type": "code",
   "execution_count": 70,
   "metadata": {},
   "outputs": [],
   "source": []
  }
 ],
 "metadata": {
  "kernelspec": {
   "name": "python3",
   "language": "python",
   "display_name": "Python 3 (ipykernel)"
  },
  "language_info": {
   "codemirror_mode": {
    "name": "ipython",
    "version": 3
   },
   "file_extension": ".py",
   "mimetype": "text/x-python",
   "name": "python",
   "nbconvert_exporter": "python",
   "pygments_lexer": "ipython3",
   "version": "3.8.11"
  }
 },
 "nbformat": 4,
 "nbformat_minor": 4
}