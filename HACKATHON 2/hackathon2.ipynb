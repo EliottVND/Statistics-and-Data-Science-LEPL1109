{
 "cells": [
  {
   "cell_type": "markdown",
   "metadata": {},
   "source": [
    "# Hackathon 2\n",
    "\n",
    "\n",
    "## Report content\n",
    "\n",
    "•\tYou have to fill in this  jupyter notebook downloadable on the moodle website of the course\n",
    "\n",
    "•\tGrades are granted to the members whose names are in the Jupyter notebook. If your name doesn’t appear on the top of the notebook, you’ll get a 0, even though you are in a group on Moodle.\n",
    "\n",
    "•\tThe jupyter notebook must be compiled with printed results and next submitted via moodle. The absence of compiled results (or non-printed values) leads to a lower grade.\n",
    "\n",
    "## Report submission\n",
    "\n",
    "•\tThe deadline for submission is reported on the moodle website. Submission after the deadline will not be accepted.\n",
    "\n",
    "•\tTo submit your report, go to the section “APP” on Moodle and the subsection “Soumission du rapport”. You can upload your work there. Once you are sure that it is your final version, click the button “Envoyer le devoir”. It is important that you don’t forget to click on this button ! \n",
    "\n",
    "•\tReports that have not been uploaded through Moodle will not be corrected.\n",
    "\n",
    "## Names and Noma of participants:\n",
    "\n",
    "Part. 1:\n",
    "\n",
    "Part. 2:\n",
    "\n",
    "Part. 3:\n",
    "\n",
    "Part. 4:\n",
    "\n",
    "\n",
    "## Regression\n",
    "\n",
    "Concrete is the most important material in civil engineering. The concrete compressive strength is a a function of many factors such as age and ingredients. Download the file “concrete.csv” from the moodle website.  We aim to regress the concrete compressive strength (CCS) as a function of several variables:\n",
    "\n",
    "Cement -- quantitative -- kg in a m3 mixture -- Input Variable\n",
    "\n",
    "Blast Furnace Slag -- quantitative -- kg in a m3 mixture -- Input Variable\n",
    "\n",
    "Fly Ash   -- quantitative -- kg in a m3 mixture -- Input Variable\n",
    "\n",
    "Water   -- quantitative -- kg in a m3 mixture -- Input Variable\n",
    "\n",
    "Superplasticizer   -- quantitative -- kg in a m3 mixture -- Input Variable\n",
    "\n",
    "Coarse Aggregate   -- quantitative -- kg in a m3 mixture -- Input Variable\n",
    "\n",
    "Fine Aggregate  -- quantitative -- kg in a m3 mixture -- Input Variable\n",
    "\n",
    "Age -- quantitative -- Day (1~365) -- Input Variable\n",
    "\n",
    "Concrete compressive strength -- quantitative -- MPa -- Output Variable\n"
   ]
  },
  {
   "cell_type": "markdown",
   "metadata": {},
   "source": [
    "---\n",
    "1) Report useful statistics for each variables (mean, std, percentiles, etc)\n",
    "\n",
    "---"
   ]
  },
  {
   "cell_type": "code",
   "execution_count": 1,
   "metadata": {},
   "outputs": [],
   "source": [
    "#code here"
   ]
  },
  {
   "cell_type": "markdown",
   "metadata": {},
   "source": [
    "---\n",
    "2)\tA data analysis always starts with a visualization of correlations. Compute the matrix of correlation between all variables and use the package seaborn to plot what is called a heatmap of correlation (command seaborn.heatmap(.) ). Draw some conclusions from this map about the factors influencing the $CCS$.\n",
    "\n",
    "----"
   ]
  },
  {
   "cell_type": "code",
   "execution_count": null,
   "metadata": {},
   "outputs": [],
   "source": [
    "#code here"
   ]
  },
  {
   "cell_type": "markdown",
   "metadata": {},
   "source": [
    "Comments"
   ]
  },
  {
   "cell_type": "markdown",
   "metadata": {},
   "source": [
    "---\n",
    "3)\tAdd a constant term (intercept) and perform a linear regression of the variable $CCS$ on all other explanatory variables.\n",
    "i.\tReport the F statistics and $R^2$:  interpret them.\n",
    "ii.\tAnalyze the t-statistics and p-values of each coefficient of regression. Are all coefficients significant at 95%? \n",
    "Use the library statsmodels.api. The function OLS accepts pandas dataframe (use .drop() to remove columns).\n",
    "\n",
    "---"
   ]
  },
  {
   "cell_type": "code",
   "execution_count": null,
   "metadata": {},
   "outputs": [],
   "source": [
    "#code here"
   ]
  },
  {
   "cell_type": "code",
   "execution_count": null,
   "metadata": {},
   "outputs": [],
   "source": [
    "Comments"
   ]
  },
  {
   "cell_type": "markdown",
   "metadata": {},
   "source": [
    "---\n",
    "4)\tRemove non-significant coefficients e.g. with $\\alpha = 5\\%$, except the intercept, and run again the regression. What do you notice when you compare the $R^2$, log-likelihood,  AIC and BIC (the AIC and BIC are not explained in the course, search on internet for explanations)\n",
    "\n",
    "\n",
    "---"
   ]
  },
  {
   "cell_type": "code",
   "execution_count": null,
   "metadata": {},
   "outputs": [],
   "source": [
    "#code here"
   ]
  },
  {
   "cell_type": "markdown",
   "metadata": {},
   "source": [
    "Comments"
   ]
  },
  {
   "cell_type": "markdown",
   "metadata": {},
   "source": [
    "---\n",
    "5)\tWhich are the three most significant factors determining the $CCS$? Justify you answer with the stats reported by the regression. Show the dependence between the $CCS$ and each factor one one graph of type \"scatterplot\". \n",
    "---"
   ]
  },
  {
   "cell_type": "code",
   "execution_count": null,
   "metadata": {},
   "outputs": [],
   "source": [
    "# code here"
   ]
  },
  {
   "cell_type": "markdown",
   "metadata": {},
   "source": [
    "Comments"
   ]
  },
  {
   "cell_type": "markdown",
   "metadata": {},
   "source": [
    "## Statistical tests\n",
    "\n",
    "Download the file “CO2_emissions_Canada.csv” and read the Data Description excel file. This dataset captures the details of how $CO_2$ emissions by a vehicle can vary with the different features. The dataset has been taken from Canada Government official open data website. This is a compiled version. This contains data over a period of 7 years. There are 7385 rows and 12 columns. Some abbreviations have been used to describe the features. The Data Description file contains some information regarding these.\n",
    "\n",
    "REMARK : before running your analyses, remove from the data the vehicle propelled by natural gas. Indeed, there only one observation in that categoy and this would distort your analyses. \n",
    "\n",
    "---\n",
    "1)\tCan you conclude that the average $CO_2$ emission is below $300g/Km$? To do this, perform a one-sided test for a confidence level of 95% ($\\alpha$=5%). Write clearly the tested assumptions and report the statistics, critical value and the p-value. What is your conclusion ?\n",
    "\n",
    "---"
   ]
  },
  {
   "cell_type": "code",
   "execution_count": null,
   "metadata": {},
   "outputs": [],
   "source": [
    "#code here"
   ]
  },
  {
   "cell_type": "code",
   "execution_count": null,
   "metadata": {},
   "outputs": [],
   "source": [
    "Comment"
   ]
  },
  {
   "cell_type": "markdown",
   "metadata": {},
   "source": [
    "---\n",
    "2)\tWe want to determine the influence of the type of fuel on the $CO_2$ emission. We denote by $\\mu_X$, $\\mu_Z$, $\\mu_D$, $\\mu_E$ the expected $CO_2$ emissions for regular, premium gasoline, diesel and ethanol. Perform one single test for the following assumption\n",
    "\n",
    "$H_0$ : $\\mu_X = \\mu_Z = \\mu_D = \\mu_E$\n",
    "\n",
    "With $H_1$ : at least two of these means are different. \n",
    "\n",
    "Hint: use a linear regression and see exercises. Notice that this type of analysis is also called Analysis of Variance, ANOVA)\n",
    "\n",
    "---\n"
   ]
  },
  {
   "cell_type": "code",
   "execution_count": null,
   "metadata": {},
   "outputs": [],
   "source": [
    "#code here"
   ]
  },
  {
   "cell_type": "markdown",
   "metadata": {},
   "source": [
    "Comment"
   ]
  },
  {
   "cell_type": "markdown",
   "metadata": {},
   "source": [
    "---\n",
    "3)\tUnder the assumption of equal variances, test if the $CO_2$ emissions are on average equal for vehicles fuelled by regular gasoline (X) or diesel (D) : $\\mu_X  = \\mu_D$ (use a two-sided test and a confidence level of 95%, i.e. $\\alpha$=5% ). Report the statistics, critical values and the p-value.\n",
    "\n",
    "---"
   ]
  },
  {
   "cell_type": "code",
   "execution_count": null,
   "metadata": {},
   "outputs": [],
   "source": [
    "#code here"
   ]
  },
  {
   "cell_type": "markdown",
   "metadata": {},
   "source": [
    "Comment"
   ]
  },
  {
   "cell_type": "markdown",
   "metadata": {},
   "source": [
    "---\n",
    "4) The test in question 3 is performed under the assumption of equal variances. Test this assumption with a confidence level of 95% (two-sided test, $\\alpha$=5%). Report the values of statistics and the critical values. What is your conclusion ? \n",
    "\n",
    "---"
   ]
  },
  {
   "cell_type": "code",
   "execution_count": null,
   "metadata": {},
   "outputs": [],
   "source": [
    "#code here"
   ]
  },
  {
   "cell_type": "code",
   "execution_count": null,
   "metadata": {},
   "outputs": [],
   "source": [
    "Comment"
   ]
  },
  {
   "cell_type": "markdown",
   "metadata": {},
   "source": [
    "---\n",
    "5)\tWhich is the greenest fuel, i.e. the one producing the least $CO_2$ emissions ? Answer this question using a regression, in which you may include other variables than fuel type. Justify your procedure and conclude. \n",
    "\n",
    "---"
   ]
  },
  {
   "cell_type": "code",
   "execution_count": null,
   "metadata": {},
   "outputs": [],
   "source": [
    "#code here"
   ]
  },
  {
   "cell_type": "markdown",
   "metadata": {},
   "source": [
    "Comment"
   ]
  }
 ],
 "metadata": {
  "kernelspec": {
   "display_name": "Python 3",
   "language": "python",
   "name": "python3"
  },
  "language_info": {
   "codemirror_mode": {
    "name": "ipython",
    "version": 3
   },
   "file_extension": ".py",
   "mimetype": "text/x-python",
   "name": "python",
   "nbconvert_exporter": "python",
   "pygments_lexer": "ipython3",
   "version": "3.8.8"
  }
 },
 "nbformat": 4,
 "nbformat_minor": 4
}
