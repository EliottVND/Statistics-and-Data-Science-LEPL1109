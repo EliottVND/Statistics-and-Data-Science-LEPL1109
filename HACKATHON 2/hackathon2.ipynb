{
 "cells": [
  {
   "cell_type": "markdown",
   "metadata": {},
   "source": [
    "# Hackathon 2\n",
    "\n",
    "\n",
    "## Report content\n",
    "\n",
    "•\tYou have to fill in this  jupyter notebook downloadable on the moodle website of the course\n",
    "\n",
    "•\tGrades are granted to the members whose names are in the Jupyter notebook. If your name doesn’t appear on the top of the notebook, you’ll get a 0, even though you are in a group on Moodle.\n",
    "\n",
    "•\tThe jupyter notebook must be compiled with printed results and next submitted via moodle. The absence of compiled results (or non-printed values) leads to a lower grade.\n",
    "\n",
    "## Report submission\n",
    "\n",
    "•\tThe deadline for submission is reported on the moodle website. Submission after the deadline will not be accepted.\n",
    "\n",
    "•\tTo submit your report, go to the section “APP” on Moodle and the subsection “Soumission du rapport”. You can upload your work there. Once you are sure that it is your final version, click the button “Envoyer le devoir”. It is important that you don’t forget to click on this button ! \n",
    "\n",
    "•\tReports that have not been uploaded through Moodle will not be corrected.\n",
    "\n",
    "## Names and Noma of participants:\n",
    "\n",
    "Part. 1: Simon Delvaux 54091900\n",
    "\n",
    "Part. 2: Cédric Ponsard 10721900\n",
    "\n",
    "Part. 3: Baptiste Sambon 09781900\n",
    "\n",
    "Part. 4: Eliott Van Dieren 09731900\n",
    "\n",
    "Part. 5: Romain Van Hauwaert 45081900\n",
    "\n",
    "Part. 6: Maxime Vanliefde 16991900\n",
    "\n",
    "## Regression\n",
    "\n",
    "Concrete is the most important material in civil engineering. The concrete compressive strength is a a function of many factors such as age and ingredients. Download the file “concrete.csv” from the moodle website.  We aim to regress the concrete compressive strength (CCS) as a function of several variables:\n",
    "\n",
    "Cement -- quantitative -- kg in a m3 mixture -- Input Variable\n",
    "\n",
    "Blast Furnace Slag -- quantitative -- kg in a m3 mixture -- Input Variable\n",
    "\n",
    "Fly Ash   -- quantitative -- kg in a m3 mixture -- Input Variable\n",
    "\n",
    "Water   -- quantitative -- kg in a m3 mixture -- Input Variable\n",
    "\n",
    "Superplasticizer   -- quantitative -- kg in a m3 mixture -- Input Variable\n",
    "\n",
    "Coarse Aggregate   -- quantitative -- kg in a m3 mixture -- Input Variable\n",
    "\n",
    "Fine Aggregate  -- quantitative -- kg in a m3 mixture -- Input Variable\n",
    "\n",
    "Age -- quantitative -- Day (1~365) -- Input Variable\n",
    "\n",
    "Concrete compressive strength -- quantitative -- MPa -- Output Variable\n"
   ]
  },
  {
   "cell_type": "markdown",
   "metadata": {},
   "source": [
    "---\n",
    "1) Report useful statistics for each variables (mean, std, percentiles, etc)\n",
    "\n",
    "---"
   ]
  },
  {
   "cell_type": "code",
   "execution_count": 1,
   "metadata": {},
   "outputs": [],
   "source": [
    "import scipy.stats as sc\n",
    "import pandas as pd\n",
    "import numpy as np\n",
    "import random\n",
    "import matplotlib.pyplot as plt\n",
    "import seaborn as sb\n",
    "import statsmodels.api as sm\n",
    "import statsmodels.stats.weightstats as sw"
   ]
  },
  {
   "cell_type": "code",
   "execution_count": 2,
   "metadata": {},
   "outputs": [
    {
     "data": {
      "text/html": [
       "<div>\n",
       "<style scoped>\n",
       "    .dataframe tbody tr th:only-of-type {\n",
       "        vertical-align: middle;\n",
       "    }\n",
       "\n",
       "    .dataframe tbody tr th {\n",
       "        vertical-align: top;\n",
       "    }\n",
       "\n",
       "    .dataframe thead th {\n",
       "        text-align: right;\n",
       "    }\n",
       "</style>\n",
       "<table border=\"1\" class=\"dataframe\">\n",
       "  <thead>\n",
       "    <tr style=\"text-align: right;\">\n",
       "      <th></th>\n",
       "      <th>cement</th>\n",
       "      <th>slag</th>\n",
       "      <th>flyash</th>\n",
       "      <th>water</th>\n",
       "      <th>superplasticizer</th>\n",
       "      <th>coarseaggregate</th>\n",
       "      <th>fineaggregate</th>\n",
       "      <th>age</th>\n",
       "      <th>csMPa</th>\n",
       "    </tr>\n",
       "  </thead>\n",
       "  <tbody>\n",
       "    <tr>\n",
       "      <th>count</th>\n",
       "      <td>1030.000000</td>\n",
       "      <td>1030.000000</td>\n",
       "      <td>1030.000000</td>\n",
       "      <td>1030.000000</td>\n",
       "      <td>1030.000000</td>\n",
       "      <td>1030.000000</td>\n",
       "      <td>1030.000000</td>\n",
       "      <td>1030.000000</td>\n",
       "      <td>1030.000000</td>\n",
       "    </tr>\n",
       "    <tr>\n",
       "      <th>mean</th>\n",
       "      <td>281.167864</td>\n",
       "      <td>73.895825</td>\n",
       "      <td>54.188350</td>\n",
       "      <td>181.567282</td>\n",
       "      <td>6.204660</td>\n",
       "      <td>972.918932</td>\n",
       "      <td>773.580485</td>\n",
       "      <td>45.662136</td>\n",
       "      <td>35.817961</td>\n",
       "    </tr>\n",
       "    <tr>\n",
       "      <th>std</th>\n",
       "      <td>104.506364</td>\n",
       "      <td>86.279342</td>\n",
       "      <td>63.997004</td>\n",
       "      <td>21.354219</td>\n",
       "      <td>5.973841</td>\n",
       "      <td>77.753954</td>\n",
       "      <td>80.175980</td>\n",
       "      <td>63.169912</td>\n",
       "      <td>16.705742</td>\n",
       "    </tr>\n",
       "    <tr>\n",
       "      <th>min</th>\n",
       "      <td>102.000000</td>\n",
       "      <td>0.000000</td>\n",
       "      <td>0.000000</td>\n",
       "      <td>121.800000</td>\n",
       "      <td>0.000000</td>\n",
       "      <td>801.000000</td>\n",
       "      <td>594.000000</td>\n",
       "      <td>1.000000</td>\n",
       "      <td>2.330000</td>\n",
       "    </tr>\n",
       "    <tr>\n",
       "      <th>25%</th>\n",
       "      <td>192.375000</td>\n",
       "      <td>0.000000</td>\n",
       "      <td>0.000000</td>\n",
       "      <td>164.900000</td>\n",
       "      <td>0.000000</td>\n",
       "      <td>932.000000</td>\n",
       "      <td>730.950000</td>\n",
       "      <td>7.000000</td>\n",
       "      <td>23.710000</td>\n",
       "    </tr>\n",
       "    <tr>\n",
       "      <th>50%</th>\n",
       "      <td>272.900000</td>\n",
       "      <td>22.000000</td>\n",
       "      <td>0.000000</td>\n",
       "      <td>185.000000</td>\n",
       "      <td>6.400000</td>\n",
       "      <td>968.000000</td>\n",
       "      <td>779.500000</td>\n",
       "      <td>28.000000</td>\n",
       "      <td>34.445000</td>\n",
       "    </tr>\n",
       "    <tr>\n",
       "      <th>75%</th>\n",
       "      <td>350.000000</td>\n",
       "      <td>142.950000</td>\n",
       "      <td>118.300000</td>\n",
       "      <td>192.000000</td>\n",
       "      <td>10.200000</td>\n",
       "      <td>1029.400000</td>\n",
       "      <td>824.000000</td>\n",
       "      <td>56.000000</td>\n",
       "      <td>46.135000</td>\n",
       "    </tr>\n",
       "    <tr>\n",
       "      <th>max</th>\n",
       "      <td>540.000000</td>\n",
       "      <td>359.400000</td>\n",
       "      <td>200.100000</td>\n",
       "      <td>247.000000</td>\n",
       "      <td>32.200000</td>\n",
       "      <td>1145.000000</td>\n",
       "      <td>992.600000</td>\n",
       "      <td>365.000000</td>\n",
       "      <td>82.600000</td>\n",
       "    </tr>\n",
       "  </tbody>\n",
       "</table>\n",
       "</div>"
      ],
      "text/plain": [
       "            cement         slag       flyash        water  superplasticizer  \\\n",
       "count  1030.000000  1030.000000  1030.000000  1030.000000       1030.000000   \n",
       "mean    281.167864    73.895825    54.188350   181.567282          6.204660   \n",
       "std     104.506364    86.279342    63.997004    21.354219          5.973841   \n",
       "min     102.000000     0.000000     0.000000   121.800000          0.000000   \n",
       "25%     192.375000     0.000000     0.000000   164.900000          0.000000   \n",
       "50%     272.900000    22.000000     0.000000   185.000000          6.400000   \n",
       "75%     350.000000   142.950000   118.300000   192.000000         10.200000   \n",
       "max     540.000000   359.400000   200.100000   247.000000         32.200000   \n",
       "\n",
       "       coarseaggregate  fineaggregate          age        csMPa  \n",
       "count      1030.000000    1030.000000  1030.000000  1030.000000  \n",
       "mean        972.918932     773.580485    45.662136    35.817961  \n",
       "std          77.753954      80.175980    63.169912    16.705742  \n",
       "min         801.000000     594.000000     1.000000     2.330000  \n",
       "25%         932.000000     730.950000     7.000000    23.710000  \n",
       "50%         968.000000     779.500000    28.000000    34.445000  \n",
       "75%        1029.400000     824.000000    56.000000    46.135000  \n",
       "max        1145.000000     992.600000   365.000000    82.600000  "
      ]
     },
     "execution_count": 2,
     "metadata": {},
     "output_type": "execute_result"
    }
   ],
   "source": [
    "data = pd.read_csv(\"concrete.csv\")\n",
    "data.describe()"
   ]
  },
  {
   "cell_type": "markdown",
   "metadata": {},
   "source": [
    "---\n",
    "2)\tA data analysis always starts with a visualization of correlations. Compute the matrix of correlation between all variables and use the package seaborn to plot what is called a heatmap of correlation (command seaborn.heatmap(.) ). Draw some conclusions from this map about the factors influencing the $CCS$.\n",
    "\n",
    "----"
   ]
  },
  {
   "cell_type": "code",
   "execution_count": 3,
   "metadata": {},
   "outputs": [
    {
     "data": {
      "text/html": [
       "<div>\n",
       "<style scoped>\n",
       "    .dataframe tbody tr th:only-of-type {\n",
       "        vertical-align: middle;\n",
       "    }\n",
       "\n",
       "    .dataframe tbody tr th {\n",
       "        vertical-align: top;\n",
       "    }\n",
       "\n",
       "    .dataframe thead th {\n",
       "        text-align: right;\n",
       "    }\n",
       "</style>\n",
       "<table border=\"1\" class=\"dataframe\">\n",
       "  <thead>\n",
       "    <tr style=\"text-align: right;\">\n",
       "      <th></th>\n",
       "      <th>cement</th>\n",
       "      <th>slag</th>\n",
       "      <th>flyash</th>\n",
       "      <th>water</th>\n",
       "      <th>superplasticizer</th>\n",
       "      <th>coarseaggregate</th>\n",
       "      <th>fineaggregate</th>\n",
       "      <th>age</th>\n",
       "      <th>csMPa</th>\n",
       "    </tr>\n",
       "  </thead>\n",
       "  <tbody>\n",
       "    <tr>\n",
       "      <th>cement</th>\n",
       "      <td>1.000000</td>\n",
       "      <td>-0.275216</td>\n",
       "      <td>-0.397467</td>\n",
       "      <td>-0.081587</td>\n",
       "      <td>0.092386</td>\n",
       "      <td>-0.109349</td>\n",
       "      <td>-0.222718</td>\n",
       "      <td>0.081946</td>\n",
       "      <td>0.497832</td>\n",
       "    </tr>\n",
       "    <tr>\n",
       "      <th>slag</th>\n",
       "      <td>-0.275216</td>\n",
       "      <td>1.000000</td>\n",
       "      <td>-0.323580</td>\n",
       "      <td>0.107252</td>\n",
       "      <td>0.043270</td>\n",
       "      <td>-0.283999</td>\n",
       "      <td>-0.281603</td>\n",
       "      <td>-0.044246</td>\n",
       "      <td>0.134829</td>\n",
       "    </tr>\n",
       "    <tr>\n",
       "      <th>flyash</th>\n",
       "      <td>-0.397467</td>\n",
       "      <td>-0.323580</td>\n",
       "      <td>1.000000</td>\n",
       "      <td>-0.256984</td>\n",
       "      <td>0.377503</td>\n",
       "      <td>-0.009961</td>\n",
       "      <td>0.079108</td>\n",
       "      <td>-0.154371</td>\n",
       "      <td>-0.105755</td>\n",
       "    </tr>\n",
       "    <tr>\n",
       "      <th>water</th>\n",
       "      <td>-0.081587</td>\n",
       "      <td>0.107252</td>\n",
       "      <td>-0.256984</td>\n",
       "      <td>1.000000</td>\n",
       "      <td>-0.657533</td>\n",
       "      <td>-0.182294</td>\n",
       "      <td>-0.450661</td>\n",
       "      <td>0.277618</td>\n",
       "      <td>-0.289633</td>\n",
       "    </tr>\n",
       "    <tr>\n",
       "      <th>superplasticizer</th>\n",
       "      <td>0.092386</td>\n",
       "      <td>0.043270</td>\n",
       "      <td>0.377503</td>\n",
       "      <td>-0.657533</td>\n",
       "      <td>1.000000</td>\n",
       "      <td>-0.265999</td>\n",
       "      <td>0.222691</td>\n",
       "      <td>-0.192700</td>\n",
       "      <td>0.366079</td>\n",
       "    </tr>\n",
       "    <tr>\n",
       "      <th>coarseaggregate</th>\n",
       "      <td>-0.109349</td>\n",
       "      <td>-0.283999</td>\n",
       "      <td>-0.009961</td>\n",
       "      <td>-0.182294</td>\n",
       "      <td>-0.265999</td>\n",
       "      <td>1.000000</td>\n",
       "      <td>-0.178481</td>\n",
       "      <td>-0.003016</td>\n",
       "      <td>-0.164935</td>\n",
       "    </tr>\n",
       "    <tr>\n",
       "      <th>fineaggregate</th>\n",
       "      <td>-0.222718</td>\n",
       "      <td>-0.281603</td>\n",
       "      <td>0.079108</td>\n",
       "      <td>-0.450661</td>\n",
       "      <td>0.222691</td>\n",
       "      <td>-0.178481</td>\n",
       "      <td>1.000000</td>\n",
       "      <td>-0.156095</td>\n",
       "      <td>-0.167241</td>\n",
       "    </tr>\n",
       "    <tr>\n",
       "      <th>age</th>\n",
       "      <td>0.081946</td>\n",
       "      <td>-0.044246</td>\n",
       "      <td>-0.154371</td>\n",
       "      <td>0.277618</td>\n",
       "      <td>-0.192700</td>\n",
       "      <td>-0.003016</td>\n",
       "      <td>-0.156095</td>\n",
       "      <td>1.000000</td>\n",
       "      <td>0.328873</td>\n",
       "    </tr>\n",
       "    <tr>\n",
       "      <th>csMPa</th>\n",
       "      <td>0.497832</td>\n",
       "      <td>0.134829</td>\n",
       "      <td>-0.105755</td>\n",
       "      <td>-0.289633</td>\n",
       "      <td>0.366079</td>\n",
       "      <td>-0.164935</td>\n",
       "      <td>-0.167241</td>\n",
       "      <td>0.328873</td>\n",
       "      <td>1.000000</td>\n",
       "    </tr>\n",
       "  </tbody>\n",
       "</table>\n",
       "</div>"
      ],
      "text/plain": [
       "                    cement      slag    flyash     water  superplasticizer  \\\n",
       "cement            1.000000 -0.275216 -0.397467 -0.081587          0.092386   \n",
       "slag             -0.275216  1.000000 -0.323580  0.107252          0.043270   \n",
       "flyash           -0.397467 -0.323580  1.000000 -0.256984          0.377503   \n",
       "water            -0.081587  0.107252 -0.256984  1.000000         -0.657533   \n",
       "superplasticizer  0.092386  0.043270  0.377503 -0.657533          1.000000   \n",
       "coarseaggregate  -0.109349 -0.283999 -0.009961 -0.182294         -0.265999   \n",
       "fineaggregate    -0.222718 -0.281603  0.079108 -0.450661          0.222691   \n",
       "age               0.081946 -0.044246 -0.154371  0.277618         -0.192700   \n",
       "csMPa             0.497832  0.134829 -0.105755 -0.289633          0.366079   \n",
       "\n",
       "                  coarseaggregate  fineaggregate       age     csMPa  \n",
       "cement                  -0.109349      -0.222718  0.081946  0.497832  \n",
       "slag                    -0.283999      -0.281603 -0.044246  0.134829  \n",
       "flyash                  -0.009961       0.079108 -0.154371 -0.105755  \n",
       "water                   -0.182294      -0.450661  0.277618 -0.289633  \n",
       "superplasticizer        -0.265999       0.222691 -0.192700  0.366079  \n",
       "coarseaggregate          1.000000      -0.178481 -0.003016 -0.164935  \n",
       "fineaggregate           -0.178481       1.000000 -0.156095 -0.167241  \n",
       "age                     -0.003016      -0.156095  1.000000  0.328873  \n",
       "csMPa                   -0.164935      -0.167241  0.328873  1.000000  "
      ]
     },
     "execution_count": 3,
     "metadata": {},
     "output_type": "execute_result"
    },
    {
     "data": {
      "image/png": "[encoded data removed]",
      "text/plain": [
       "<Figure size 432x288 with 2 Axes>"
      ]
     },
     "metadata": {
      "needs_background": "light"
     },
     "output_type": "display_data"
    }
   ],
   "source": [
    "sb.heatmap(data.corr())\n",
    "data.corr()"
   ]
  },
  {
   "cell_type": "markdown",
   "metadata": {},
   "source": [
    "Nous observons grâce à la heatmap la corrélation entre la $CCS$ et les différentes variables du dataset. Ainsi, nous remarquons que la $CCS$ est positivement corrélée aux variables suivantes par ordre d'importance : \"cement\" (0.5), \"superplasticizer\" (0.366), \"age\" (0.33) et \"slage\" (0.13). Les autres variables, \"water\" (-0.29), \"fineaggregate\" (-0.167), \"coarseaggregate\" (-0.165) et \"flyash\" (-0.1) sont négativement corrélées avec la $CCS$. Les trois variables les plus corrélées avec la $CCS$ sont donc : \"cement\", \"superplasticizer\" et \"age\" et les trois les moins corrélées : \"flyash\", \"slage\" et \"coarseaggregate\". "
   ]
  },
  {
   "cell_type": "markdown",
   "metadata": {},
   "source": [
    "---\n",
    "3)\tAdd a constant term (intercept) and perform a linear regression of the variable $CCS$ on all other explanatory variables.\n",
    "i.\tReport the F statistics and $R^2$:  interpret them.\n",
    "ii.\tAnalyze the t-statistics and p-values of each coefficient of regression. Are all coefficients significant at 95%? \n",
    "Use the library statsmodels.api. The function OLS accepts pandas dataframe (use .drop() to remove columns).\n",
    "\n",
    "---"
   ]
  },
  {
   "cell_type": "code",
   "execution_count": 4,
   "metadata": {},
   "outputs": [
    {
     "name": "stdout",
     "output_type": "stream",
     "text": [
      "                            OLS Regression Results                            \n",
      "==============================================================================\n",
      "Dep. Variable:                  csMPa   R-squared:                       0.616\n",
      "Model:                            OLS   Adj. R-squared:                  0.613\n",
      "Method:                 Least Squares   F-statistic:                     204.3\n",
      "Date:                Sun, 14 Nov 2021   Prob (F-statistic):          6.29e-206\n",
      "Time:                        18:30:51   Log-Likelihood:                -3869.0\n",
      "No. Observations:                1030   AIC:                             7756.\n",
      "Df Residuals:                    1021   BIC:                             7800.\n",
      "Df Model:                           8                                         \n",
      "Covariance Type:            nonrobust                                         \n",
      "====================================================================================\n",
      "                       coef    std err          t      P>|t|      [0.025      0.975]\n",
      "------------------------------------------------------------------------------------\n",
      "const              -23.3312     26.586     -0.878      0.380     -75.500      28.837\n",
      "cement               0.1198      0.008     14.113      0.000       0.103       0.136\n",
      "slag                 0.1039      0.010     10.247      0.000       0.084       0.124\n",
      "flyash               0.0879      0.013      6.988      0.000       0.063       0.113\n",
      "water               -0.1499      0.040     -3.731      0.000      -0.229      -0.071\n",
      "superplasticizer     0.2922      0.093      3.128      0.002       0.109       0.476\n",
      "coarseaggregate      0.0181      0.009      1.926      0.054      -0.000       0.037\n",
      "fineaggregate        0.0202      0.011      1.887      0.059      -0.001       0.041\n",
      "age                  0.1142      0.005     21.046      0.000       0.104       0.125\n",
      "==============================================================================\n",
      "Omnibus:                        5.378   Durbin-Watson:                   1.282\n",
      "Prob(Omnibus):                  0.068   Jarque-Bera (JB):                5.304\n",
      "Skew:                          -0.174   Prob(JB):                       0.0705\n",
      "Kurtosis:                       3.045   Cond. No.                     1.06e+05\n",
      "==============================================================================\n",
      "\n",
      "Notes:\n",
      "[1] Standard Errors assume that the covariance matrix of the errors is correctly specified.\n",
      "[2] The condition number is large, 1.06e+05. This might indicate that there are\n",
      "strong multicollinearity or other numerical problems.\n",
      "Pvalues :\n",
      " const               3.803719e-01\n",
      "cement              1.897989e-41\n",
      "slag                1.598993e-23\n",
      "flyash              5.019648e-12\n",
      "water               2.008798e-04\n",
      "superplasticizer    1.810241e-03\n",
      "coarseaggregate     5.442481e-02\n",
      "fineaggregate       5.949075e-02\n",
      "age                 5.782491e-82\n",
      "dtype: float64\n"
     ]
    }
   ],
   "source": [
    "y = data[\"csMPa\"]\n",
    "X = data.drop(labels=\"csMPa\",axis=1)\n",
    "Xm = sm.add_constant(X)\n",
    "results = sm.OLS(y,Xm).fit()\n",
    "print(results.summary())\n",
    "print(\"Pvalues :\\n\", results.pvalues)"
   ]
  },
  {
   "cell_type": "markdown",
   "metadata": {},
   "source": [
    "Le coefficient de détermination $R^{2}$ nous permet de juger de la qualité de la régression linéaire. Ainsi, nous remarquons que l'approximation linéaire n'est pas excellente et est égale à 0.613 (valeur ajustée). Nous pouvons remarquer que les variables \"coarseaggregate\" et \"fineaggregate\" ne sont pas pertinentes à 95% (p-value supérieure à 5%) et seront donc retirées dans la prochaine étape. "
   ]
  },
  {
   "cell_type": "markdown",
   "metadata": {},
   "source": [
    "---\n",
    "4)\tRemove non-significant coefficients e.g. with $\\alpha = 5\\%$, except the intercept, and run again the regression. What do you notice when you compare the $R^2$, log-likelihood,  AIC and BIC (the AIC and BIC are not explained in the course, search on internet for explanations)\n",
    "\n",
    "\n",
    "---"
   ]
  },
  {
   "cell_type": "code",
   "execution_count": 5,
   "metadata": {},
   "outputs": [
    {
     "name": "stdout",
     "output_type": "stream",
     "text": [
      "                            OLS Regression Results                            \n",
      "==============================================================================\n",
      "Dep. Variable:                  csMPa   R-squared:                       0.614\n",
      "Model:                            OLS   Adj. R-squared:                  0.612\n",
      "Method:                 Least Squares   F-statistic:                     271.2\n",
      "Date:                Sun, 14 Nov 2021   Prob (F-statistic):          1.67e-207\n",
      "Time:                        18:30:51   Log-Likelihood:                -3871.0\n",
      "No. Observations:                1030   AIC:                             7756.\n",
      "Df Residuals:                    1023   BIC:                             7790.\n",
      "Df Model:                           6                                         \n",
      "Covariance Type:            nonrobust                                         \n",
      "====================================================================================\n",
      "                       coef    std err          t      P>|t|      [0.025      0.975]\n",
      "------------------------------------------------------------------------------------\n",
      "const               28.9930      4.213      6.881      0.000      20.725      37.260\n",
      "cement               0.1054      0.004     24.825      0.000       0.097       0.114\n",
      "slag                 0.0865      0.005     17.385      0.000       0.077       0.096\n",
      "flyash               0.0687      0.008      8.877      0.000       0.053       0.084\n",
      "water               -0.2181      0.021    -10.322      0.000      -0.260      -0.177\n",
      "superplasticizer     0.2403      0.085      2.842      0.005       0.074       0.406\n",
      "age                  0.1135      0.005     20.988      0.000       0.103       0.124\n",
      "==============================================================================\n",
      "Omnibus:                        5.229   Durbin-Watson:                   1.286\n",
      "Prob(Omnibus):                  0.073   Jarque-Bera (JB):                5.189\n",
      "Skew:                          -0.174   Prob(JB):                       0.0747\n",
      "Kurtosis:                       3.019   Cond. No.                     4.66e+03\n",
      "==============================================================================\n",
      "\n",
      "Notes:\n",
      "[1] Standard Errors assume that the covariance matrix of the errors is correctly specified.\n",
      "[2] The condition number is large, 4.66e+03. This might indicate that there are\n",
      "strong multicollinearity or other numerical problems.\n",
      "Pvalues :\n",
      " const               3.803719e-01\n",
      "cement              1.897989e-41\n",
      "slag                1.598993e-23\n",
      "flyash              5.019648e-12\n",
      "water               2.008798e-04\n",
      "superplasticizer    1.810241e-03\n",
      "coarseaggregate     5.442481e-02\n",
      "fineaggregate       5.949075e-02\n",
      "age                 5.782491e-82\n",
      "dtype: float64\n"
     ]
    }
   ],
   "source": [
    "X_opti = X.drop(labels=[\"coarseaggregate\", \"fineaggregate\"],axis=1)\n",
    "Xm_opti = sm.add_constant(X_opti)\n",
    "results_opti = sm.OLS(y,Xm_opti).fit()\n",
    "print(results_opti.summary())\n",
    "print(\"Pvalues :\\n\", results.pvalues)"
   ]
  },
  {
   "cell_type": "markdown",
   "metadata": {},
   "source": [
    "Comments"
   ]
  },
  {
   "cell_type": "markdown",
   "metadata": {},
   "source": [
    "\n",
    "5)\tWhich are the three most significant factors determining the $CCS$? Justify you answer with the stats reported by the regression. Show the dependence between the $CCS$ and each factor one one graph of type \"scatterplot\". \n"
   ]
  },
  {
   "cell_type": "code",
   "execution_count": 6,
   "metadata": {
    "scrolled": false
   },
   "outputs": [
    {
     "name": "stdout",
     "output_type": "stream",
     "text": [
      "cement\n"
     ]
    },
    {
     "data": {
      "image/png": "[encoded data removed]",
      "text/plain": [
       "<Figure size 432x288 with 1 Axes>"
      ]
     },
     "metadata": {
      "needs_background": "light"
     },
     "output_type": "display_data"
    },
    {
     "name": "stdout",
     "output_type": "stream",
     "text": [
      "slag\n"
     ]
    },
    {
     "data": {
      "image/png": "[encoded data removed]",
      "text/plain": [
       "<Figure size 432x288 with 1 Axes>"
      ]
     },
     "metadata": {
      "needs_background": "light"
     },
     "output_type": "display_data"
    },
    {
     "name": "stdout",
     "output_type": "stream",
     "text": [
      "flyash\n"
     ]
    },
    {
     "data": {
      "image/png": "[encoded data removed]",
      "text/plain": [
       "<Figure size 432x288 with 1 Axes>"
      ]
     },
     "metadata": {
      "needs_background": "light"
     },
     "output_type": "display_data"
    },
    {
     "name": "stdout",
     "output_type": "stream",
     "text": [
      "water\n"
     ]
    },
    {
     "data": {
      "image/png": "[encoded data removed]",
      "text/plain": [
       "<Figure size 432x288 with 1 Axes>"
      ]
     },
     "metadata": {
      "needs_background": "light"
     },
     "output_type": "display_data"
    },
    {
     "name": "stdout",
     "output_type": "stream",
     "text": [
      "superplasticizer\n"
     ]
    },
    {
     "data": {
      "image/png": "[encoded data removed]",
      "text/plain": [
       "<Figure size 432x288 with 1 Axes>"
      ]
     },
     "metadata": {
      "needs_background": "light"
     },
     "output_type": "display_data"
    },
    {
     "name": "stdout",
     "output_type": "stream",
     "text": [
      "coarseaggregate\n"
     ]
    },
    {
     "data": {
      "image/png": "[encoded data removed]",
      "text/plain": [
       "<Figure size 432x288 with 1 Axes>"
      ]
     },
     "metadata": {
      "needs_background": "light"
     },
     "output_type": "display_data"
    },
    {
     "name": "stdout",
     "output_type": "stream",
     "text": [
      "fineaggregate\n"
     ]
    },
    {
     "data": {
      "image/png": "[encoded data removed]",
      "text/plain": [
       "<Figure size 432x288 with 1 Axes>"
      ]
     },
     "metadata": {
      "needs_background": "light"
     },
     "output_type": "display_data"
    },
    {
     "name": "stdout",
     "output_type": "stream",
     "text": [
      "age\n"
     ]
    },
    {
     "data": {
      "image/png": "[encoded data removed]",
      "text/plain": [
       "<Figure size 432x288 with 1 Axes>"
      ]
     },
     "metadata": {
      "needs_background": "light"
     },
     "output_type": "display_data"
    }
   ],
   "source": [
    "for column in X.columns:\n",
    "    print(column)\n",
    "    plt.scatter(X[column],y)\n",
    "    plt.show()"
   ]
  },
  {
   "cell_type": "markdown",
   "metadata": {},
   "source": [
    "Sur base des résultats de la régression effectuée, nous pouvons choisir, comme facteurs les plus pertinents, ceux qui ont la pvalue la plus grande. Les trois facteurs les plus pertinents sont donc : \"age\", \"cement\" et \"slag\". Les dépendances entre chaque variablee et la $CCS$ peuvent être examinées grâces aux différents scatterplots ci-dessus nous permettant ainsi d'observer les relations liant la $CCS$ et les trois facteurs les plus pertinents cités ci-dessus. "
   ]
  },
  {
   "cell_type": "markdown",
   "metadata": {},
   "source": [
    "## Statistical tests\n",
    "\n",
    "Download the file “CO2_emissions_Canada.csv” and read the Data Description excel file. This dataset captures the details of how $CO_2$ emissions by a vehicle can vary with the different features. The dataset has been taken from Canada Government official open data website. This is a compiled version. This contains data over a period of 7 years. There are 7385 rows and 12 columns. Some abbreviations have been used to describe the features. The Data Description file contains some information regarding these.\n",
    "\n",
    "REMARK : before running your analyses, remove from the data the vehicle propelled by natural gas. Indeed, there only one observation in that categoy and this would distort your analyses. "
   ]
  },
  {
   "cell_type": "code",
   "execution_count": 7,
   "metadata": {},
   "outputs": [
    {
     "data": {
      "text/html": [
       "<div>\n",
       "<style scoped>\n",
       "    .dataframe tbody tr th:only-of-type {\n",
       "        vertical-align: middle;\n",
       "    }\n",
       "\n",
       "    .dataframe tbody tr th {\n",
       "        vertical-align: top;\n",
       "    }\n",
       "\n",
       "    .dataframe thead th {\n",
       "        text-align: right;\n",
       "    }\n",
       "</style>\n",
       "<table border=\"1\" class=\"dataframe\">\n",
       "  <thead>\n",
       "    <tr style=\"text-align: right;\">\n",
       "      <th></th>\n",
       "      <th>Engine Size(L)</th>\n",
       "      <th>Cylinders</th>\n",
       "      <th>Fuel Consumption City (L/100 km)</th>\n",
       "      <th>Fuel Consumption Hwy (L/100 km)</th>\n",
       "      <th>Fuel Consumption Comb (L/100 km)</th>\n",
       "      <th>Fuel Consumption Comb (mpg)</th>\n",
       "      <th>CO2 Emissions(g/km)</th>\n",
       "    </tr>\n",
       "  </thead>\n",
       "  <tbody>\n",
       "    <tr>\n",
       "      <th>count</th>\n",
       "      <td>7384.000000</td>\n",
       "      <td>7384.000000</td>\n",
       "      <td>7384.000000</td>\n",
       "      <td>7384.000000</td>\n",
       "      <td>7384.000000</td>\n",
       "      <td>7384.000000</td>\n",
       "      <td>7384.000000</td>\n",
       "    </tr>\n",
       "    <tr>\n",
       "      <th>mean</th>\n",
       "      <td>3.160008</td>\n",
       "      <td>5.614978</td>\n",
       "      <td>12.556176</td>\n",
       "      <td>9.041644</td>\n",
       "      <td>10.974837</td>\n",
       "      <td>27.482394</td>\n",
       "      <td>250.589789</td>\n",
       "    </tr>\n",
       "    <tr>\n",
       "      <th>std</th>\n",
       "      <td>1.354252</td>\n",
       "      <td>1.828425</td>\n",
       "      <td>3.500376</td>\n",
       "      <td>2.224601</td>\n",
       "      <td>2.892633</td>\n",
       "      <td>7.232088</td>\n",
       "      <td>58.515007</td>\n",
       "    </tr>\n",
       "    <tr>\n",
       "      <th>min</th>\n",
       "      <td>0.900000</td>\n",
       "      <td>3.000000</td>\n",
       "      <td>4.200000</td>\n",
       "      <td>4.000000</td>\n",
       "      <td>4.100000</td>\n",
       "      <td>11.000000</td>\n",
       "      <td>96.000000</td>\n",
       "    </tr>\n",
       "    <tr>\n",
       "      <th>25%</th>\n",
       "      <td>2.000000</td>\n",
       "      <td>4.000000</td>\n",
       "      <td>10.100000</td>\n",
       "      <td>7.500000</td>\n",
       "      <td>8.900000</td>\n",
       "      <td>22.000000</td>\n",
       "      <td>208.000000</td>\n",
       "    </tr>\n",
       "    <tr>\n",
       "      <th>50%</th>\n",
       "      <td>3.000000</td>\n",
       "      <td>6.000000</td>\n",
       "      <td>12.100000</td>\n",
       "      <td>8.700000</td>\n",
       "      <td>10.600000</td>\n",
       "      <td>27.000000</td>\n",
       "      <td>246.000000</td>\n",
       "    </tr>\n",
       "    <tr>\n",
       "      <th>75%</th>\n",
       "      <td>3.700000</td>\n",
       "      <td>6.000000</td>\n",
       "      <td>14.600000</td>\n",
       "      <td>10.200000</td>\n",
       "      <td>12.600000</td>\n",
       "      <td>32.000000</td>\n",
       "      <td>288.000000</td>\n",
       "    </tr>\n",
       "    <tr>\n",
       "      <th>max</th>\n",
       "      <td>8.400000</td>\n",
       "      <td>16.000000</td>\n",
       "      <td>30.600000</td>\n",
       "      <td>20.600000</td>\n",
       "      <td>26.100000</td>\n",
       "      <td>69.000000</td>\n",
       "      <td>522.000000</td>\n",
       "    </tr>\n",
       "  </tbody>\n",
       "</table>\n",
       "</div>"
      ],
      "text/plain": [
       "       Engine Size(L)    Cylinders  Fuel Consumption City (L/100 km)  \\\n",
       "count     7384.000000  7384.000000                       7384.000000   \n",
       "mean         3.160008     5.614978                         12.556176   \n",
       "std          1.354252     1.828425                          3.500376   \n",
       "min          0.900000     3.000000                          4.200000   \n",
       "25%          2.000000     4.000000                         10.100000   \n",
       "50%          3.000000     6.000000                         12.100000   \n",
       "75%          3.700000     6.000000                         14.600000   \n",
       "max          8.400000    16.000000                         30.600000   \n",
       "\n",
       "       Fuel Consumption Hwy (L/100 km)  Fuel Consumption Comb (L/100 km)  \\\n",
       "count                      7384.000000                       7384.000000   \n",
       "mean                          9.041644                         10.974837   \n",
       "std                           2.224601                          2.892633   \n",
       "min                           4.000000                          4.100000   \n",
       "25%                           7.500000                          8.900000   \n",
       "50%                           8.700000                         10.600000   \n",
       "75%                          10.200000                         12.600000   \n",
       "max                          20.600000                         26.100000   \n",
       "\n",
       "       Fuel Consumption Comb (mpg)  CO2 Emissions(g/km)  \n",
       "count                  7384.000000          7384.000000  \n",
       "mean                     27.482394           250.589789  \n",
       "std                       7.232088            58.515007  \n",
       "min                      11.000000            96.000000  \n",
       "25%                      22.000000           208.000000  \n",
       "50%                      27.000000           246.000000  \n",
       "75%                      32.000000           288.000000  \n",
       "max                      69.000000           522.000000  "
      ]
     },
     "execution_count": 7,
     "metadata": {},
     "output_type": "execute_result"
    }
   ],
   "source": [
    "data = pd.read_csv(\"CO2_emissions_Canada.csv\")\n",
    "\n",
    "row_to_remove = [x for x in range(data.shape[0]) if data[\"Fuel Type\"][x] == \"N\"]\n",
    "data.drop(row_to_remove, inplace=True)\n",
    "\n",
    "data.describe()"
   ]
  },
  {
   "cell_type": "markdown",
   "metadata": {},
   "source": [
    "---\n",
    "1)\tCan you conclude that the average $CO_2$ emission is below $300g/Km$? To do this, perform a one-sided test for a confidence level of 95% ($\\alpha$=5%). Write clearly the tested assumptions and report the statistics, critical value and the p-value. What is your conclusion ?\n",
    "\n",
    "---"
   ]
  },
  {
   "cell_type": "code",
   "execution_count": 8,
   "metadata": {},
   "outputs": [
    {
     "name": "stdout",
     "output_type": "stream",
     "text": [
      "moyenne = 250.58978873239437\n",
      "variance = 3424.0060233063014\n",
      "t_obs = -72.55966932582064\n",
      "percentile 5% = -1.6450600418948351\n",
      "p-value = 0.0\n"
     ]
    }
   ],
   "source": [
    "dataCO2 = data[\"CO2 Emissions(g/km)\"].values\n",
    "n = len(dataCO2)\n",
    "\n",
    "# descriptive analysis\n",
    "mean = sc.describe(dataCO2).mean\n",
    "variance = sc.describe(dataCO2).variance\n",
    "print(\"moyenne =\", mean)\n",
    "print(\"variance =\", variance)\n",
    "\n",
    "# hypothesis\n",
    "# H0 mu = 300 g/km\n",
    "# H1 mu < 300 g/km\n",
    "Tx = (mean - 300)/np.sqrt(variance/n)\n",
    "alpha = 0.05\n",
    "t_low = sc.t.ppf(q=alpha,df=n-1)\n",
    "pval = (sc.t.cdf(Tx,df=n-1))\n",
    "\n",
    "print(\"t_obs =\", Tx)\n",
    "print(\"percentile 5% =\",t_low)\n",
    "print(\"p-value =\", pval)"
   ]
  },
  {
   "cell_type": "markdown",
   "metadata": {},
   "source": [
    "On teste l'hypothèse $H_0 : \\mu_{CO2} = 300 g/km$, contre l'hypothèse alternative $H_1 : \\mu_{CO2} < 300 g/km$, où $\\mu_{CO2}$ et la moyenne des émissions de $CO_2$.  \n",
    "Etant donné que $t_{obs} < t_{5\\%}$, on rejette l'hypothèse $H_0$ et on accepte donc $H_1$. On remarque que la p-value est nulle (ou du moins très faible), cela peut donc être fait avec une grande certitude. Cela est compréhensible car $t_{obs}$ est largement inférieur à la valeur critique $t_{5\\%}$.  \n",
    "En conclusion, on accepte l'hypothèse que la moyenne des émissions de $CO_2$ est inférieure à $300 g/km$. Le contraire serait extrêmement surprenant."
   ]
  },
  {
   "cell_type": "markdown",
   "metadata": {},
   "source": [
    "---\n",
    "2)\tWe want to determine the influence of the type of fuel on the $CO_2$ emission. We denote by $\\mu_X$, $\\mu_Z$, $\\mu_D$, $\\mu_E$ the expected $CO_2$ emissions for regular, premium gasoline, diesel and ethanol. Perform one single test for the following assumption\n",
    "\n",
    "$H_0$ : $\\mu_X = \\mu_Z = \\mu_D = \\mu_E$\n",
    "\n",
    "With $H_1$ : at least two of these means are different. \n",
    "\n",
    "This type of analysis is also called Analysis of Variance or ANOVA.\n",
    "\n",
    "---\n"
   ]
  },
  {
   "cell_type": "code",
   "execution_count": 9,
   "metadata": {},
   "outputs": [
    {
     "name": "stdout",
     "output_type": "stream",
     "text": [
      "F_star = 198.44550602223705\n",
      "p_value = 8.858263862098714e-124\n",
      "Vérif : F_onewayResult(statistic=198.44550602223688, pvalue=8.858263862102743e-124)\n"
     ]
    }
   ],
   "source": [
    "# separate the data\n",
    "dataCO2_by_fuel_type = dict()\n",
    "for type in [\"X\", \"Z\", \"D\", \"E\"]:\n",
    "    dataCO2_by_fuel_type[type] = data[data[\"Fuel Type\"].str.match(type)][\"CO2 Emissions(g/km)\"].values\n",
    "\n",
    "# perform the test\n",
    "mu = np.average(dataCO2)\n",
    "k = 3\n",
    "\n",
    "SSR = np.sum([dataCO2_by_fuel_type[t].size*np.power(np.average(dataCO2_by_fuel_type[t]) - mu, 2) for t in [\"X\", \"Z\", \"D\", \"E\"]])\n",
    "MSR = SSR/k\n",
    "\n",
    "SSE = np.sum([np.sum(np.power(dataCO2_by_fuel_type[t]-np.average(dataCO2_by_fuel_type[t]),2)) for t in [\"X\", \"Z\", \"D\", \"E\"]])\n",
    "MSE = SSE/(n - k - 1)\n",
    "\n",
    "F_star = MSR/MSE\n",
    "p_value = sc.f.sf(F_star, k, n - k - 1) # more accurate than 1 - cfd\n",
    "\n",
    "# verification\n",
    "result = sc.f_oneway(*(dataCO2_by_fuel_type[t] for t in [\"X\", \"Z\", \"D\", \"E\"]))\n",
    "\n",
    "print(\"F_star =\", F_star)\n",
    "print(\"p_value =\", p_value)\n",
    "print(\"Vérif :\", result) # ok"
   ]
  },
  {
   "cell_type": "markdown",
   "metadata": {},
   "source": [
    "L'émission de CO2 est une variable aléatoire dénotée par $Y$. On définit 3 variables binaires $X_1$, $X_2$ et $X_3$ qui valent 1 si le type de carburant est respectivement regular, premium gasoline, ou diesel, et 0 sinon. On peut alors exprimer $Y$ comme suit :\n",
    "$$ Y = \\beta_0 + \\beta_1 X_1 + \\beta_2 X_2 + \\beta_3 X_3 + \\epsilon $$\n",
    "où $\\epsilon \\sim \\mathcal{N}(0, \\sigma^2)$. Dans ce modèle, on a $\\mu_X = \\beta_0 + \\beta_1$, $\\mu_Z = \\beta_0 + \\beta_2$, $\\mu_D = \\beta_0 + \\beta_3$ et $\\mu_E = \\beta_0$. L'hypothèse nulle et l'hypothèse alternative deviennent ainsi\n",
    "$$\n",
    "H_0 : \\beta_1 = \\beta_2 = \\beta_3 = 0\\\\\n",
    "H_1 : \\exists j \\textrm{ tel que } \\beta_j \\ne 0\n",
    "$$\n",
    "Ce qui peut se vérifier avec un F-test comme effectué ci-dessus.  \n",
    "\n",
    "Comme la p-valeur est plus petite que $5\\%$, on se doit de rejeter l'hypothèse $H_0$. On conclut en disant que les moyennes de consommation sont très probablement différentes en fonction du type de carburant utilisé (regular, premium gasoline ou diesel)."
   ]
  },
  {
   "cell_type": "markdown",
   "metadata": {},
   "source": [
    "---\n",
    "3)\tUnder the assumption of equal variances, test if the $CO_2$ emissions are on average equal for vehicles fuelled by regular gasoline (X) or diesel (D) : $\\mu_X  = \\mu_D$ (use a two-sided test and a confidence level of 95%, i.e. $\\alpha$=5% ). Report the statistics, critical values and the p-value.\n",
    "\n",
    "---"
   ]
  },
  {
   "cell_type": "code",
   "execution_count": 10,
   "metadata": {},
   "outputs": [
    {
     "name": "stdout",
     "output_type": "stream",
     "text": [
      "T_observé : -0.552797849020187\n",
      "Borne des 2.5% de la Student T :  -1.9605868223929892\n",
      "Borne des 97.5% de la Student T :  1.9605868223929888\n",
      "Pval =  0.5804102096689643\n",
      "Vérification : \n",
      "T_observé_sw : -0.552797849020187\n",
      "p_value_sw : 0.5804342718803002\n"
     ]
    }
   ],
   "source": [
    "Xb = np.mean(dataCO2_by_fuel_type[\"X\"])\n",
    "Db = np.mean(dataCO2_by_fuel_type[\"D\"])\n",
    "nX = len(dataCO2_by_fuel_type[\"X\"])\n",
    "nD = len(dataCO2_by_fuel_type[\"D\"])\n",
    "SX = np.std(dataCO2_by_fuel_type[\"X\"], ddof=1)\n",
    "SD = np.std(dataCO2_by_fuel_type[\"D\"], ddof=1)\n",
    "\n",
    "Spool = np.sqrt(((nX-1)*SX**2+(nD-1)*SD**2)/(nX+nD-2))\n",
    "Tx = (Xb - Db) / (Spool * np.sqrt(1 / nX + 1 / nD))\n",
    "print(\"T_observé :\", Tx)\n",
    "\n",
    "#bornes de la student T pour l'interval de confiance [5%;95%]\n",
    "t_0025 = sc.t.ppf(q=alpha / 2, df=nX + nD - 2)\n",
    "t_0975 = sc.t.ppf(q=1 - alpha / 2, df=nX + nD - 2)\n",
    "print(\"Borne des 2.5% de la Student T : \", t_0025 )\n",
    "print(\"Borne des 97.5% de la Student T : \", t_0975 )\n",
    "\n",
    "pval_X_and_D = 2 * sc.t.cdf(-np.abs(Tx), df=n + n - 2)\n",
    "print(\"Pval = \", pval_X_and_D )\n",
    "\n",
    "print(\"Vérification : \")\n",
    "X1    = sw.DescrStatsW(dataCO2_by_fuel_type[\"X\"])\n",
    "X2    = sw.DescrStatsW(dataCO2_by_fuel_type[\"D\"])\n",
    "Ttest= sw.CompareMeans(X1,X2)\n",
    "print(\"T_observé_sw :\", Ttest.ttest_ind(usevar='pooled',value=0)[0])\n",
    "print(\"p_value_sw :\", Ttest.ttest_ind(usevar='pooled',value=0)[1])"
   ]
  },
  {
   "cell_type": "markdown",
   "metadata": {},
   "source": [
    "Comment"
   ]
  },
  {
   "cell_type": "markdown",
   "metadata": {},
   "source": [
    "---\n",
    "4) The test in question 3 is performed under the assumption of equal variances. Test this assumption with a confidence level of 95% (two-sided test, $\\alpha$=5%). Report the values of statistics and the critical values. What is your conclusion ? \n",
    "\n",
    "---"
   ]
  },
  {
   "cell_type": "code",
   "execution_count": 11,
   "metadata": {},
   "outputs": [
    {
     "name": "stdout",
     "output_type": "stream",
     "text": [
      "1.8841944291806993 0.8146435580419182 1.2540468186401958\n",
      "p_value : 1.72593548120048e-07\n",
      "BartlettResult(statistic=27.63550067535642, pvalue=1.4646582521965326e-07)\n"
     ]
    }
   ],
   "source": [
    "X1 = dataCO2_by_fuel_type[\"X\"]\n",
    "X2 = dataCO2_by_fuel_type[\"D\"]\n",
    "S1 = np.std(X1, ddof = 1)\n",
    "S2 = np.std(X2, ddof = 1)\n",
    "\n",
    "Tx = (S1**2)/(S2**2)\n",
    "\n",
    "alpha = 0.05\n",
    "f_u = sc.f.ppf(1-alpha/2, dfn = X1.size - 1, dfd = X2.size - 1)\n",
    "f_l = sc.f.ppf(alpha/2, dfn = X1.size - 1, dfd = X2.size - 1)\n",
    "\n",
    "print(Tx, f_l, f_u)\n",
    "\n",
    "pval = 2*(1 - sc.f.cdf(Tx, dfn = X1.size - 1, dfd = X2.size - 1))\n",
    "print(\"p_value :\", pval)\n",
    "\n",
    "print(sc.bartlett(X1, X2))"
   ]
  },
  {
   "cell_type": "markdown",
   "metadata": {},
   "source": [
    "Comment"
   ]
  },
  {
   "cell_type": "markdown",
   "metadata": {},
   "source": [
    "---\n",
    "5)\tWhich is the greenest fuel, i.e. the one producing the least $CO_2$ emissions ? Answer this question using a regression, in which you may include other variables than fuel type. Justify your procedure and conclude. \n",
    "\n",
    "---"
   ]
  },
  {
   "cell_type": "code",
   "execution_count": 12,
   "metadata": {},
   "outputs": [
    {
     "name": "stdout",
     "output_type": "stream",
     "text": [
      "                            OLS Regression Results                            \n",
      "==============================================================================\n",
      "Dep. Variable:                      y   R-squared:                       0.977\n",
      "Model:                            OLS   Adj. R-squared:                  0.977\n",
      "Method:                 Least Squares   F-statistic:                 1.028e+05\n",
      "Date:                Sun, 14 Nov 2021   Prob (F-statistic):               0.00\n",
      "Time:                        18:30:54   Log-Likelihood:                -336.58\n",
      "No. Observations:                7384   AIC:                             681.2\n",
      "Df Residuals:                    7380   BIC:                             708.8\n",
      "Df Model:                           3                                         \n",
      "Covariance Type:            nonrobust                                         \n",
      "==============================================================================\n",
      "                 coef    std err          t      P>|t|      [0.025      0.975]\n",
      "------------------------------------------------------------------------------\n",
      "const         16.3185      0.013   1239.092      0.000      16.293      16.344\n",
      "X              6.9978      0.014    506.233      0.000       6.971       7.025\n",
      "Z              6.9728      0.014    501.290      0.000       6.946       7.000\n",
      "D             10.5677      0.023    454.700      0.000      10.522      10.613\n",
      "==============================================================================\n",
      "Omnibus:                     3918.461   Durbin-Watson:                   0.730\n",
      "Prob(Omnibus):                  0.000   Jarque-Bera (JB):           405024.018\n",
      "Skew:                          -1.605   Prob(JB):                         0.00\n",
      "Kurtosis:                      39.141   Cond. No.                         11.8\n",
      "==============================================================================\n",
      "\n",
      "Notes:\n",
      "[1] Standard Errors assume that the covariance matrix of the errors is correctly specified.\n"
     ]
    }
   ],
   "source": [
    "dataCO2_fuelType = dict()\n",
    "\n",
    "for t in [\"X\", \"Z\", \"D\"]:\n",
    "    dataCO2_fuelType[t] = list()\n",
    "            \n",
    "for i in data[\"Fuel Type\"]:\n",
    "    if i == \"X\":\n",
    "        dataCO2_fuelType[i].append(1) \n",
    "    if i == \"Z\":\n",
    "        dataCO2_fuelType[i].append(1)\n",
    "    if i == \"D\":\n",
    "        dataCO2_fuelType[i].append(1) \n",
    "    \n",
    "    for o in [\"X\", \"Z\", \"D\"]:\n",
    "        if (i != o):\n",
    "            dataCO2_fuelType[o].append(0)\n",
    "            \n",
    "X = pd.DataFrame(data=dataCO2_fuelType) \n",
    "Xm = sm.add_constant(X)\n",
    "\n",
    "y = (data[\"CO2 Emissions(g/km)\"]/data[\"Fuel Consumption Comb (L/100 km)\"]).values.reshape(-1,1)\n",
    "\n",
    "results = sm.OLS(y,Xm).fit()\n",
    "\n",
    "print(results.summary())"
   ]
  },
  {
   "cell_type": "markdown",
   "metadata": {},
   "source": [
    "Nous considérons ici une régression linéaire semblable à celle du point 2. \n",
    "\n",
    "$$ Y = \\beta_0 + \\beta_1 X_1 + \\beta_2 X_2 + \\beta_3 X_3 + \\epsilon $$\n",
    "\n",
    "Mais cette fois-ci $Y$ représente l'émission de $CO_2$ par consommation de carburant.\n",
    "\n",
    "L'émission moyenne de $CO_2$ par consommation des véhicules avec le carburant X, Z, D et E est donc respectivement égale à $\\beta_0 + \\beta_1$, $\\beta_0 + \\beta_2$, $\\beta_0 + \\beta_3$ et $\\beta_0$.\n",
    "\n",
    "On trouve alors,\n",
    "\n",
    "Pour le carburant X : $\\beta_0 + \\beta_1 = 23.3163$  \n",
    "Pour le carburant Z : $\\beta_0 + \\beta_2 = 23.2913$  \n",
    "Pour le carburant D : $\\beta_0 + \\beta_3 = 26.8862$  \n",
    "Pour le carburant E : $\\beta_0 = 16.3185$\n",
    "\n",
    "Le carburant produisant le moins de $CO_2$ est ainsi l'éthanol E85 (E)."
   ]
  }
 ],
 "metadata": {
  "interpreter": {
   "hash": "ba05a6ce37f0793115f1bacb57b7c2fc706f1478b985e37f038cb93f22ad5181"
  },
  "kernelspec": {
   "display_name": "lepl1109",
   "language": "python",
   "name": "python3"
  },
  "language_info": {
   "codemirror_mode": {
    "name": "ipython",
    "version": 3
   },
   "file_extension": ".py",
   "mimetype": "text/x-python",
   "name": "python",
   "nbconvert_exporter": "python",
   "pygments_lexer": "ipython3",
   "version": "3.8.10"
  }
 },
 "nbformat": 4,
 "nbformat_minor": 4
}
