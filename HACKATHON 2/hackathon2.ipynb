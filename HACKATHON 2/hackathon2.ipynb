{
 "cells": [
  {
   "cell_type": "markdown",
   "metadata": {},
   "source": [
    "# Hackathon 2\n",
    "\n",
    "\n",
    "## Report content\n",
    "\n",
    "•\tYou have to fill in this  jupyter notebook downloadable on the moodle website of the course\n",
    "\n",
    "•\tGrades are granted to the members whose names are in the Jupyter notebook. If your name doesn’t appear on the top of the notebook, you’ll get a 0, even though you are in a group on Moodle.\n",
    "\n",
    "•\tThe jupyter notebook must be compiled with printed results and next submitted via moodle. The absence of compiled results (or non-printed values) leads to a lower grade.\n",
    "\n",
    "## Report submission\n",
    "\n",
    "•\tThe deadline for submission is reported on the moodle website. Submission after the deadline will not be accepted.\n",
    "\n",
    "•\tTo submit your report, go to the section “APP” on Moodle and the subsection “Soumission du rapport”. You can upload your work there. Once you are sure that it is your final version, click the button “Envoyer le devoir”. It is important that you don’t forget to click on this button ! \n",
    "\n",
    "•\tReports that have not been uploaded through Moodle will not be corrected.\n",
    "\n",
    "## Names and Noma of participants:\n",
    "\n",
    "Part. 1: Simon Delvaux 54091900\n",
    "\n",
    "Part. 2: Cédric Ponsard 10721900\n",
    "\n",
    "Part. 3: Baptiste Sambon 09781900\n",
    "\n",
    "Part. 4: Eliott Van Dieren 09731900\n",
    "\n",
    "Part. 5: Romain Van Hauwaert 45081900\n",
    "\n",
    "Part. 6: Maxime Vanliefde 16991900\n",
    "\n",
    "## Regression\n",
    "\n",
    "Concrete is the most important material in civil engineering. The concrete compressive strength is a a function of many factors such as age and ingredients. Download the file “concrete.csv” from the moodle website.  We aim to regress the concrete compressive strength (CCS) as a function of several variables:\n",
    "\n",
    "Cement -- quantitative -- kg in a m3 mixture -- Input Variable\n",
    "\n",
    "Blast Furnace Slag -- quantitative -- kg in a m3 mixture -- Input Variable\n",
    "\n",
    "Fly Ash   -- quantitative -- kg in a m3 mixture -- Input Variable\n",
    "\n",
    "Water   -- quantitative -- kg in a m3 mixture -- Input Variable\n",
    "\n",
    "Superplasticizer   -- quantitative -- kg in a m3 mixture -- Input Variable\n",
    "\n",
    "Coarse Aggregate   -- quantitative -- kg in a m3 mixture -- Input Variable\n",
    "\n",
    "Fine Aggregate  -- quantitative -- kg in a m3 mixture -- Input Variable\n",
    "\n",
    "Age -- quantitative -- Day (1~365) -- Input Variable\n",
    "\n",
    "Concrete compressive strength -- quantitative -- MPa -- Output Variable\n"
   ]
  },
  {
   "cell_type": "markdown",
   "metadata": {},
   "source": [
    "---\n",
    "1) Report useful statistics for each variables (mean, std, percentiles, etc)\n",
    "\n",
    "---"
   ]
  },
  {
   "cell_type": "code",
   "execution_count": null,
   "metadata": {},
   "outputs": [],
   "source": [
    "import scipy.stats as sc\n",
    "import pandas as pd\n",
    "import numpy as np\n",
    "import random\n",
    "import matplotlib.pyplot as plt\n",
    "import seaborn as sb\n",
    "import statsmodels.api as sm"
   ]
  },
  {
   "cell_type": "code",
   "execution_count": null,
   "metadata": {},
   "outputs": [],
   "source": [
    "data = pd.read_csv(\"concrete.csv\")\n",
    "data.describe()"
   ]
  },
  {
   "cell_type": "markdown",
   "metadata": {},
   "source": [
    "---\n",
    "2)\tA data analysis always starts with a visualization of correlations. Compute the matrix of correlation between all variables and use the package seaborn to plot what is called a heatmap of correlation (command seaborn.heatmap(.) ). Draw some conclusions from this map about the factors influencing the $CCS$.\n",
    "\n",
    "----"
   ]
  },
  {
   "cell_type": "code",
   "execution_count": null,
   "metadata": {},
   "outputs": [],
   "source": [
    "sb.heatmap(data.corr())\n",
    "data.corr()"
   ]
  },
  {
   "cell_type": "markdown",
   "metadata": {},
   "source": [
    "Nous observons grâce à la heatmap la corrélation entre la $CCS$ et les différentes variables du dataset. Ainsi, nous remarquons que la $CCS$ est positivement corrélée aux variables suivantes par ordre d'importance : \"cement\" (0.5), \"superplasticizer\" (0.366), \"age\" (0.33) et \"slage\" (0.13). Les autres variables, \"water\" (-0.29), \"fineaggregate\" (-0.167), \"coarseaggregate\" (-0.165) et \"flyash\" (-0.1) sont négativement corrélées avec la $CCS$. Les trois variables les plus corrélées avec la $CCS$ sont donc : \"cement\", \"superplasticizer\" et \"age\" et les trois les moins corrélées : \"flyash\", \"slage\" et \"coarseaggregate\". "
   ]
  },
  {
   "cell_type": "markdown",
   "metadata": {},
   "source": [
    "---\n",
    "3)\tAdd a constant term (intercept) and perform a linear regression of the variable $CCS$ on all other explanatory variables.\n",
    "i.\tReport the F statistics and $R^2$:  interpret them.\n",
    "ii.\tAnalyze the t-statistics and p-values of each coefficient of regression. Are all coefficients significant at 95%? \n",
    "Use the library statsmodels.api. The function OLS accepts pandas dataframe (use .drop() to remove columns).\n",
    "\n",
    "---"
   ]
  },
  {
   "cell_type": "code",
   "execution_count": null,
   "metadata": {},
   "outputs": [],
   "source": [
    "y = data[\"csMPa\"]\n",
    "X = data.drop(labels=\"csMPa\",axis=1)\n",
    "Xm = sm.add_constant(X)\n",
    "results = sm.OLS(y,Xm).fit()\n",
    "print(results.summary())"
   ]
  },
  {
   "cell_type": "markdown",
   "metadata": {},
   "source": [
    "Le coefficient de détermination $R^{2}$ nous permet de juger de la qualité de la régression linéaire. Ainsi, nous remarquons que l'approximation linéaire n'est pas excellente et est égale à 0.613 (valeur ajustée). Nous pouvons remarquer que les variables \"coarseaggregate\" et \"fineaggregate\" ne sont pas pertinentes à 95% (p-value supérieure à 5%) et seront donc retirées dans la prochaine étape. "
   ]
  },
  {
   "cell_type": "markdown",
   "metadata": {},
   "source": [
    "---\n",
    "4)\tRemove non-significant coefficients e.g. with $\\alpha = 5\\%$, except the intercept, and run again the regression. What do you notice when you compare the $R^2$, log-likelihood,  AIC and BIC (the AIC and BIC are not explained in the course, search on internet for explanations)\n",
    "\n",
    "\n",
    "---"
   ]
  },
  {
   "cell_type": "code",
   "execution_count": null,
   "metadata": {},
   "outputs": [],
   "source": [
    "#X_opti = data.loc[:, [\"coarseaggregate\", \"fineaggregate\"]]\n",
    "X_opti = X.drop(labels=[\"coarseaggregate\", \"fineaggregate\"],axis=1)\n",
    "Xm_opti = sm.add_constant(X_opti)\n",
    "results_opti = sm.OLS(y,Xm_opti).fit()\n",
    "print(results_opti.summary())"
   ]
  },
  {
   "cell_type": "markdown",
   "metadata": {},
   "source": [
    "Comments"
   ]
  },
  {
   "cell_type": "markdown",
   "metadata": {},
   "source": [
    "\n",
    "5)\tWhich are the three most significant factors determining the $CCS$? Justify you answer with the stats reported by the regression. Show the dependence between the $CCS$ and each factor one one graph of type \"scatterplot\". \n"
   ]
  },
  {
   "cell_type": "code",
   "execution_count": null,
   "metadata": {
    "scrolled": false
   },
   "outputs": [],
   "source": [
    "for column in X.columns:\n",
    "    print(column)\n",
    "    plt.scatter(X[column],y)\n",
    "    plt.show()"
   ]
  },
  {
   "cell_type": "markdown",
   "metadata": {},
   "source": [
    "Comments"
   ]
  },
  {
   "cell_type": "markdown",
   "metadata": {},
   "source": [
    "## Statistical tests\n",
    "\n",
    "Download the file “CO2_emissions_Canada.csv” and read the Data Description excel file. This dataset captures the details of how $CO_2$ emissions by a vehicle can vary with the different features. The dataset has been taken from Canada Government official open data website. This is a compiled version. This contains data over a period of 7 years. There are 7385 rows and 12 columns. Some abbreviations have been used to describe the features. The Data Description file contains some information regarding these.\n",
    "\n",
    "REMARK : before running your analyses, remove from the data the vehicle propelled by natural gas. Indeed, there only one observation in that categoy and this would distort your analyses. "
   ]
  },
  {
   "cell_type": "code",
   "execution_count": null,
   "metadata": {},
   "outputs": [],
   "source": [
    "data = pd.read_csv(\"CO2_emissions_Canada.csv\")\n",
    "\n",
    "row_to_remove = [x for x in range(data.shape[0]) if data[\"Fuel Type\"][x] == \"N\"]\n",
    "data.drop(row_to_remove, inplace=True)\n",
    "\n",
    "data.describe()"
   ]
  },
  {
   "cell_type": "markdown",
   "metadata": {},
   "source": [
    "---\n",
    "1)\tCan you conclude that the average $CO_2$ emission is below $300g/Km$? To do this, perform a one-sided test for a confidence level of 95% ($\\alpha$=5%). Write clearly the tested assumptions and report the statistics, critical value and the p-value. What is your conclusion ?\n",
    "\n",
    "---"
   ]
  },
  {
   "cell_type": "code",
   "execution_count": null,
   "metadata": {},
   "outputs": [],
   "source": [
    "dataCO2 = data[\"CO2 Emissions(g/km)\"].values\n",
    "n = len(dataCO2)\n",
    "\n",
    "# descriptive analysis\n",
    "mean = sc.describe(dataCO2).mean\n",
    "variance = sc.describe(dataCO2).variance\n",
    "print(\"moyenne =\", mean)\n",
    "print(\"variance =\", variance)\n",
    "\n",
    "# hypothesis\n",
    "# H0 mu < 300 g/km\n",
    "# H1 mu >= 300 g/km\n",
    "Tx = (mean - 300)/np.sqrt(variance/n)\n",
    "alpha = 0.05\n",
    "t_low = sc.t.ppf(q=alpha,df=n-1)\n",
    "pval = (sc.t.cdf(Tx,df=n-1))\n",
    "\n",
    "print(\"t_obs =\", Tx)\n",
    "print(\"percentile 5% =\",t_low)\n",
    "print(\"p-value =\", pval)"
   ]
  },
  {
   "cell_type": "markdown",
   "metadata": {},
   "source": [
    "On teste l'hypothèse $H_0 : \\mu_{CO2} < 300 g/km$, contre l'hypothèse alternative $H_1 : \\mu_{CO2} \\ge 300 g/km$, où $\\mu_{CO2}$ et la moyenne des émissions de $CO_2$.  \n",
    "Etant donné que $t_{obs} < t_{5\\%}$, on rejette l'hypothèse $H_0$. On remarque que la p-value est nulle (ou du moins très faible), cela peut donc être fait avec une grande certitude. Cela est compréhensible car $t_{obs}$ est largement inférieur à la valeur critique $t_{5\\%}$.  \n",
    "En conclusion, on rejette l'hypothèse que la moyenne des émissions de $CO_2$ soit inférieure à $300 g/km$. Un tel évènement serait extrêmement surprenant.\n"
   ]
  },
  {
   "cell_type": "markdown",
   "metadata": {},
   "source": [
    "---\n",
    "2)\tWe want to determine the influence of the type of fuel on the $CO_2$ emission. We denote by $\\mu_X$, $\\mu_Z$, $\\mu_D$, $\\mu_E$ the expected $CO_2$ emissions for regular, premium gasoline, diesel and ethanol. Perform one single test for the following assumption\n",
    "\n",
    "$H_0$ : $\\mu_X = \\mu_Z = \\mu_D = \\mu_E$\n",
    "\n",
    "With $H_1$ : at least two of these means are different. \n",
    "\n",
    "This type of analysis is also called Analysis of Variance or ANOVA.\n",
    "\n",
    "---\n"
   ]
  },
  {
   "cell_type": "code",
   "execution_count": null,
   "metadata": {},
   "outputs": [],
   "source": [
    "# separate the data\n",
    "dataCO2_by_fuel_type = dict()\n",
    "for type in [\"X\", \"Z\", \"D\", \"E\"]:\n",
    "    dataCO2_by_fuel_type[type] = data[data[\"Fuel Type\"].str.match(type)][\"CO2 Emissions(g/km)\"].values\n",
    "\n",
    "# perform the test\n",
    "mu = np.average(dataCO2)\n",
    "k = 3\n",
    "\n",
    "SSR = np.sum([dataCO2_by_fuel_type[t].size*np.power(np.average(dataCO2_by_fuel_type[t]) - mu, 2) for t in [\"X\", \"Z\", \"D\", \"E\"]])\n",
    "MSR = SSR/k\n",
    "\n",
    "SSE = np.sum([np.sum(np.power(dataCO2_by_fuel_type[t]-np.average(dataCO2_by_fuel_type[t]),2)) for t in [\"X\", \"Z\", \"D\", \"E\"]])\n",
    "MSE = SSE/(n - k - 1)\n",
    "\n",
    "F_star = MSR/MSE\n",
    "p_value = sc.f.sf(F_star, k, n - k - 1) # more accurate than 1 - cfd\n",
    "\n",
    "# verification\n",
    "result = sc.f_oneway(dataCO2_by_fuel_type[\"X\"], dataCO2_by_fuel_type[\"Z\"], dataCO2_by_fuel_type[\"D\"], dataCO2_by_fuel_type[\"E\"])\n",
    "\n",
    "print(\"F_star =\", F_star)\n",
    "print(\"p_value =\", p_value)\n",
    "print(\"Vérif :\", result) # ok"
   ]
  },
  {
   "cell_type": "markdown",
   "metadata": {},
   "source": [
    "L'émission de CO2 est une variable aléatoire dénotée par $Y$. On définit 3 variables binaires $X_1$, $X_2$ et $X_3$ qui valent 1 si le type de carburant est respectivement regular, premium gasoline, ou diesel, et 0 sinon. On peut alors exprimer $Y$ comme suit :\n",
    "$$ Y = \\beta_0 + \\beta_1 X_1 + \\beta_2 X_2 + \\beta_3 X_3 + \\epsilon $$\n",
    "où $\\epsilon \\sim \\mathcal{N}(0, \\sigma^2)$. Dans ce modèle, on a $\\mu_X = \\beta_0 + \\beta_1$, $\\mu_Z = \\beta_0 + \\beta_2$, $\\mu_D = \\beta_0 + \\beta_3$ et $\\mu_E = \\beta_0$. L'hypothèse nulle et l'hypothèse alternative deviennent ainsi\n",
    "$$\n",
    "H_0 : \\beta_1 = \\beta_2 = \\beta 3 = 0\\\\\n",
    "H_1 : \\exists j \\textrm{ tel que } \\beta_j \\ne 0\n",
    "$$\n",
    "Ce qui peut se vérifier avec un F-test comme effectué ci-dessus.  \n",
    "\n",
    "Comme la p-valeur est plus petite que $5\\%$, on se doit de rejeter l'hypothèse $H_0$. On conclut en disant que les moyennes de consommation sont très probablement différentes en fonction du type de carburant utilisé (regular, premium gasoline ou diesel)."
   ]
  },
  {
   "cell_type": "markdown",
   "metadata": {},
   "source": [
    "---\n",
    "3)\tUnder the assumption of equal variances, test if the $CO_2$ emissions are on average equal for vehicles fuelled by regular gasoline (X) or diesel (D) : $\\mu_X  = \\mu_D$ (use a two-sided test and a confidence level of 95%, i.e. $\\alpha$=5% ). Report the statistics, critical values and the p-value.\n",
    "\n",
    "---"
   ]
  },
  {
   "cell_type": "code",
   "execution_count": null,
   "metadata": {},
   "outputs": [],
   "source": [
    "\n",
    "Xb = np.mean(dataCO2_by_fuel_type[\"X\"])\n",
    "Db = np.mean(dataCO2_by_fuel_type[\"D\"])\n",
    "nX = len(dataCO2_by_fuel_type[\"X\"])\n",
    "nD = len(dataCO2_by_fuel_type[\"D\"])\n",
    "SX = np.std(dataCO2_by_fuel_type[\"X\"], ddof=1)\n",
    "SD = np.std(dataCO2_by_fuel_type[\"D\"], ddof=1)\n",
    "SXB = (SX+SD)/2 #on estime que les variances sont égales\n",
    "# en réalitées elles ne le sont pas donc on prend la moyenne\n",
    "\n",
    "Tx = (Xb - Db) / (SXB * np.sqrt(1 / nX + 1 / nD))\n",
    "\n",
    "#bornes de la student T pour l'interval de confiance [5%;95%]\n",
    "t_5 = sc.t.ppf(q=alpha / 2, df=nX + nD - 2)\n",
    "t_95 = sc.t.ppf(q=1 - alpha / 2, df=nX + nD - 2)\n",
    "print(\"borne des 5% de la Student T : \", t_5 )\n",
    "print(\"borne des 95% de la Student T : \", t_95 )\n",
    "\n",
    "pval_X_and_D = 2 * sc.t.cdf(-np.abs(Tx), df=n + n - 2)\n",
    "print(\"Pval = \", pval_X_and_D )\n"
   ]
  },
  {
   "cell_type": "markdown",
   "metadata": {},
   "source": [
    "Comment"
   ]
  },
  {
   "cell_type": "markdown",
   "metadata": {},
   "source": [
    "---\n",
    "4) The test in question 3 is performed under the assumption of equal variances. Test this assumption with a confidence level of 95% (two-sided test, $\\alpha$=5%). Report the values of statistics and the critical values. What is your conclusion ? \n",
    "\n",
    "---"
   ]
  },
  {
   "cell_type": "code",
   "execution_count": null,
   "metadata": {},
   "outputs": [],
   "source": [
    "#code here"
   ]
  },
  {
   "cell_type": "markdown",
   "metadata": {},
   "source": [
    "Comment"
   ]
  },
  {
   "cell_type": "markdown",
   "metadata": {},
   "source": [
    "---\n",
    "5)\tWhich is the greenest fuel, i.e. the one producing the least $CO_2$ emissions ? Answer this question using a regression, in which you may include other variables than fuel type. Justify your procedure and conclude. \n",
    "\n",
    "---"
   ]
  },
  {
   "cell_type": "code",
   "execution_count": null,
   "metadata": {},
   "outputs": [],
   "source": [
    "dataCO2_fuelType = dict()\n",
    "\n",
    "for t in [\"X\", \"Z\", \"D\"]:\n",
    "    dataCO2_fuelType[t] = list()\n",
    "            \n",
    "for i in data[\"Fuel Type\"]:\n",
    "    if i == \"X\":\n",
    "        dataCO2_fuelType[i].append(1) \n",
    "    if i == \"Z\":\n",
    "        dataCO2_fuelType[i].append(1)\n",
    "    if i == \"D\":\n",
    "        dataCO2_fuelType[i].append(1) \n",
    "    \n",
    "    for o in [\"X\", \"Z\", \"D\"]:\n",
    "        if (i != o):\n",
    "            dataCO2_fuelType[o].append(0)\n",
    "            \n",
    "X = pd.DataFrame(data=dataCO2_fuelType) \n",
    "Xm = sm.add_constant(X)\n",
    "\n",
    "y = (data[\"CO2 Emissions(g/km)\"]/data[\"Fuel Consumption Comb (L/100 km)\"]).values.reshape(-1,1)\n",
    "\n",
    "results = sm.OLS(y,Xm).fit()\n",
    "\n",
    "print(results.summary())"
   ]
  },
  {
   "cell_type": "markdown",
   "metadata": {},
   "source": [
    "L'émission de CO2 par consommation des véhicules avec le carburant X, Z, D et E est respectivement égale à $\\beta_0 + \\beta_1$, $\\beta_0 + \\beta_2$, $\\beta_0 + \\beta_3$ et $\\beta_0$.\n",
    "\n",
    "On trouve alors,\n",
    "\n",
    "Pour le carburant X : $\\beta_0 + \\beta_1 = 23.3163$\n",
    "\n",
    "Pour le carburant Z : $\\beta_0 + \\beta_2 = 23.2913$\n",
    "\n",
    "Pour le carburant D : $\\beta_0 + \\beta_3 = 26.8862$\n",
    "\n",
    "Pour le carburant E : $\\beta_0 = 16.3185$\n",
    "\n",
    "Le carburant produisant le moins de CO2 est l'éthanol E85 (E)."
   ]
  }
 ],
 "metadata": {
  "interpreter": {
   "hash": "ba05a6ce37f0793115f1bacb57b7c2fc706f1478b985e37f038cb93f22ad5181"
  },
  "kernelspec": {
   "display_name": "lepl1109",
   "language": "python",
   "name": "lepl1109"
  },
  "language_info": {
   "codemirror_mode": {
    "name": "ipython",
    "version": 3
   },
   "file_extension": ".py",
   "mimetype": "text/x-python",
   "name": "python",
   "nbconvert_exporter": "python",
   "pygments_lexer": "ipython3",
   "version": "3.8.5"
  }
 },
 "nbformat": 4,
 "nbformat_minor": 4
}
