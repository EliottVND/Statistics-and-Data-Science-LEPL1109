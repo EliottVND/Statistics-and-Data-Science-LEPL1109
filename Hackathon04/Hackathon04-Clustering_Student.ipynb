{
 "cells": [
  {
   "cell_type": "markdown",
   "metadata": {},
   "source": [
    "<font size=6  color=#003366> <b>[LEPL1109] - STATISTICS AND DATA SCIENCES</b> <br><br> \n",
    "<b>Hackathon 04 - Clustering: What is it all about?</b> </font> <br><br><br>\n",
    "\n",
    "<font size=5  color=#003366>\n",
    "Prof. D. Hainaut<br>\n",
    "Prof. L. Jacques<br>\n",
    "\n",
    "<br><br>\n",
    "Anne-Sophie Collin   (anne-sophie.collin@uclouvain.be)<br>\n",
    "Guillaume Van Dessel (guillaume.vandessel@uclouvain.be)<br>\n",
    "Loïc Van Hoorebeeck (loic.vanhoorebeeck@uclouvain.be)<br>\n",
    "Jérome Eertmans (jerome.eertmans@uclouvain.be)<br>\n",
    "Sébastien Colla (sebastien.colla@uclouvain.be)<br>\n",
    "Dani Manjah (dani.manjah@uclouvain.be)<br>\n",
    "<div style=\"text-align: right\"> Version 2021</div>\n",
    "\n",
    "<br><br>\n",
    "</font>"
   ]
  },
  {
   "cell_type": "markdown",
   "metadata": {},
   "source": [
    "<font size=5 color=#009999> <b>GUIDELINES & DELIVERABLES</b> </font> <br>\n",
    "-  This assignment is due on the <b>18-12-2021 at 23h59</b>.\n",
    "-  Copying code or answers from other groups (or from the internet) is strictly forbidden. <b>Each source of inspiration (stack overflow, git, other groups,...) must be clearly indicated!</b>\n",
    "-  This notebook (with the \"ipynb\" extension) file, the Python source file (\".py\"), and the report (PDF format) must be delivered on <b>Moodle</b>.\n",
    "- Only the PDF report and the python source file will be graded, both on their content and the quality of the text / figures. <br><br>\n",
    "\n",
    "<div class=\"alert alert-danger\">\n",
    "<b>[DELIVERABLE] Summary</b>  <br>\n",
    "After the reading of this document (and playing with the code!), we expect you to provide us with:\n",
    "<ol>\n",
    "   <li> a PDF file (written in LaTeX, see example on Moodle) that answers all the questions below. The report should contain high quality figures with named axes (we recommend saving plots with the <samp>.pdf</samp> extension);\n",
    "   <li> a Python file with your classifier implementation. Please follow the template that is provided and ensure it passes the so-called <i>sanity</i> tests;\n",
    "   <li> and this Jupyter Notebook (it will not be read, just checked for plagiarism).\n",
    "</ol>\n",
    "</div>\n",
    "\n",
    "<font size=5 color=#009999> <b>CONTEXT & NOTEBOOK STRUCTURE</b> </font> <br>\n",
    "    \n",
    "The objective of this hackathon is threefold: (1) extract meaningful information from a dataset, (2) observe relationship(s) (if any) between features and eventual underlying groups (clusters), and (3) develop an unsupervised clustering tool. To this end, you will use a public dataset from Netflix (available on <b>Moodle</b>), alongside with a file describing the different ratings. Given a couple of features, you should be able to group movies (and TV shows) belonging to similar ratings.\n",
    "\n",
    "<img src=\"Imgs/image_article_binge_watching.png\" width = \"600\">\n",
    "\n",
    "Nowadays, the internet is crowded with millions of videos coming out every day. This is especially true on streaming platforms such as YouTube or Netflix. To keep their platform well organized, most of those companies rely on automated classification. For example, a video can be automatically classified to be rated R if it contains obscene scenes. <br> <br>\n",
    "Still, for most movies and TV-shows, this classification job is achieved manually... quite a <i>tedious</i> task... Your role aims at determining the implementation feasibility of an automated rating classification based on attributes such as *movie title* or the *actor/actress* that appear in it.\n",
    "\n",
    "This notebook is organized into three parts. Each of them assesses one fundamental step to solve our problem and provides one visualization tool to gain some understanding:\n",
    "* PART 1 - DATA PREPROCESSING\n",
    "   - 1.1 - Import the data\n",
    "   - 1.2 - Text data preprocessing\n",
    "   - 1.3 - Preliminary visualization tool \n",
    "    <br><br>\n",
    "* PART 2 - DATA VISUALIZATION \n",
    "   - 2.1 - PCA \n",
    "    <br><br>\n",
    "* PART 3 - IT'S TIME TO... CLUSTER!\n",
    "   - 3.1 - Customized K-Prototypes\n",
    "   - 3.2 - Results analysis \n",
    "   \n",
    "We filled this notebook with preliminary (trivial) code. This practice makes possible to run each cell, even the last ones, without throwing warnings. <b>Take advantage of this aspect to divide the work between all team members!</b> <br><br>"
   ]
  },
  {
   "cell_type": "code",
   "execution_count": 165,
   "metadata": {},
   "outputs": [],
   "source": [
    "\"\"\"\n",
    "CELL N°0 : CHECK FOR NEW PACKAGES\n",
    "We added a few more package depedencies since S1, therefore we need to install them.\n",
    "Here, the process should be fully automated.\n",
    "\"\"\"\n",
    "\n",
    "# Few more packages we did not specify in previous requirements.txt\n",
    "# This should automatically install them.\n",
    "# If your installation is broken, please follow the same guidelines as in S1,\n",
    "# but with the new requirements.txt file\n",
    "try:\n",
    "    import wordcloud\n",
    "except ImportError as e:\n",
    "    !python -m pip install wordcloud\n",
    "try:\n",
    "    import seaborn\n",
    "except ImportError as e:\n",
    "    !python -m pip install seaborn"
   ]
  },
  {
   "cell_type": "markdown",
   "metadata": {},
   "source": [
    "<br><font size=7 color=#009999> <b>PART 1 - DATA PREPROCESSING</b> </font> <br><br>\n",
    "\n",
    "<font size=5 color=#009999> <b>1.1 - IMPORT THE DATA</b> <br>\n",
    "\"Netflix Shows\" dataset\n",
    "</font> <br> <br>\n",
    "\n",
    "In this __[dataset](https://www.kaggle.com/shivamb/netflix-shows)__, you are provided with movies and TV-shows, each having a series of features that will be useful all along this hackathon. If you are curious, the aforementionned link proposes several questions to be answered with this very dataset."
   ]
  },
  {
   "cell_type": "code",
   "execution_count": 166,
   "metadata": {},
   "outputs": [
    {
     "data": {
      "text/markdown": [
       "# Netflix titles"
      ],
      "text/plain": [
       "<IPython.core.display.Markdown object>"
      ]
     },
     "metadata": {},
     "output_type": "display_data"
    },
    {
     "data": {
      "text/html": [
       "<div>\n",
       "<style scoped>\n",
       "    .dataframe tbody tr th:only-of-type {\n",
       "        vertical-align: middle;\n",
       "    }\n",
       "\n",
       "    .dataframe tbody tr th {\n",
       "        vertical-align: top;\n",
       "    }\n",
       "\n",
       "    .dataframe thead th {\n",
       "        text-align: right;\n",
       "    }\n",
       "</style>\n",
       "<table border=\"1\" class=\"dataframe\">\n",
       "  <thead>\n",
       "    <tr style=\"text-align: right;\">\n",
       "      <th></th>\n",
       "      <th>show_id</th>\n",
       "      <th>type</th>\n",
       "      <th>title</th>\n",
       "      <th>director</th>\n",
       "      <th>cast</th>\n",
       "      <th>country</th>\n",
       "      <th>date_added</th>\n",
       "      <th>release_year</th>\n",
       "      <th>rating</th>\n",
       "      <th>duration</th>\n",
       "      <th>listed_in</th>\n",
       "      <th>description</th>\n",
       "    </tr>\n",
       "  </thead>\n",
       "  <tbody>\n",
       "    <tr>\n",
       "      <th>0</th>\n",
       "      <td>s1</td>\n",
       "      <td>TV Show</td>\n",
       "      <td>3%</td>\n",
       "      <td>NaN</td>\n",
       "      <td>João Miguel, Bianca Comparato, Michel Gomes, Rodolfo Valente, Vaneza Oliveira, Rafael Lozano, Viviane Porto, Mel Fronckowiak, Sergio Mamberti, Zezé Motta, Celso Frateschi</td>\n",
       "      <td>Brazil</td>\n",
       "      <td>August 14, 2020</td>\n",
       "      <td>2020</td>\n",
       "      <td>TV-MA</td>\n",
       "      <td>4 Seasons</td>\n",
       "      <td>International TV Shows, TV Dramas, TV Sci-Fi &amp; Fantasy</td>\n",
       "      <td>In a future where the elite inhabit an island paradise far from the crowded slums, you get one chance to join the 3% saved from squalor.</td>\n",
       "    </tr>\n",
       "    <tr>\n",
       "      <th>1</th>\n",
       "      <td>s2</td>\n",
       "      <td>Movie</td>\n",
       "      <td>7:19</td>\n",
       "      <td>Jorge Michel Grau</td>\n",
       "      <td>Demián Bichir, Héctor Bonilla, Oscar Serrano, Azalia Ortiz, Octavio Michel, Carmen Beato</td>\n",
       "      <td>Mexico</td>\n",
       "      <td>December 23, 2016</td>\n",
       "      <td>2016</td>\n",
       "      <td>TV-MA</td>\n",
       "      <td>93 min</td>\n",
       "      <td>Dramas, International Movies</td>\n",
       "      <td>After a devastating earthquake hits Mexico City, trapped survivors from all walks of life wait to be rescued while trying desperately to stay alive.</td>\n",
       "    </tr>\n",
       "    <tr>\n",
       "      <th>2</th>\n",
       "      <td>s3</td>\n",
       "      <td>Movie</td>\n",
       "      <td>23:59</td>\n",
       "      <td>Gilbert Chan</td>\n",
       "      <td>Tedd Chan, Stella Chung, Henley Hii, Lawrence Koh, Tommy Kuan, Josh Lai, Mark Lee, Susan Leong, Benjamin Lim</td>\n",
       "      <td>Singapore</td>\n",
       "      <td>December 20, 2018</td>\n",
       "      <td>2011</td>\n",
       "      <td>R</td>\n",
       "      <td>78 min</td>\n",
       "      <td>Horror Movies, International Movies</td>\n",
       "      <td>When an army recruit is found dead, his fellow soldiers are forced to confront a terrifying secret that's haunting their jungle island training camp.</td>\n",
       "    </tr>\n",
       "    <tr>\n",
       "      <th>3</th>\n",
       "      <td>s4</td>\n",
       "      <td>Movie</td>\n",
       "      <td>9</td>\n",
       "      <td>Shane Acker</td>\n",
       "      <td>Elijah Wood, John C. Reilly, Jennifer Connelly, Christopher Plummer, Crispin Glover, Martin Landau, Fred Tatasciore, Alan Oppenheimer, Tom Kane</td>\n",
       "      <td>United States</td>\n",
       "      <td>November 16, 2017</td>\n",
       "      <td>2009</td>\n",
       "      <td>PG-13</td>\n",
       "      <td>80 min</td>\n",
       "      <td>Action &amp; Adventure, Independent Movies, Sci-Fi &amp; Fantasy</td>\n",
       "      <td>In a postapocalyptic world, rag-doll robots hide in fear from dangerous machines out to exterminate them, until a brave newcomer joins the group.</td>\n",
       "    </tr>\n",
       "    <tr>\n",
       "      <th>4</th>\n",
       "      <td>s5</td>\n",
       "      <td>Movie</td>\n",
       "      <td>21</td>\n",
       "      <td>Robert Luketic</td>\n",
       "      <td>Jim Sturgess, Kevin Spacey, Kate Bosworth, Aaron Yoo, Liza Lapira, Jacob Pitts, Laurence Fishburne, Jack McGee, Josh Gad, Sam Golzari, Helen Carey, Jack Gilpin</td>\n",
       "      <td>United States</td>\n",
       "      <td>January 1, 2020</td>\n",
       "      <td>2008</td>\n",
       "      <td>PG-13</td>\n",
       "      <td>123 min</td>\n",
       "      <td>Dramas</td>\n",
       "      <td>A brilliant group of students become card-counting experts with the intent of swindling millions out of Las Vegas casinos by playing blackjack.</td>\n",
       "    </tr>\n",
       "  </tbody>\n",
       "</table>\n",
       "</div>"
      ],
      "text/plain": [
       "  show_id     type  title           director  \\\n",
       "0      s1  TV Show     3%                NaN   \n",
       "1      s2    Movie   7:19  Jorge Michel Grau   \n",
       "2      s3    Movie  23:59       Gilbert Chan   \n",
       "3      s4    Movie      9        Shane Acker   \n",
       "4      s5    Movie     21     Robert Luketic   \n",
       "\n",
       "                                                                                                                                                                         cast  \\\n",
       "0  João Miguel, Bianca Comparato, Michel Gomes, Rodolfo Valente, Vaneza Oliveira, Rafael Lozano, Viviane Porto, Mel Fronckowiak, Sergio Mamberti, Zezé Motta, Celso Frateschi   \n",
       "1                                                                                    Demián Bichir, Héctor Bonilla, Oscar Serrano, Azalia Ortiz, Octavio Michel, Carmen Beato   \n",
       "2                                                                Tedd Chan, Stella Chung, Henley Hii, Lawrence Koh, Tommy Kuan, Josh Lai, Mark Lee, Susan Leong, Benjamin Lim   \n",
       "3                             Elijah Wood, John C. Reilly, Jennifer Connelly, Christopher Plummer, Crispin Glover, Martin Landau, Fred Tatasciore, Alan Oppenheimer, Tom Kane   \n",
       "4             Jim Sturgess, Kevin Spacey, Kate Bosworth, Aaron Yoo, Liza Lapira, Jacob Pitts, Laurence Fishburne, Jack McGee, Josh Gad, Sam Golzari, Helen Carey, Jack Gilpin   \n",
       "\n",
       "         country         date_added  release_year rating   duration  \\\n",
       "0         Brazil    August 14, 2020          2020  TV-MA  4 Seasons   \n",
       "1         Mexico  December 23, 2016          2016  TV-MA     93 min   \n",
       "2      Singapore  December 20, 2018          2011      R     78 min   \n",
       "3  United States  November 16, 2017          2009  PG-13     80 min   \n",
       "4  United States    January 1, 2020          2008  PG-13    123 min   \n",
       "\n",
       "                                                  listed_in  \\\n",
       "0    International TV Shows, TV Dramas, TV Sci-Fi & Fantasy   \n",
       "1                              Dramas, International Movies   \n",
       "2                       Horror Movies, International Movies   \n",
       "3  Action & Adventure, Independent Movies, Sci-Fi & Fantasy   \n",
       "4                                                    Dramas   \n",
       "\n",
       "                                                                                                                                             description  \n",
       "0               In a future where the elite inhabit an island paradise far from the crowded slums, you get one chance to join the 3% saved from squalor.  \n",
       "1   After a devastating earthquake hits Mexico City, trapped survivors from all walks of life wait to be rescued while trying desperately to stay alive.  \n",
       "2  When an army recruit is found dead, his fellow soldiers are forced to confront a terrifying secret that's haunting their jungle island training camp.  \n",
       "3      In a postapocalyptic world, rag-doll robots hide in fear from dangerous machines out to exterminate them, until a brave newcomer joins the group.  \n",
       "4        A brilliant group of students become card-counting experts with the intent of swindling millions out of Las Vegas casinos by playing blackjack.  "
      ]
     },
     "metadata": {},
     "output_type": "display_data"
    },
    {
     "data": {
      "text/markdown": [
       "# Ratings' description"
      ],
      "text/plain": [
       "<IPython.core.display.Markdown object>"
      ]
     },
     "metadata": {},
     "output_type": "display_data"
    },
    {
     "data": {
      "text/html": [
       "<div>\n",
       "<style scoped>\n",
       "    .dataframe tbody tr th:only-of-type {\n",
       "        vertical-align: middle;\n",
       "    }\n",
       "\n",
       "    .dataframe tbody tr th {\n",
       "        vertical-align: top;\n",
       "    }\n",
       "\n",
       "    .dataframe thead th {\n",
       "        text-align: right;\n",
       "    }\n",
       "</style>\n",
       "<table border=\"1\" class=\"dataframe\">\n",
       "  <thead>\n",
       "    <tr style=\"text-align: right;\">\n",
       "      <th></th>\n",
       "      <th>rating</th>\n",
       "      <th>description</th>\n",
       "    </tr>\n",
       "  </thead>\n",
       "  <tbody>\n",
       "    <tr>\n",
       "      <th>0</th>\n",
       "      <td>TV-MA</td>\n",
       "      <td>This program is intended to be viewed by mature, adult audiences and may be unsuitable for children under 17</td>\n",
       "    </tr>\n",
       "    <tr>\n",
       "      <th>1</th>\n",
       "      <td>R</td>\n",
       "      <td>Restricted, Children Under 17 Require Accompanying Parent or Adult Guardian</td>\n",
       "    </tr>\n",
       "    <tr>\n",
       "      <th>2</th>\n",
       "      <td>PG-13</td>\n",
       "      <td>Some Material May Be Inappropriate for Children Under 13</td>\n",
       "    </tr>\n",
       "    <tr>\n",
       "      <th>3</th>\n",
       "      <td>TV-14</td>\n",
       "      <td>This program may be unsuitable for children under 14 years of age</td>\n",
       "    </tr>\n",
       "    <tr>\n",
       "      <th>4</th>\n",
       "      <td>TV-PG</td>\n",
       "      <td>This program contains material that parents may find unsuitable for younger children. Parental guidance is recommended</td>\n",
       "    </tr>\n",
       "    <tr>\n",
       "      <th>5</th>\n",
       "      <td>NR</td>\n",
       "      <td>This means no version was submitted for review by the MPAA, and has no rating in any version</td>\n",
       "    </tr>\n",
       "    <tr>\n",
       "      <th>6</th>\n",
       "      <td>TV-G</td>\n",
       "      <td>This program is suitable for all ages.</td>\n",
       "    </tr>\n",
       "    <tr>\n",
       "      <th>7</th>\n",
       "      <td>TV-Y</td>\n",
       "      <td>This program is aimed at a very young audience, including children from ages 2–6</td>\n",
       "    </tr>\n",
       "    <tr>\n",
       "      <th>8</th>\n",
       "      <td>TV-Y7</td>\n",
       "      <td>This program is most appropriate for children age 7 and up</td>\n",
       "    </tr>\n",
       "    <tr>\n",
       "      <th>9</th>\n",
       "      <td>PG</td>\n",
       "      <td>Some Material May Not Be Suitable for Children</td>\n",
       "    </tr>\n",
       "    <tr>\n",
       "      <th>10</th>\n",
       "      <td>G</td>\n",
       "      <td>All ages admitted</td>\n",
       "    </tr>\n",
       "    <tr>\n",
       "      <th>11</th>\n",
       "      <td>NC-17</td>\n",
       "      <td>No children under 17 admitted</td>\n",
       "    </tr>\n",
       "    <tr>\n",
       "      <th>12</th>\n",
       "      <td>TV-Y7-FV</td>\n",
       "      <td>TV-Y7 + Fantasy violence (exclusive to the TV-Y7 rating)</td>\n",
       "    </tr>\n",
       "    <tr>\n",
       "      <th>13</th>\n",
       "      <td>UR</td>\n",
       "      <td>Unrated. Often meaning the movie is the version submitted for review from the MPAA (Think unrated directors cut) and is an edited or changed version than the rated version</td>\n",
       "    </tr>\n",
       "  </tbody>\n",
       "</table>\n",
       "</div>"
      ],
      "text/plain": [
       "      rating  \\\n",
       "0      TV-MA   \n",
       "1          R   \n",
       "2      PG-13   \n",
       "3      TV-14   \n",
       "4      TV-PG   \n",
       "5         NR   \n",
       "6       TV-G   \n",
       "7       TV-Y   \n",
       "8      TV-Y7   \n",
       "9         PG   \n",
       "10         G   \n",
       "11     NC-17   \n",
       "12  TV-Y7-FV   \n",
       "13        UR   \n",
       "\n",
       "                                                                                                                                                                    description  \n",
       "0                                                                  This program is intended to be viewed by mature, adult audiences and may be unsuitable for children under 17  \n",
       "1                                                                                                   Restricted, Children Under 17 Require Accompanying Parent or Adult Guardian  \n",
       "2                                                                                                                      Some Material May Be Inappropriate for Children Under 13  \n",
       "3                                                                                                             This program may be unsuitable for children under 14 years of age  \n",
       "4                                                        This program contains material that parents may find unsuitable for younger children. Parental guidance is recommended  \n",
       "5                                                                                  This means no version was submitted for review by the MPAA, and has no rating in any version  \n",
       "6                                                                                                                                        This program is suitable for all ages.  \n",
       "7                                                                                              This program is aimed at a very young audience, including children from ages 2–6  \n",
       "8                                                                                                                    This program is most appropriate for children age 7 and up  \n",
       "9                                                                                                                                Some Material May Not Be Suitable for Children  \n",
       "10                                                                                                                                                            All ages admitted  \n",
       "11                                                                                                                                                No children under 17 admitted  \n",
       "12                                                                                                                     TV-Y7 + Fantasy violence (exclusive to the TV-Y7 rating)  \n",
       "13  Unrated. Often meaning the movie is the version submitted for review from the MPAA (Think unrated directors cut) and is an edited or changed version than the rated version  "
      ]
     },
     "metadata": {},
     "output_type": "display_data"
    }
   ],
   "source": [
    "\"\"\"\n",
    "CELL N°1 : IMPORT THE DATASET\n",
    "\"\"\"\n",
    "\n",
    "import numpy as np\n",
    "import pandas as pd\n",
    "from IPython.display import display, Markdown as md\n",
    "from collections import Counter\n",
    "\n",
    "# See toolbox.py file\n",
    "import toolbox as tb\n",
    "\n",
    "pd.set_option(\"max_colwidth\", 200)\n",
    "\n",
    "dataPath = \"Data/netflix_titles.csv\"\n",
    "descPath = \"Data/netflix_description.csv\"\n",
    "df = pd.read_csv(dataPath)\n",
    "desc = pd.read_csv(descPath, sep=\"\\t\")\n",
    "\n",
    "# Print first rows\n",
    "display(md(\"# Netflix titles\"))\n",
    "display(df.head())\n",
    "\n",
    "# Print content of ratings' description\n",
    "display(md(\"# Ratings' description\"))\n",
    "display(desc)"
   ]
  },
  {
   "cell_type": "markdown",
   "metadata": {},
   "source": [
    "<br>\n",
    "<font size=5 color=#009999> <b>1.2 - FEATURES PREPROCESSING</b> <br>\n",
    "REMOVING UNNECESSARRY INFORMATION, CLEANING DATASET AND CREATING NEW FEATURES\n",
    "</font> <br> <br>\n",
    "\n",
    "When doing data sciences, the datasets you are using were most probably not made for your very application. Instead, they result from the collection of information throughout a certain period of time, and it is the data scientist's job to make a good use of those datasets.\n",
    "\n",
    "Today, the goal is to predict the `rating` category based on several other features. Therefore, you should be able to determine which of those are useful for your application.\n",
    "\n",
    "<div class=\"alert alert-warning\">\n",
    "<b>[Question 1.1] Removing unnecessary features </b>  <br>\n",
    "Can you already, a priori, detect that some features are useless?\n",
    "<ol>\n",
    "   <li> if yes, list those (useless) features;\n",
    "   <li> if not, then explain why it is better to wait.\n",
    "</ol>\n",
    "    Generally speaking, is it a good idea to remove a feature based on <i>a priori</i> knowledge, or it doesn't alter the final outcome?\n",
    "</div>\n",
    "\n",
    "<div class=\"alert alert-info\">\n",
    "<b>[Remark]</b><br>\n",
    "For the sake of simplicity, the test data will not contain any NaN. <br>However, we expect you to think about what you should do to handle NaNs.\n",
    "</div> "
   ]
  },
  {
   "cell_type": "code",
   "execution_count": 167,
   "metadata": {},
   "outputs": [
    {
     "name": "stdout",
     "output_type": "stream",
     "text": [
      "Index(['show_id', 'type', 'title', 'director', 'cast', 'country', 'date_added',\n",
      "       'release_year', 'rating', 'duration', 'listed_in', 'description'],\n",
      "      dtype='object')\n"
     ]
    }
   ],
   "source": [
    "\"\"\"\n",
    "CELL N°2 : REMOVING UNNECESSARY FEATURES\n",
    "If you answered yes in previous question, please remove those features here.\n",
    "\"\"\"\n",
    "\n",
    "#########################################################################################################\n",
    "# Start : Student version\n",
    "#########################################################################################################\n",
    "\n",
    "print(df.columns)\n",
    "\n",
    "features = ['show_id']\n",
    "\n",
    "#########################################################################################################\n",
    "# End : Student version\n",
    "#########################################################################################################\n",
    "\n",
    "\n",
    "df.drop(labels=features, axis=1, inplace=True, errors=\"ignore\")"
   ]
  },
  {
   "cell_type": "markdown",
   "metadata": {},
   "source": [
    "<div class=\"alert alert-info\">\n",
    "<b>[Remark]</b><br>\n",
    "In most real-cases, the datasets you are going to work with will contain artifacts, such as typos or missing data, that you may want to remove before feeding the data into any algorithm. Here, Pandas treats missing data as NaNs (refering to Not a Number, even though it is used for every missing object, no only numbers).\n",
    "</div> \n",
    "\n",
    "Can you find a way to inspect your dataset and see the proportion of missing data?"
   ]
  },
  {
   "cell_type": "code",
   "execution_count": 168,
   "metadata": {},
   "outputs": [
    {
     "name": "stdout",
     "output_type": "stream",
     "text": [
      "--INFO ABOUT TYPES ANS NAN--\n",
      "<class 'pandas.core.frame.DataFrame'>\n",
      "RangeIndex: 7787 entries, 0 to 7786\n",
      "Data columns (total 11 columns):\n",
      " #   Column        Non-Null Count  Dtype \n",
      "---  ------        --------------  ----- \n",
      " 0   type          7787 non-null   object\n",
      " 1   title         7787 non-null   object\n",
      " 2   director      5398 non-null   object\n",
      " 3   cast          7069 non-null   object\n",
      " 4   country       7280 non-null   object\n",
      " 5   date_added    7777 non-null   object\n",
      " 6   release_year  7787 non-null   int64 \n",
      " 7   rating        7780 non-null   object\n",
      " 8   duration      7787 non-null   object\n",
      " 9   listed_in     7787 non-null   object\n",
      " 10  description   7787 non-null   object\n",
      "dtypes: int64(1), object(10)\n",
      "memory usage: 669.3+ KB\n",
      "None\n",
      "--PROPORTION--\n"
     ]
    },
    {
     "data": {
      "text/plain": [
       "type            0.000000\n",
       "title           0.000000\n",
       "director        0.306793\n",
       "cast            0.092205\n",
       "country         0.065109\n",
       "date_added      0.001284\n",
       "release_year    0.000000\n",
       "rating          0.000899\n",
       "duration        0.000000\n",
       "listed_in       0.000000\n",
       "description     0.000000\n",
       "dtype: float64"
      ]
     },
     "execution_count": 168,
     "metadata": {},
     "output_type": "execute_result"
    }
   ],
   "source": [
    "\"\"\"\n",
    "CELL N°3 : INFORMATION ABOUT TYPES AND NANs\n",
    "Use one (or more) of Pandas' builtin function to get information about data types\n",
    "and the number of missing (NaN) values for each feature.\n",
    "Do not reinvent the wheel: a good data-scientist is a lazy d-s.\n",
    "\"\"\"\n",
    "\n",
    "#########################################################################################################\n",
    "# Start : Student version\n",
    "#########################################################################################################\n",
    "print(\"--INFO ABOUT TYPES ANS NAN--\")\n",
    "print(df.info())\n",
    "print(\"--PROPORTION--\")\n",
    "df.isnull().sum()/len(df)\n",
    "\n",
    "\n",
    "\n",
    "#########################################################################################################\n",
    "# End : Student version\n",
    "#########################################################################################################\n",
    "\n"
   ]
  },
  {
   "cell_type": "markdown",
   "metadata": {},
   "source": [
    "<div class=\"alert alert-info\">\n",
    "<b>[Remark] Each problem has its own solution</b> <br>\n",
    "There exists numerous ways to deal with missing information and we will discuss the two main approaches:\n",
    "<ol>\n",
    "   <li> You remove rows or columns that contain missing data;\n",
    "   <li> You replace NaNs with a another value. The latter can be a fixed value or computed to be the mean of all non-NaNs values. The topic of replacing missing data, also call imputation of missing values, is very broad and complex, and there is no global solution that applies everywhere. Maybe you can find one that works well here?\n",
    "</ol>\n",
    "</div> \n",
    "\n",
    "You **should** read more about how to imput missing value [here](https://scikit-learn.org/stable/modules/impute.html).\n",
    "\n",
    "<div class=\"alert alert-warning\">\n",
    "<b>[Question 1.2] Handling missing data </b>  <br>\n",
    "Given the dataset and the amount / type of missing information, what strategy do you propose to follow regarding missing data (NaNs) ?<br> You can choose one or many of the following:\n",
    "<ol>\n",
    "   <li> drop features (column) with missing information; \n",
    "   <li> drop samples (row) with missing information;\n",
    "   <li> replace missing information with interpolation / extrapolation / simple substitution / ...\n",
    "</ol>\n",
    "</div> "
   ]
  },
  {
   "cell_type": "code",
   "execution_count": 169,
   "metadata": {},
   "outputs": [
    {
     "data": {
      "text/plain": [
       "type            0.0\n",
       "title           0.0\n",
       "cast            0.0\n",
       "country         0.0\n",
       "date_added      0.0\n",
       "release_year    0.0\n",
       "rating          0.0\n",
       "duration        0.0\n",
       "listed_in       0.0\n",
       "description     0.0\n",
       "dtype: float64"
      ]
     },
     "execution_count": 169,
     "metadata": {},
     "output_type": "execute_result"
    }
   ],
   "source": [
    "\"\"\"\n",
    "CELL N°4 : HANDLING NANs\n",
    "Please fill the gaps according to what you have decided to do. Feel free to modify the code.\n",
    "\"\"\"\n",
    "\n",
    "#########################################################################################################\n",
    "# Start : Student version\n",
    "#########################################################################################################\n",
    "\n",
    "drop_rows = None  # set `drop_rows = None` to select all rows\n",
    "\n",
    "drop_cols = [\n",
    "    'director'\n",
    "]\n",
    "# set `drop_cols = None` to select all columns\n",
    "\n",
    "# Fill special substitution here (e.g.: every NaN becomes an empty string \"\")\n",
    "\n",
    "#########################################################################################################\n",
    "# End : Student version\n",
    "#########################################################################################################\n",
    "\n",
    "for col in drop_cols:\n",
    "    # For each mentionned column, drop it if it contains `any` NaN\n",
    "    if df[col].isnull().values.any():\n",
    "        df.drop(col, axis=1, inplace=True)\n",
    "\n",
    "df.dropna(\n",
    "    axis=0, subset=drop_rows, inplace=True\n",
    ")  # Drop rows with NaN in any of the mentionned columns\n",
    "\n",
    "# Last, we drop all rows with missing `rating` as it is useless to keep them in our model\n",
    "df.dropna(\n",
    "    axis=0, subset=[\"rating\"], inplace=True\n",
    ")  # Drop rows with NaN in any of the mentionned columns\n",
    "\n",
    "df.isnull().sum()/len(df)"
   ]
  },
  {
   "cell_type": "markdown",
   "metadata": {},
   "source": [
    "<div class=\"alert alert-info\">\n",
    "<b>[Remark] New features extraction</b> <br>\n",
    "In the present case, some features in the dataset still need to be reworked in order to provide meaningful information. For example, the <samp>cast</samp> feature is a string listing multiple names. As it could be interesting to see if the presence of a given actor is linked to the rating (e.g.: some actors mostly play in comedy movies), you could extract all the actor names from this feature. Note that another aspect you could consider/take into account is the relative frequency of an actor apparition in the shows.\n",
    "</div>\n",
    "\n",
    "The following code will show you how to get the list of the actors playing in each of the shows."
   ]
  },
  {
   "cell_type": "code",
   "execution_count": 170,
   "metadata": {},
   "outputs": [
    {
     "data": {
      "text/markdown": [
       "# In total\n",
       "        There are 31685 actors\n",
       "        An average of 4.8 actors per movie / TV-shows\n",
       "        [João Miguel, Bianca Comparato, ..., Adriano Zumbo, Rachel Khoo]"
      ],
      "text/plain": [
       "<IPython.core.display.Markdown object>"
      ]
     },
     "metadata": {},
     "output_type": "display_data"
    },
    {
     "data": {
      "image/png": "[encoded data removed]",
      "text/plain": [
       "<Figure size 864x1080 with 1 Axes>"
      ]
     },
     "metadata": {},
     "output_type": "display_data"
    }
   ],
   "source": [
    "\"\"\"\n",
    "CELL N°5 : MANIPULATING FEATURES\n",
    "Read the code carefully and try to understand it.\n",
    "\"\"\"\n",
    "\n",
    "feature = \"cast\"\n",
    "\n",
    "# In case we did not drop NaNs for `feature`, we do it now (or you can substitute NaNs with empty str)\n",
    "df.dropna(\n",
    "    axis=0, subset=[feature], inplace=True\n",
    ")  # Drop rows with NaN in any of the mentionned columns\n",
    "\n",
    "casting = []  # List of all actor names\n",
    "\n",
    "for movie_cast in df[feature].dropna():  # For all movies / TV-shows cast\n",
    "    casting.extend(  # We extend the list of actor names\n",
    "        movie_cast.split(\", \")  # with the list of names in current movie\n",
    "    )\n",
    "\n",
    "actors = set(casting)  # removes duplicates\n",
    "display(\n",
    "    md(\n",
    "        f\"\"\"# In total\n",
    "        There are {len(actors)} actors\n",
    "        An average of {len(actors) / df.shape[0]:.2} actors per movie / TV-shows\n",
    "        [{\", \".join(casting[:2])}, ..., {\", \".join(casting[-2:])}]\"\"\"\n",
    "    )\n",
    ")\n",
    "\n",
    "tb.word_cloud(casting)  # Plots a WordCloud of actor names"
   ]
  },
  {
   "cell_type": "markdown",
   "metadata": {},
   "source": [
    "Here, you don't have new features **yet**. You still need to somehow incorporate the information about actor names into the dataset in a more **intelligent** manner than it was before. Again, there can be multiple solutions, and we will propose you a very simple one.\n",
    "\n",
    "For every actor name in the list, we will create a new column (feature) in the dataset that will tell, for every row (sample), if the actor plays in that movie or not. This produces something similar to [One Hot Encoding](https://scikit-learn.org/stable/modules/generated/sklearn.preprocessing.OneHotEncoder.html). As there are many actors, many more than there are samples, we suggest you to only select the top-100 actors, by number of appearances."
   ]
  },
  {
   "cell_type": "code",
   "execution_count": 171,
   "metadata": {},
   "outputs": [
    {
     "data": {
      "text/html": [
       "<div>\n",
       "<style scoped>\n",
       "    .dataframe tbody tr th:only-of-type {\n",
       "        vertical-align: middle;\n",
       "    }\n",
       "\n",
       "    .dataframe tbody tr th {\n",
       "        vertical-align: top;\n",
       "    }\n",
       "\n",
       "    .dataframe thead th {\n",
       "        text-align: right;\n",
       "    }\n",
       "</style>\n",
       "<table border=\"1\" class=\"dataframe\">\n",
       "  <thead>\n",
       "    <tr style=\"text-align: right;\">\n",
       "      <th></th>\n",
       "      <th>0</th>\n",
       "      <th>1</th>\n",
       "      <th>2</th>\n",
       "      <th>3</th>\n",
       "      <th>4</th>\n",
       "      <th>5</th>\n",
       "      <th>6</th>\n",
       "      <th>7</th>\n",
       "      <th>8</th>\n",
       "      <th>9</th>\n",
       "      <th>...</th>\n",
       "      <th>90</th>\n",
       "      <th>91</th>\n",
       "      <th>92</th>\n",
       "      <th>93</th>\n",
       "      <th>94</th>\n",
       "      <th>95</th>\n",
       "      <th>96</th>\n",
       "      <th>97</th>\n",
       "      <th>98</th>\n",
       "      <th>99</th>\n",
       "    </tr>\n",
       "  </thead>\n",
       "  <tbody>\n",
       "    <tr>\n",
       "      <th>name</th>\n",
       "      <td>Anupam Kher</td>\n",
       "      <td>Shah Rukh Khan</td>\n",
       "      <td>Om Puri</td>\n",
       "      <td>Naseeruddin Shah</td>\n",
       "      <td>Akshay Kumar</td>\n",
       "      <td>Takahiro Sakurai</td>\n",
       "      <td>Boman Irani</td>\n",
       "      <td>Amitabh Bachchan</td>\n",
       "      <td>Paresh Rawal</td>\n",
       "      <td>Yuki Kaji</td>\n",
       "      <td>...</td>\n",
       "      <td>Seema Biswas</td>\n",
       "      <td>Mohnish Bahl</td>\n",
       "      <td>Ray Liotta</td>\n",
       "      <td>Mithun Chakraborty</td>\n",
       "      <td>Jun Fukuyama</td>\n",
       "      <td>Rishi Kapoor</td>\n",
       "      <td>Miyuki Sawashiro</td>\n",
       "      <td>Kari Wahlgren</td>\n",
       "      <td>Jim Broadbent</td>\n",
       "      <td>Sam Vincent</td>\n",
       "    </tr>\n",
       "    <tr>\n",
       "      <th>count</th>\n",
       "      <td>42</td>\n",
       "      <td>34</td>\n",
       "      <td>30</td>\n",
       "      <td>29</td>\n",
       "      <td>29</td>\n",
       "      <td>28</td>\n",
       "      <td>27</td>\n",
       "      <td>27</td>\n",
       "      <td>27</td>\n",
       "      <td>27</td>\n",
       "      <td>...</td>\n",
       "      <td>13</td>\n",
       "      <td>13</td>\n",
       "      <td>13</td>\n",
       "      <td>13</td>\n",
       "      <td>13</td>\n",
       "      <td>13</td>\n",
       "      <td>13</td>\n",
       "      <td>13</td>\n",
       "      <td>13</td>\n",
       "      <td>13</td>\n",
       "    </tr>\n",
       "  </tbody>\n",
       "</table>\n",
       "<p>2 rows × 100 columns</p>\n",
       "</div>"
      ],
      "text/plain": [
       "                0               1        2                 3             4   \\\n",
       "name   Anupam Kher  Shah Rukh Khan  Om Puri  Naseeruddin Shah  Akshay Kumar   \n",
       "count           42              34       30                29            29   \n",
       "\n",
       "                     5            6                 7             8   \\\n",
       "name   Takahiro Sakurai  Boman Irani  Amitabh Bachchan  Paresh Rawal   \n",
       "count                28           27                27            27   \n",
       "\n",
       "              9   ...            90            91          92  \\\n",
       "name   Yuki Kaji  ...  Seema Biswas  Mohnish Bahl  Ray Liotta   \n",
       "count         27  ...            13            13          13   \n",
       "\n",
       "                       93            94            95                96  \\\n",
       "name   Mithun Chakraborty  Jun Fukuyama  Rishi Kapoor  Miyuki Sawashiro   \n",
       "count                  13            13            13                13   \n",
       "\n",
       "                  97             98           99  \n",
       "name   Kari Wahlgren  Jim Broadbent  Sam Vincent  \n",
       "count             13             13           13  \n",
       "\n",
       "[2 rows x 100 columns]"
      ]
     },
     "metadata": {},
     "output_type": "display_data"
    },
    {
     "data": {
      "text/html": [
       "<div>\n",
       "<style scoped>\n",
       "    .dataframe tbody tr th:only-of-type {\n",
       "        vertical-align: middle;\n",
       "    }\n",
       "\n",
       "    .dataframe tbody tr th {\n",
       "        vertical-align: top;\n",
       "    }\n",
       "\n",
       "    .dataframe thead th {\n",
       "        text-align: right;\n",
       "    }\n",
       "</style>\n",
       "<table border=\"1\" class=\"dataframe\">\n",
       "  <thead>\n",
       "    <tr style=\"text-align: right;\">\n",
       "      <th></th>\n",
       "      <th>type</th>\n",
       "      <th>title</th>\n",
       "      <th>country</th>\n",
       "      <th>date_added</th>\n",
       "      <th>release_year</th>\n",
       "      <th>rating</th>\n",
       "      <th>duration</th>\n",
       "      <th>listed_in</th>\n",
       "      <th>description</th>\n",
       "      <th>Anupam Kher</th>\n",
       "      <th>...</th>\n",
       "      <th>Seema Biswas</th>\n",
       "      <th>Mohnish Bahl</th>\n",
       "      <th>Ray Liotta</th>\n",
       "      <th>Mithun Chakraborty</th>\n",
       "      <th>Jun Fukuyama</th>\n",
       "      <th>Rishi Kapoor</th>\n",
       "      <th>Miyuki Sawashiro</th>\n",
       "      <th>Kari Wahlgren</th>\n",
       "      <th>Jim Broadbent</th>\n",
       "      <th>Sam Vincent</th>\n",
       "    </tr>\n",
       "  </thead>\n",
       "  <tbody>\n",
       "    <tr>\n",
       "      <th>0</th>\n",
       "      <td>TV Show</td>\n",
       "      <td>3%</td>\n",
       "      <td>Brazil</td>\n",
       "      <td>August 14, 2020</td>\n",
       "      <td>2020</td>\n",
       "      <td>TV-MA</td>\n",
       "      <td>4 Seasons</td>\n",
       "      <td>International TV Shows, TV Dramas, TV Sci-Fi &amp; Fantasy</td>\n",
       "      <td>In a future where the elite inhabit an island paradise far from the crowded slums, you get one chance to join the 3% saved from squalor.</td>\n",
       "      <td>0</td>\n",
       "      <td>...</td>\n",
       "      <td>0</td>\n",
       "      <td>0</td>\n",
       "      <td>0</td>\n",
       "      <td>0</td>\n",
       "      <td>0</td>\n",
       "      <td>0</td>\n",
       "      <td>0</td>\n",
       "      <td>0</td>\n",
       "      <td>0</td>\n",
       "      <td>0</td>\n",
       "    </tr>\n",
       "    <tr>\n",
       "      <th>1</th>\n",
       "      <td>Movie</td>\n",
       "      <td>7:19</td>\n",
       "      <td>Mexico</td>\n",
       "      <td>December 23, 2016</td>\n",
       "      <td>2016</td>\n",
       "      <td>TV-MA</td>\n",
       "      <td>93 min</td>\n",
       "      <td>Dramas, International Movies</td>\n",
       "      <td>After a devastating earthquake hits Mexico City, trapped survivors from all walks of life wait to be rescued while trying desperately to stay alive.</td>\n",
       "      <td>0</td>\n",
       "      <td>...</td>\n",
       "      <td>0</td>\n",
       "      <td>0</td>\n",
       "      <td>0</td>\n",
       "      <td>0</td>\n",
       "      <td>0</td>\n",
       "      <td>0</td>\n",
       "      <td>0</td>\n",
       "      <td>0</td>\n",
       "      <td>0</td>\n",
       "      <td>0</td>\n",
       "    </tr>\n",
       "    <tr>\n",
       "      <th>2</th>\n",
       "      <td>Movie</td>\n",
       "      <td>23:59</td>\n",
       "      <td>Singapore</td>\n",
       "      <td>December 20, 2018</td>\n",
       "      <td>2011</td>\n",
       "      <td>R</td>\n",
       "      <td>78 min</td>\n",
       "      <td>Horror Movies, International Movies</td>\n",
       "      <td>When an army recruit is found dead, his fellow soldiers are forced to confront a terrifying secret that's haunting their jungle island training camp.</td>\n",
       "      <td>0</td>\n",
       "      <td>...</td>\n",
       "      <td>0</td>\n",
       "      <td>0</td>\n",
       "      <td>0</td>\n",
       "      <td>0</td>\n",
       "      <td>0</td>\n",
       "      <td>0</td>\n",
       "      <td>0</td>\n",
       "      <td>0</td>\n",
       "      <td>0</td>\n",
       "      <td>0</td>\n",
       "    </tr>\n",
       "    <tr>\n",
       "      <th>3</th>\n",
       "      <td>Movie</td>\n",
       "      <td>9</td>\n",
       "      <td>United States</td>\n",
       "      <td>November 16, 2017</td>\n",
       "      <td>2009</td>\n",
       "      <td>PG-13</td>\n",
       "      <td>80 min</td>\n",
       "      <td>Action &amp; Adventure, Independent Movies, Sci-Fi &amp; Fantasy</td>\n",
       "      <td>In a postapocalyptic world, rag-doll robots hide in fear from dangerous machines out to exterminate them, until a brave newcomer joins the group.</td>\n",
       "      <td>0</td>\n",
       "      <td>...</td>\n",
       "      <td>0</td>\n",
       "      <td>0</td>\n",
       "      <td>0</td>\n",
       "      <td>0</td>\n",
       "      <td>0</td>\n",
       "      <td>0</td>\n",
       "      <td>0</td>\n",
       "      <td>0</td>\n",
       "      <td>0</td>\n",
       "      <td>0</td>\n",
       "    </tr>\n",
       "    <tr>\n",
       "      <th>4</th>\n",
       "      <td>Movie</td>\n",
       "      <td>21</td>\n",
       "      <td>United States</td>\n",
       "      <td>January 1, 2020</td>\n",
       "      <td>2008</td>\n",
       "      <td>PG-13</td>\n",
       "      <td>123 min</td>\n",
       "      <td>Dramas</td>\n",
       "      <td>A brilliant group of students become card-counting experts with the intent of swindling millions out of Las Vegas casinos by playing blackjack.</td>\n",
       "      <td>0</td>\n",
       "      <td>...</td>\n",
       "      <td>0</td>\n",
       "      <td>0</td>\n",
       "      <td>0</td>\n",
       "      <td>0</td>\n",
       "      <td>0</td>\n",
       "      <td>0</td>\n",
       "      <td>0</td>\n",
       "      <td>0</td>\n",
       "      <td>0</td>\n",
       "      <td>0</td>\n",
       "    </tr>\n",
       "  </tbody>\n",
       "</table>\n",
       "<p>5 rows × 109 columns</p>\n",
       "</div>"
      ],
      "text/plain": [
       "      type  title        country         date_added  release_year rating  \\\n",
       "0  TV Show     3%         Brazil    August 14, 2020          2020  TV-MA   \n",
       "1    Movie   7:19         Mexico  December 23, 2016          2016  TV-MA   \n",
       "2    Movie  23:59      Singapore  December 20, 2018          2011      R   \n",
       "3    Movie      9  United States  November 16, 2017          2009  PG-13   \n",
       "4    Movie     21  United States    January 1, 2020          2008  PG-13   \n",
       "\n",
       "    duration                                                 listed_in  \\\n",
       "0  4 Seasons    International TV Shows, TV Dramas, TV Sci-Fi & Fantasy   \n",
       "1     93 min                              Dramas, International Movies   \n",
       "2     78 min                       Horror Movies, International Movies   \n",
       "3     80 min  Action & Adventure, Independent Movies, Sci-Fi & Fantasy   \n",
       "4    123 min                                                    Dramas   \n",
       "\n",
       "                                                                                                                                             description  \\\n",
       "0               In a future where the elite inhabit an island paradise far from the crowded slums, you get one chance to join the 3% saved from squalor.   \n",
       "1   After a devastating earthquake hits Mexico City, trapped survivors from all walks of life wait to be rescued while trying desperately to stay alive.   \n",
       "2  When an army recruit is found dead, his fellow soldiers are forced to confront a terrifying secret that's haunting their jungle island training camp.   \n",
       "3      In a postapocalyptic world, rag-doll robots hide in fear from dangerous machines out to exterminate them, until a brave newcomer joins the group.   \n",
       "4        A brilliant group of students become card-counting experts with the intent of swindling millions out of Las Vegas casinos by playing blackjack.   \n",
       "\n",
       "   Anupam Kher  ...  Seema Biswas  Mohnish Bahl  Ray Liotta  \\\n",
       "0            0  ...             0             0           0   \n",
       "1            0  ...             0             0           0   \n",
       "2            0  ...             0             0           0   \n",
       "3            0  ...             0             0           0   \n",
       "4            0  ...             0             0           0   \n",
       "\n",
       "   Mithun Chakraborty  Jun Fukuyama  Rishi Kapoor  Miyuki Sawashiro  \\\n",
       "0                   0             0             0                 0   \n",
       "1                   0             0             0                 0   \n",
       "2                   0             0             0                 0   \n",
       "3                   0             0             0                 0   \n",
       "4                   0             0             0                 0   \n",
       "\n",
       "   Kari Wahlgren  Jim Broadbent  Sam Vincent  \n",
       "0              0              0            0  \n",
       "1              0              0            0  \n",
       "2              0              0            0  \n",
       "3              0              0            0  \n",
       "4              0              0            0  \n",
       "\n",
       "[5 rows x 109 columns]"
      ]
     },
     "execution_count": 171,
     "metadata": {},
     "output_type": "execute_result"
    }
   ],
   "source": [
    "\"\"\"\n",
    "CELL N°6 : CREATING FEATURES\n",
    "Read the code carefully and try to understand it.\n",
    "Feel free to modify the number `n`.\n",
    "\"\"\"\n",
    "\n",
    "counts = Counter(casting)  # For each name, counts how many times it appears\n",
    "\n",
    "n = 100  # number of selected actors among the most appearing\n",
    "top_n = counts.most_common(n)  # Top n names by decreasing order of appearance\n",
    "\n",
    "display(pd.DataFrame(top_n, columns=[\"name\", \"count\"]).T)\n",
    "\n",
    "series = {}\n",
    "for name, count in top_n:\n",
    "    series[name] = (\n",
    "        df[feature].str.contains(name).astype(int)\n",
    "    )  # Does a cast contain the name of the actor?\n",
    "\n",
    "# We create a new dataset (we could use the same name though)\n",
    "casting_df = pd.concat(\n",
    "    series, axis=1\n",
    ")  # DataFrame where each row contains 0 or 1 depending on if the name appears in casting\n",
    "dataset = pd.concat([df, casting_df], axis=1)\n",
    "# We drop `cast` feature since we do not need it anymore\n",
    "dataset.drop(labels=[\"cast\"], axis=1, inplace=True, errors=\"ignore\")\n",
    "dataset.head(5)"
   ]
  },
  {
   "cell_type": "markdown",
   "metadata": {},
   "source": [
    "<div class=\"alert alert-warning\">\n",
    "<b>[Question 1.3] All-zero representations? </b>  <br>\n",
    "For configurations <samp>n=100</samp> and <samp>n=None</samp>, count the number of sample whose encoded vector is the null vector [0, 0, ..., 0] (in <samp>casting_df</samp>). Why are there such vectors? How will they be treated by the clustering algorithm? <br>\n",
    "    \n",
    "<i>Note: <samp>n=None</samp> will select all the names, so it might take time and memory space!</i>\n",
    "</div>"
   ]
  },
  {
   "cell_type": "code",
   "execution_count": 172,
   "metadata": {},
   "outputs": [
    {
     "name": "stdout",
     "output_type": "stream",
     "text": [
      "Number of samples with null vector, n = 100 : 5636\n",
      "Number of samples with null vector, n = # actors : 0\n"
     ]
    }
   ],
   "source": [
    "print(f\"Number of samples with null vector, n = 100 : {(casting_df==0).all(axis=1).sum()}\")\n",
    "print(f\"Number of samples with null vector, n = # actors : {0}\")\n",
    "# avec None le result sera 0 car on a drop les lignes qui n'ont pas d'acteurs"
   ]
  },
  {
   "cell_type": "markdown",
   "metadata": {},
   "source": [
    "<div class=\"alert alert-success\">\n",
    "<b>[Bonus]</b>  <br>\n",
    "    In the case of the <samp>description</samp> feature, where each sample is a sentence, you could use more complex tools to extract information (e.g.: verbs, nouns, average sentence length, buzz words, etc.). Here, we can name a few:\n",
    "<ol>\n",
    "    <li> Regular Expression (with Python's package <a href=\"https://docs.python.org/3.8/library/re.html\", target=\"_blank\"><samp>re</samp></a>). We recommend <a href=\"https://regexone.com/\", target=\"_blank\">this blog</a> to understand how it works and <a href=\"https://regexr.com/\", target=\"_blank\">regexr.com</a> for testing your regular expressions;\n",
    "   <li> Natural Language Processing (NLP) with <a href=\"https://www.nltk.org/\", target=\"_blank\"><samp>nltk</samp></a>. Please read <a href=\"https://pub.towardsai.net/natural-language-processing-nlp-with-python-tutorial-for-beginners-1f54e610a1a0\", target=\"_blank\">this</a> for more information about NLP.\n",
    "</ol>\n",
    "</div> \n",
    "\n",
    "<div class=\"alert alert-warning\">\n",
    "<b>[Question 1.4] Feature extraction </b>  <br>\n",
    "Repeat the previous process for other features than <samp>cast</samp>. Some may require additional pre-processing. You might want to reuse the code above, or create a separate function to avoid code repetition. Do as you prefer!\n",
    "Then, answer the following questions:\n",
    "<ol>\n",
    "   <li> Which <b>new</b> features produce meaningful information for your classification?\n",
    "   <li> If it applies, explain the extra pre-processing you did to extract specific features.\n",
    "</ol>\n",
    "When answering, please provide quantitative (plots, measures, ...) information to support your claims.\n",
    "</div> "
   ]
  },
  {
   "cell_type": "code",
   "execution_count": 173,
   "metadata": {},
   "outputs": [
    {
     "data": {
      "text/html": [
       "<div>\n",
       "<style scoped>\n",
       "    .dataframe tbody tr th:only-of-type {\n",
       "        vertical-align: middle;\n",
       "    }\n",
       "\n",
       "    .dataframe tbody tr th {\n",
       "        vertical-align: top;\n",
       "    }\n",
       "\n",
       "    .dataframe thead th {\n",
       "        text-align: right;\n",
       "    }\n",
       "</style>\n",
       "<table border=\"1\" class=\"dataframe\">\n",
       "  <thead>\n",
       "    <tr style=\"text-align: right;\">\n",
       "      <th></th>\n",
       "      <th>0</th>\n",
       "      <th>1</th>\n",
       "      <th>2</th>\n",
       "      <th>3</th>\n",
       "      <th>4</th>\n",
       "      <th>5</th>\n",
       "      <th>6</th>\n",
       "      <th>7</th>\n",
       "      <th>8</th>\n",
       "      <th>9</th>\n",
       "      <th>...</th>\n",
       "      <th>32</th>\n",
       "      <th>33</th>\n",
       "      <th>34</th>\n",
       "      <th>35</th>\n",
       "      <th>36</th>\n",
       "      <th>37</th>\n",
       "      <th>38</th>\n",
       "      <th>39</th>\n",
       "      <th>40</th>\n",
       "      <th>41</th>\n",
       "    </tr>\n",
       "  </thead>\n",
       "  <tbody>\n",
       "    <tr>\n",
       "      <th>name</th>\n",
       "      <td>International Movies</td>\n",
       "      <td>Dramas</td>\n",
       "      <td>Comedies</td>\n",
       "      <td>International TV Shows</td>\n",
       "      <td>Action &amp; Adventure</td>\n",
       "      <td>Independent Movies</td>\n",
       "      <td>TV Dramas</td>\n",
       "      <td>Romantic Movies</td>\n",
       "      <td>Thrillers</td>\n",
       "      <td>Children &amp; Family Movies</td>\n",
       "      <td>...</td>\n",
       "      <td>Cult Movies</td>\n",
       "      <td>Teen TV Shows</td>\n",
       "      <td>Anime Features</td>\n",
       "      <td>Science &amp; Nature TV</td>\n",
       "      <td>Faith &amp; Spirituality</td>\n",
       "      <td>TV Thrillers</td>\n",
       "      <td>Stand-Up Comedy &amp; Talk Shows</td>\n",
       "      <td>Movies</td>\n",
       "      <td>Classic &amp; Cult TV</td>\n",
       "      <td>TV Shows</td>\n",
       "    </tr>\n",
       "    <tr>\n",
       "      <th>count</th>\n",
       "      <td>2200</td>\n",
       "      <td>2053</td>\n",
       "      <td>1423</td>\n",
       "      <td>969</td>\n",
       "      <td>700</td>\n",
       "      <td>668</td>\n",
       "      <td>618</td>\n",
       "      <td>516</td>\n",
       "      <td>479</td>\n",
       "      <td>466</td>\n",
       "      <td>...</td>\n",
       "      <td>57</td>\n",
       "      <td>57</td>\n",
       "      <td>55</td>\n",
       "      <td>52</td>\n",
       "      <td>51</td>\n",
       "      <td>46</td>\n",
       "      <td>39</td>\n",
       "      <td>33</td>\n",
       "      <td>25</td>\n",
       "      <td>4</td>\n",
       "    </tr>\n",
       "  </tbody>\n",
       "</table>\n",
       "<p>2 rows × 42 columns</p>\n",
       "</div>"
      ],
      "text/plain": [
       "                         0       1         2                       3   \\\n",
       "name   International Movies  Dramas  Comedies  International TV Shows   \n",
       "count                  2200    2053      1423                     969   \n",
       "\n",
       "                       4                   5          6                7   \\\n",
       "name   Action & Adventure  Independent Movies  TV Dramas  Romantic Movies   \n",
       "count                 700                 668        618              516   \n",
       "\n",
       "              8                         9   ...           32             33  \\\n",
       "name   Thrillers  Children & Family Movies  ...  Cult Movies  Teen TV Shows   \n",
       "count        479                       466  ...           57             57   \n",
       "\n",
       "                   34                   35                    36  \\\n",
       "name   Anime Features  Science & Nature TV  Faith & Spirituality   \n",
       "count              55                   52                    51   \n",
       "\n",
       "                 37                            38      39                 40  \\\n",
       "name   TV Thrillers  Stand-Up Comedy & Talk Shows  Movies  Classic & Cult TV   \n",
       "count            46                            39      33                 25   \n",
       "\n",
       "             41  \n",
       "name   TV Shows  \n",
       "count         4  \n",
       "\n",
       "[2 rows x 42 columns]"
      ]
     },
     "metadata": {},
     "output_type": "display_data"
    },
    {
     "data": {
      "text/html": [
       "<div>\n",
       "<style scoped>\n",
       "    .dataframe tbody tr th:only-of-type {\n",
       "        vertical-align: middle;\n",
       "    }\n",
       "\n",
       "    .dataframe tbody tr th {\n",
       "        vertical-align: top;\n",
       "    }\n",
       "\n",
       "    .dataframe thead th {\n",
       "        text-align: right;\n",
       "    }\n",
       "</style>\n",
       "<table border=\"1\" class=\"dataframe\">\n",
       "  <thead>\n",
       "    <tr style=\"text-align: right;\">\n",
       "      <th></th>\n",
       "      <th>type</th>\n",
       "      <th>title</th>\n",
       "      <th>country</th>\n",
       "      <th>date_added</th>\n",
       "      <th>release_year</th>\n",
       "      <th>rating</th>\n",
       "      <th>duration</th>\n",
       "      <th>description</th>\n",
       "      <th>Anupam Kher</th>\n",
       "      <th>Shah Rukh Khan</th>\n",
       "      <th>...</th>\n",
       "      <th>Cult Movies</th>\n",
       "      <th>Teen TV Shows</th>\n",
       "      <th>Anime Features</th>\n",
       "      <th>Science &amp; Nature TV</th>\n",
       "      <th>Faith &amp; Spirituality</th>\n",
       "      <th>TV Thrillers</th>\n",
       "      <th>Stand-Up Comedy &amp; Talk Shows</th>\n",
       "      <th>Movies</th>\n",
       "      <th>Classic &amp; Cult TV</th>\n",
       "      <th>TV Shows</th>\n",
       "    </tr>\n",
       "  </thead>\n",
       "  <tbody>\n",
       "    <tr>\n",
       "      <th>0</th>\n",
       "      <td>TV Show</td>\n",
       "      <td>3%</td>\n",
       "      <td>Brazil</td>\n",
       "      <td>August 14, 2020</td>\n",
       "      <td>2020</td>\n",
       "      <td>TV-MA</td>\n",
       "      <td>4 Seasons</td>\n",
       "      <td>In a future where the elite inhabit an island paradise far from the crowded slums, you get one chance to join the 3% saved from squalor.</td>\n",
       "      <td>0</td>\n",
       "      <td>0</td>\n",
       "      <td>...</td>\n",
       "      <td>0</td>\n",
       "      <td>0</td>\n",
       "      <td>0</td>\n",
       "      <td>0</td>\n",
       "      <td>0</td>\n",
       "      <td>0</td>\n",
       "      <td>0</td>\n",
       "      <td>0</td>\n",
       "      <td>0</td>\n",
       "      <td>1</td>\n",
       "    </tr>\n",
       "    <tr>\n",
       "      <th>1</th>\n",
       "      <td>Movie</td>\n",
       "      <td>7:19</td>\n",
       "      <td>Mexico</td>\n",
       "      <td>December 23, 2016</td>\n",
       "      <td>2016</td>\n",
       "      <td>TV-MA</td>\n",
       "      <td>93 min</td>\n",
       "      <td>After a devastating earthquake hits Mexico City, trapped survivors from all walks of life wait to be rescued while trying desperately to stay alive.</td>\n",
       "      <td>0</td>\n",
       "      <td>0</td>\n",
       "      <td>...</td>\n",
       "      <td>0</td>\n",
       "      <td>0</td>\n",
       "      <td>0</td>\n",
       "      <td>0</td>\n",
       "      <td>0</td>\n",
       "      <td>0</td>\n",
       "      <td>0</td>\n",
       "      <td>1</td>\n",
       "      <td>0</td>\n",
       "      <td>0</td>\n",
       "    </tr>\n",
       "    <tr>\n",
       "      <th>2</th>\n",
       "      <td>Movie</td>\n",
       "      <td>23:59</td>\n",
       "      <td>Singapore</td>\n",
       "      <td>December 20, 2018</td>\n",
       "      <td>2011</td>\n",
       "      <td>R</td>\n",
       "      <td>78 min</td>\n",
       "      <td>When an army recruit is found dead, his fellow soldiers are forced to confront a terrifying secret that's haunting their jungle island training camp.</td>\n",
       "      <td>0</td>\n",
       "      <td>0</td>\n",
       "      <td>...</td>\n",
       "      <td>0</td>\n",
       "      <td>0</td>\n",
       "      <td>0</td>\n",
       "      <td>0</td>\n",
       "      <td>0</td>\n",
       "      <td>0</td>\n",
       "      <td>0</td>\n",
       "      <td>1</td>\n",
       "      <td>0</td>\n",
       "      <td>0</td>\n",
       "    </tr>\n",
       "    <tr>\n",
       "      <th>3</th>\n",
       "      <td>Movie</td>\n",
       "      <td>9</td>\n",
       "      <td>United States</td>\n",
       "      <td>November 16, 2017</td>\n",
       "      <td>2009</td>\n",
       "      <td>PG-13</td>\n",
       "      <td>80 min</td>\n",
       "      <td>In a postapocalyptic world, rag-doll robots hide in fear from dangerous machines out to exterminate them, until a brave newcomer joins the group.</td>\n",
       "      <td>0</td>\n",
       "      <td>0</td>\n",
       "      <td>...</td>\n",
       "      <td>0</td>\n",
       "      <td>0</td>\n",
       "      <td>0</td>\n",
       "      <td>0</td>\n",
       "      <td>0</td>\n",
       "      <td>0</td>\n",
       "      <td>0</td>\n",
       "      <td>1</td>\n",
       "      <td>0</td>\n",
       "      <td>0</td>\n",
       "    </tr>\n",
       "    <tr>\n",
       "      <th>4</th>\n",
       "      <td>Movie</td>\n",
       "      <td>21</td>\n",
       "      <td>United States</td>\n",
       "      <td>January 1, 2020</td>\n",
       "      <td>2008</td>\n",
       "      <td>PG-13</td>\n",
       "      <td>123 min</td>\n",
       "      <td>A brilliant group of students become card-counting experts with the intent of swindling millions out of Las Vegas casinos by playing blackjack.</td>\n",
       "      <td>0</td>\n",
       "      <td>0</td>\n",
       "      <td>...</td>\n",
       "      <td>0</td>\n",
       "      <td>0</td>\n",
       "      <td>0</td>\n",
       "      <td>0</td>\n",
       "      <td>0</td>\n",
       "      <td>0</td>\n",
       "      <td>0</td>\n",
       "      <td>0</td>\n",
       "      <td>0</td>\n",
       "      <td>0</td>\n",
       "    </tr>\n",
       "  </tbody>\n",
       "</table>\n",
       "<p>5 rows × 151 columns</p>\n",
       "</div>"
      ],
      "text/plain": [
       "      type  title        country         date_added  release_year rating  \\\n",
       "0  TV Show     3%         Brazil    August 14, 2020          2020  TV-MA   \n",
       "1    Movie   7:19         Mexico  December 23, 2016          2016  TV-MA   \n",
       "2    Movie  23:59      Singapore  December 20, 2018          2011      R   \n",
       "3    Movie      9  United States  November 16, 2017          2009  PG-13   \n",
       "4    Movie     21  United States    January 1, 2020          2008  PG-13   \n",
       "\n",
       "    duration  \\\n",
       "0  4 Seasons   \n",
       "1     93 min   \n",
       "2     78 min   \n",
       "3     80 min   \n",
       "4    123 min   \n",
       "\n",
       "                                                                                                                                             description  \\\n",
       "0               In a future where the elite inhabit an island paradise far from the crowded slums, you get one chance to join the 3% saved from squalor.   \n",
       "1   After a devastating earthquake hits Mexico City, trapped survivors from all walks of life wait to be rescued while trying desperately to stay alive.   \n",
       "2  When an army recruit is found dead, his fellow soldiers are forced to confront a terrifying secret that's haunting their jungle island training camp.   \n",
       "3      In a postapocalyptic world, rag-doll robots hide in fear from dangerous machines out to exterminate them, until a brave newcomer joins the group.   \n",
       "4        A brilliant group of students become card-counting experts with the intent of swindling millions out of Las Vegas casinos by playing blackjack.   \n",
       "\n",
       "   Anupam Kher  Shah Rukh Khan  ...  Cult Movies  Teen TV Shows  \\\n",
       "0            0               0  ...            0              0   \n",
       "1            0               0  ...            0              0   \n",
       "2            0               0  ...            0              0   \n",
       "3            0               0  ...            0              0   \n",
       "4            0               0  ...            0              0   \n",
       "\n",
       "   Anime Features  Science & Nature TV  Faith & Spirituality  TV Thrillers  \\\n",
       "0               0                    0                     0             0   \n",
       "1               0                    0                     0             0   \n",
       "2               0                    0                     0             0   \n",
       "3               0                    0                     0             0   \n",
       "4               0                    0                     0             0   \n",
       "\n",
       "   Stand-Up Comedy & Talk Shows  Movies  Classic & Cult TV  TV Shows  \n",
       "0                             0       0                  0         1  \n",
       "1                             0       1                  0         0  \n",
       "2                             0       1                  0         0  \n",
       "3                             0       1                  0         0  \n",
       "4                             0       0                  0         0  \n",
       "\n",
       "[5 rows x 151 columns]"
      ]
     },
     "execution_count": 173,
     "metadata": {},
     "output_type": "execute_result"
    }
   ],
   "source": [
    "\"\"\"\n",
    "CELL N°7 : OTHER NEW FEATURES\n",
    "Example of new feature creation. Please provide below your code that produces your own (new) features.\n",
    "\"\"\"\n",
    "\n",
    "#########################################################################################################\n",
    "# Start : Student version\n",
    "#########################################################################################################\n",
    "\n",
    "try:\n",
    "    dataset[\"title-length\"] = dataset[\"title\"].str.len()  # Is title length related to rating? Who knows\n",
    "except KeyError:\n",
    "    pass  # In case you remove the `title` feature ;-)\n",
    "\n",
    "feature = \"listed_in\"\n",
    "genre = []  # List of all actor names\n",
    "\n",
    "for movie_cast in dataset[feature].dropna():  # For all movies / TV-shows cast\n",
    "    genre.extend(  # We extend the list of actor names\n",
    "        movie_cast.split(\", \")  # with the list of names in current movie\n",
    "    )\n",
    "\n",
    "counts = Counter(genre)  # For each name, counts how many times it appears\n",
    "n = None  # number of selected actors among the most appearing\n",
    "top_n = counts.most_common(n)  # Top n names by decreasing order of appearance\n",
    "\n",
    "display(pd.DataFrame(top_n, columns=[\"name\", \"count\"]).T)\n",
    "\n",
    "series = {}\n",
    "for name, count in top_n:\n",
    "    series[name] = (\n",
    "        dataset[feature].str.contains(name).astype(int)\n",
    "    )  # Does a cast contain the name of the actor?\n",
    "\n",
    "# We create a new dataset (we could use the same name though)\n",
    "genre_df = pd.concat(\n",
    "    series, axis=1\n",
    ")  # DataFrame where each row contains 0 or 1 depending on if the name appears in casting\n",
    "dataset = pd.concat([dataset, genre_df], axis=1)\n",
    "# We drop `cast` feature since we do not need it anymor\n",
    "dataset.drop(labels=[\"listed_in\"], axis=1, inplace=True, errors=\"ignore\")\n",
    "dataset.head(5)\n",
    "\n",
    "#########################################################################################################\n",
    "# End : Student version\n",
    "#########################################################################################################"
   ]
  },
  {
   "cell_type": "markdown",
   "metadata": {},
   "source": [
    "<div class=\"alert alert-info\">\n",
    "<b>[Remark] Before you can plot...</b> <br>\n",
    "Most graphical representations use numbers to determine how data should be plotted. Here, the dataset you are working with contains many non-numerical data types. Actually, all but the new features are strings (<samp>str</samp>). Sometimes, features are categorical, i.e., the set of possible values is finite (e.g.: <samp>type</samp> can only be <samp>\"Movie\"</samp> or <samp>\"TV Show\"</samp>). For those cases, it can be good practice to replace each category by a unique number (see <a href=\"https://scikit-learn.org/stable/modules/generated/sklearn.preprocessing.OrdinalEncoder.html#sklearn.preprocessing.OrdinalEncoder\"target=\"_blank\">Ordinal Encoder</a>). In other cases, features can take an infinite amount of value, such as for the <samp>description</samp>, and pre-processing must be done to take valuable information about it.\n",
    "</div>\n",
    "\n",
    "Here, we propose a very simple way of turning all the dataset features into numerical ones, or dropping them.\n",
    "Note that <b>you are not obliged</b> to encode your features into numerical ones. We just let you know how to deal with that task if this is something you consider doing."
   ]
  },
  {
   "cell_type": "code",
   "execution_count": 174,
   "metadata": {},
   "outputs": [
    {
     "data": {
      "text/html": [
       "<div>\n",
       "<style scoped>\n",
       "    .dataframe tbody tr th:only-of-type {\n",
       "        vertical-align: middle;\n",
       "    }\n",
       "\n",
       "    .dataframe tbody tr th {\n",
       "        vertical-align: top;\n",
       "    }\n",
       "\n",
       "    .dataframe thead th {\n",
       "        text-align: right;\n",
       "    }\n",
       "</style>\n",
       "<table border=\"1\" class=\"dataframe\">\n",
       "  <thead>\n",
       "    <tr style=\"text-align: right;\">\n",
       "      <th></th>\n",
       "      <th>type</th>\n",
       "      <th>release_year</th>\n",
       "      <th>duration</th>\n",
       "      <th>Anupam Kher</th>\n",
       "      <th>Shah Rukh Khan</th>\n",
       "      <th>Om Puri</th>\n",
       "      <th>Naseeruddin Shah</th>\n",
       "      <th>Akshay Kumar</th>\n",
       "      <th>Takahiro Sakurai</th>\n",
       "      <th>Boman Irani</th>\n",
       "      <th>...</th>\n",
       "      <th>Cult Movies</th>\n",
       "      <th>Teen TV Shows</th>\n",
       "      <th>Anime Features</th>\n",
       "      <th>Science &amp; Nature TV</th>\n",
       "      <th>Faith &amp; Spirituality</th>\n",
       "      <th>TV Thrillers</th>\n",
       "      <th>Stand-Up Comedy &amp; Talk Shows</th>\n",
       "      <th>Movies</th>\n",
       "      <th>Classic &amp; Cult TV</th>\n",
       "      <th>TV Shows</th>\n",
       "    </tr>\n",
       "  </thead>\n",
       "  <tbody>\n",
       "    <tr>\n",
       "      <th>0</th>\n",
       "      <td>0</td>\n",
       "      <td>2020</td>\n",
       "      <td>720</td>\n",
       "      <td>0</td>\n",
       "      <td>0</td>\n",
       "      <td>0</td>\n",
       "      <td>0</td>\n",
       "      <td>0</td>\n",
       "      <td>0</td>\n",
       "      <td>0</td>\n",
       "      <td>...</td>\n",
       "      <td>0</td>\n",
       "      <td>0</td>\n",
       "      <td>0</td>\n",
       "      <td>0</td>\n",
       "      <td>0</td>\n",
       "      <td>0</td>\n",
       "      <td>0</td>\n",
       "      <td>0</td>\n",
       "      <td>0</td>\n",
       "      <td>1</td>\n",
       "    </tr>\n",
       "    <tr>\n",
       "      <th>1</th>\n",
       "      <td>1</td>\n",
       "      <td>2016</td>\n",
       "      <td>93</td>\n",
       "      <td>0</td>\n",
       "      <td>0</td>\n",
       "      <td>0</td>\n",
       "      <td>0</td>\n",
       "      <td>0</td>\n",
       "      <td>0</td>\n",
       "      <td>0</td>\n",
       "      <td>...</td>\n",
       "      <td>0</td>\n",
       "      <td>0</td>\n",
       "      <td>0</td>\n",
       "      <td>0</td>\n",
       "      <td>0</td>\n",
       "      <td>0</td>\n",
       "      <td>0</td>\n",
       "      <td>1</td>\n",
       "      <td>0</td>\n",
       "      <td>0</td>\n",
       "    </tr>\n",
       "    <tr>\n",
       "      <th>2</th>\n",
       "      <td>1</td>\n",
       "      <td>2011</td>\n",
       "      <td>78</td>\n",
       "      <td>0</td>\n",
       "      <td>0</td>\n",
       "      <td>0</td>\n",
       "      <td>0</td>\n",
       "      <td>0</td>\n",
       "      <td>0</td>\n",
       "      <td>0</td>\n",
       "      <td>...</td>\n",
       "      <td>0</td>\n",
       "      <td>0</td>\n",
       "      <td>0</td>\n",
       "      <td>0</td>\n",
       "      <td>0</td>\n",
       "      <td>0</td>\n",
       "      <td>0</td>\n",
       "      <td>1</td>\n",
       "      <td>0</td>\n",
       "      <td>0</td>\n",
       "    </tr>\n",
       "    <tr>\n",
       "      <th>3</th>\n",
       "      <td>1</td>\n",
       "      <td>2009</td>\n",
       "      <td>80</td>\n",
       "      <td>0</td>\n",
       "      <td>0</td>\n",
       "      <td>0</td>\n",
       "      <td>0</td>\n",
       "      <td>0</td>\n",
       "      <td>0</td>\n",
       "      <td>0</td>\n",
       "      <td>...</td>\n",
       "      <td>0</td>\n",
       "      <td>0</td>\n",
       "      <td>0</td>\n",
       "      <td>0</td>\n",
       "      <td>0</td>\n",
       "      <td>0</td>\n",
       "      <td>0</td>\n",
       "      <td>1</td>\n",
       "      <td>0</td>\n",
       "      <td>0</td>\n",
       "    </tr>\n",
       "    <tr>\n",
       "      <th>4</th>\n",
       "      <td>1</td>\n",
       "      <td>2008</td>\n",
       "      <td>123</td>\n",
       "      <td>0</td>\n",
       "      <td>0</td>\n",
       "      <td>0</td>\n",
       "      <td>0</td>\n",
       "      <td>0</td>\n",
       "      <td>0</td>\n",
       "      <td>0</td>\n",
       "      <td>...</td>\n",
       "      <td>0</td>\n",
       "      <td>0</td>\n",
       "      <td>0</td>\n",
       "      <td>0</td>\n",
       "      <td>0</td>\n",
       "      <td>0</td>\n",
       "      <td>0</td>\n",
       "      <td>0</td>\n",
       "      <td>0</td>\n",
       "      <td>0</td>\n",
       "    </tr>\n",
       "  </tbody>\n",
       "</table>\n",
       "<p>5 rows × 146 columns</p>\n",
       "</div>"
      ],
      "text/plain": [
       "   type  release_year  duration  Anupam Kher  Shah Rukh Khan  Om Puri  \\\n",
       "0     0          2020       720            0               0        0   \n",
       "1     1          2016        93            0               0        0   \n",
       "2     1          2011        78            0               0        0   \n",
       "3     1          2009        80            0               0        0   \n",
       "4     1          2008       123            0               0        0   \n",
       "\n",
       "   Naseeruddin Shah  Akshay Kumar  Takahiro Sakurai  Boman Irani  ...  \\\n",
       "0                 0             0                 0            0  ...   \n",
       "1                 0             0                 0            0  ...   \n",
       "2                 0             0                 0            0  ...   \n",
       "3                 0             0                 0            0  ...   \n",
       "4                 0             0                 0            0  ...   \n",
       "\n",
       "   Cult Movies  Teen TV Shows  Anime Features  Science & Nature TV  \\\n",
       "0            0              0               0                    0   \n",
       "1            0              0               0                    0   \n",
       "2            0              0               0                    0   \n",
       "3            0              0               0                    0   \n",
       "4            0              0               0                    0   \n",
       "\n",
       "   Faith & Spirituality  TV Thrillers  Stand-Up Comedy & Talk Shows  Movies  \\\n",
       "0                     0             0                             0       0   \n",
       "1                     0             0                             0       1   \n",
       "2                     0             0                             0       1   \n",
       "3                     0             0                             0       1   \n",
       "4                     0             0                             0       0   \n",
       "\n",
       "   Classic & Cult TV  TV Shows  \n",
       "0                  0         1  \n",
       "1                  0         0  \n",
       "2                  0         0  \n",
       "3                  0         0  \n",
       "4                  0         0  \n",
       "\n",
       "[5 rows x 146 columns]"
      ]
     },
     "execution_count": 174,
     "metadata": {},
     "output_type": "execute_result"
    }
   ],
   "source": [
    "\"\"\"\n",
    "CELL N°8 : OTHER NEW FEATURES\n",
    "Example of feature encoding and numeric types selection. \n",
    "\"\"\"\n",
    "\n",
    "try:\n",
    "    dataset[\"type\"] = dataset[\"type\"].str.contains(\"Movie\").astype(int)  # Maybe\n",
    "    dataset[\"release_year\"] = dataset[\"release_year\"].astype(int)\n",
    "\n",
    "    reworked_durations = []\n",
    "    for duration in dataset[\"duration\"]:\n",
    "        num_time, scale = duration.split()\n",
    "        if scale == \"min\":\n",
    "            reworked_durations.append(int(num_time))\n",
    "        else:\n",
    "            reworked_durations.append(\n",
    "                int(num_time) * 180\n",
    "            )  # let us assume that a single season lasts for 3 hours :)\n",
    "    dataset[\"duration\"] = reworked_durations\n",
    "except KeyError:\n",
    "    pass  # For more robustness, we should do three try-except,\n",
    "    # one for each feature in [`type`, `release_year`, `duration`]\n",
    "\n",
    "numeric_dataset = dataset.select_dtypes([\"number\"])  # Selecting only number types\n",
    "\n",
    "numeric_dataset.head()"
   ]
  },
  {
   "cell_type": "markdown",
   "metadata": {},
   "source": [
    "<div class=\"alert alert-success\">\n",
    "<b>[Bonus]</b>  <br>\n",
    "As you can probably see, many of the rating categories are quite similar. This leverages some crucial questions such as the importance of keeping all categories distinct or merging some of them together. The lower the number of classes, the better the classification?\n",
    "    \n",
    "Well you must find it by yourself! We have created a function that shows the distribution of ratings among the dataset (see below). You are allowed to modify the classes by remapping some of them into others, or by re-creating totally new ones.\n",
    "   \n",
    "<b>Nonetheless</b>, your new mapping must satisfy the following rules:\n",
    "<ol>\n",
    "    <li> there must be at least 4 different rating classes\n",
    "   <li> no class should contain more than 60% of the dataset\n",
    "</ol>\n",
    "</div> "
   ]
  },
  {
   "cell_type": "code",
   "execution_count": 175,
   "metadata": {},
   "outputs": [
    {
     "data": {
      "text/plain": [
       "TV-MA       0.368809\n",
       "R           0.098600\n",
       "PG-13       0.056450\n",
       "TV-14       0.246274\n",
       "TV-PG       0.094385\n",
       "TV-G        0.021978\n",
       "TV-Y        0.028903\n",
       "NR          0.009935\n",
       "TV-Y7       0.031311\n",
       "PG          0.035827\n",
       "G           0.005720\n",
       "NC-17       0.000452\n",
       "TV-Y7-FV    0.000602\n",
       "UR          0.000753\n",
       "dtype: float64"
      ]
     },
     "execution_count": 175,
     "metadata": {},
     "output_type": "execute_result"
    }
   ],
   "source": [
    "\"\"\"\n",
    "CELL N°9 : RATINGS FREQUENCY AMONG SAMPLE\n",
    "\"\"\"\n",
    "\n",
    "tb.get_ratings_freq(dataset)"
   ]
  },
  {
   "cell_type": "code",
   "execution_count": 176,
   "metadata": {},
   "outputs": [
    {
     "data": {
      "text/plain": [
       "TV-MA       0.368809\n",
       "R           0.098600\n",
       "PG-13       0.056450\n",
       "TV-14       0.246274\n",
       "TV-PG       0.094385\n",
       "TV-G        0.021978\n",
       "TV-Y        0.028903\n",
       "NR          0.009935\n",
       "TV-Y7       0.031311\n",
       "PG          0.035827\n",
       "G           0.005720\n",
       "NC-17       0.000452\n",
       "TV-Y7-FV    0.000602\n",
       "UR          0.000753\n",
       "dtype: float64"
      ]
     },
     "execution_count": 176,
     "metadata": {},
     "output_type": "execute_result"
    }
   ],
   "source": [
    "\"\"\"\n",
    "CELL N°10 : RE-ENCODING TARGET FEATURE\n",
    "Feel free to comment or modify this section.\n",
    "\"\"\"\n",
    "\n",
    "#########################################################################################################\n",
    "# Start : Student version\n",
    "#########################################################################################################\n",
    "\n",
    "# Exemple of (weird) mapping that satisfies requirements\n",
    "mapping = {\n",
    "    \"TV-MA\": \"ADULT\",\n",
    "    \"R\": \"ADULT\",\n",
    "    \"PG-13\": \"TEEN\",\n",
    "    \"TV-14\": \"TEEN\",\n",
    "    \"TV-PG\": \"GENERAL\",\n",
    "    \"NR\": \"NR\",\n",
    "    \"TV-G\": \"GENERAL\",\n",
    "    \"TV-Y\": \"YOUNG\",\n",
    "    \"TV-Y7\": \"YOUNG\",\n",
    "    \"PG\": \"GENERAL\",\n",
    "    \"G\": \"GENERAL\",\n",
    "    \"NC-17\": \"ADULT\",\n",
    "    \"TV-Y7-FV\": \"ADULT\",\n",
    "    \"UR\": \"NR\",\n",
    "}\n",
    "\n",
    "# Uncomment to update ratings\n",
    "# tb.update_rating(dataset, mapping)\n",
    "\n",
    "#########################################################################################################\n",
    "# End : Student version\n",
    "#########################################################################################################\n",
    "\n",
    "tb.get_ratings_freq(dataset)"
   ]
  },
  {
   "cell_type": "markdown",
   "metadata": {},
   "source": [
    "<br><font size=7 color=#009999> <b>PART 2 - DATA VISUALIZATION</b> </font> <br><br>"
   ]
  },
  {
   "cell_type": "markdown",
   "metadata": {},
   "source": [
    "<br>\n",
    "<font size=5 color=#009999> <b>2.1 - PCA</b> <br>\n",
    "REDUCE THE DIMENSIONALITY OF THE DATA IN ORDER TO OBSERVE IT\n",
    "</font> <br> <br>\n",
    "\n",
    "The high dimensionality of the dataset (number of columns) makes data visualization hard. In order to gain some (partial) information about our data distribution, we propose to perform a 3-dimensional visualization of them. For this purpose, we need to reduce dimensionality of our feature space while keeping as much information as possible about the data. \n",
    "\n",
    "PCA is often considered as the simplest and most fundamental technique used in dimensionality reduction. Remember that PCA is essentially the rotation of coordinate axes, chosen such that each successful axis captures or preserves as much variance as possible. If the algorithm returns a new system coordinates of the same dimension as the input, we can keep only the axis corresponding to the 3 largest singular values and project data on this coordinate system to perform the visualization.\n",
    "\n",
    "\n",
    "![PCAUrl](https://miro.medium.com/max/400/1*ZXhPoYQIn-Y8mxoUpz5Ayw.gif \"PCA\")\n",
    "\n",
    "\n",
    "<div class=\"alert alert-warning\">\n",
    "<b>[Question 2.1] Clusters visualization </b>  <br>\n",
    "    Use the <samp>group_visualization</samp> function provided in the toolbox (<i>toolbox.py</i>) below to perform a 3-dimensional scatter plot of a <b>numerical</b> version of your data. \n",
    "Does the clustering problem seem to be difficult? Are the clusters separable? \n",
    "</div> "
   ]
  },
  {
   "cell_type": "code",
   "execution_count": 177,
   "metadata": {
    "scrolled": false
   },
   "outputs": [
    {
     "data": {
      "application/vnd.plotly.v1+json": {
       "config": {
        "plotlyServerURL": "https://plot.ly"
       },
       "data": [
        {
         "hovertemplate": "rating=TV-14<br>x=%{x}<br>y=%{y}<br>z=%{z}<extra></extra>",
         "legendgroup": "TV-14",
         "marker": {
          "color": "#636efa",
          "symbol": "circle"
         },
         "mode": "markers",
         "name": "TV-14",
         "scene": "scene",
         "showlegend": true,
         "type": "scatter3d",
         "x": [
          -116.45089506118622,
          -68.42092363753824,
          -41.42775168271158,
          -71.51495590762862,
          -63.43170342322944,
          10.61818848802451,
          -34.362261441499214,
          -107.42763993908467,
          1090.5846128015824,
          10.596785106567953,
          -44.366326487978576,
          -32.40662131497396,
          3.630946160564658,
          -79.35935269025553,
          -89.37680546451186,
          -95.40591350751038,
          10.626307687614142,
          0.64318649332039,
          10.645524075360726,
          -104.44031070494061,
          -59.36184182997617,
          -64.3850012718409,
          190.55496585135225,
          -26.391926898495825,
          -92.49880765071063,
          -82.35928901256155,
          -56.39365021793026,
          -81.38349306993723,
          -25.434297047230615,
          10.57145188090182,
          -8.400728722164194,
          910.6165646711421,
          -52.39788631544559,
          -58.39994810929401,
          -18.481521311879533,
          -75.40995110957854,
          -51.40214502858175,
          10.556256070788043,
          10.61358747423041,
          10.603164654073405,
          -85.37830008213658,
          10.61380695207743,
          -82.40191623204113,
          -74.38077934686747,
          10.628913944455384,
          -70.40822591558707,
          10.57550609705744,
          -137.52889464179017,
          -61.395733241,
          10.62246407973301,
          -55.37440689803538,
          -65.51723956064647,
          -62.469579162826996,
          -101.48730761774436,
          -26.460281170726347,
          730.6038583095416,
          -124.54552379756628,
          -99.41721704245484,
          -39.39169437193173,
          -52.41296527862545,
          -88.3932913380278,
          -53.429899622593695,
          -77.42742299252247,
          -42.38956656983385,
          730.5565853407425,
          -13.377282742273229,
          -30.374926702099227,
          10.605461801204843,
          -43.374664253940104,
          4.562859511897587,
          -58.40841329650541,
          -82.38551048190448,
          -34.56367562290393,
          -84.44217827154665,
          -62.376522248983484,
          -96.38846242818363,
          10.607807815675804,
          -42.40862822045688,
          -12.396446219695077,
          -37.374841697266554,
          10.590553925928637,
          -56.42351905279095,
          10.588400956365032,
          10.628226597513947,
          -51.41066973970126,
          -74.4465533493776,
          -80.48910460822263,
          -63.365896572264354,
          -21.462253891027537,
          -53.37450806401428,
          -63.414689093409365,
          -18.46656805431868,
          -40.4045213317748,
          -73.36596421555282,
          -69.41676392352181,
          -76.4401104075984,
          -86.39626189164157,
          -6.394509713559566,
          -41.38757370555471,
          10.620697024112742,
          10.551756353469537,
          550.538571618181,
          -77.45021383764393,
          -41.407186942417944,
          -69.56306988006263,
          -60.372407201633045,
          -83.41239183144057,
          -89.41000926180247,
          -78.41465073713012,
          -20.486437519772284,
          -69.41051135841661,
          -54.46636656067478,
          -39.38116981924271,
          -59.38500298839004,
          370.62838261746543,
          -38.36415632403184,
          -70.3898072855554,
          -45.438296697081306,
          -72.41034868160287,
          -88.40027759822887,
          -62.42105099292624,
          1270.5288097555467,
          -67.48470993918559,
          -22.438557131254576,
          -25.410873716780856,
          10.513816553220668,
          -61.51687336091915,
          -75.36213067288858,
          10.552445954253558,
          -84.53752795900296,
          -75.4725798615707,
          10.599074164809167,
          10.53334390922674,
          -69.38704732389868,
          -73.40562673661518,
          -80.42374100402435,
          -86.5519132888991,
          -67.45080292101983,
          10.565853224787935,
          -71.3942187878208,
          10.568058730220164,
          -35.41721326864785,
          -53.38955972943635,
          -51.412687258781716,
          1.5947284415985694,
          10.64272498236336,
          -55.41270648343317,
          -115.37877746627669,
          -72.36110856357679,
          -63.46319058858673,
          10.61385501126671,
          190.58527458799387,
          10.598792065019241,
          910.5366259605706,
          -34.406717500006174,
          -35.37471865485262,
          -64.45716761043028,
          1.544040852434811,
          -58.43182163216662,
          1450.6032482979292,
          10.616211287230357,
          10.620309339103247,
          10.488812520155232,
          -74.40809362492523,
          -72.37207719538203,
          -33.37057821492604,
          -74.38053522119557,
          10.573668850359114,
          -73.52871137578164,
          -49.37892330505984,
          910.5998500429295,
          -85.42578402353138,
          -82.4045085092449,
          -74.38871046922104,
          10.609540693542902,
          -78.3997004804808,
          190.63263852955325,
          -42.40882381703585,
          -13.394251658032783,
          -52.37663037972003,
          190.61859928545059,
          -35.38133291480729,
          -77.35896987104437,
          -77.38475713901403,
          -74.3784633765565,
          -7.394401424089016,
          550.5961679844589,
          -79.37151114904307,
          10.65596096849345,
          -93.38117731867791,
          10.569032055564263,
          -75.4512321305187,
          -88.420363046118,
          -67.42330158764271,
          10.524393678521673,
          190.58364986381156,
          10.631314611259782,
          550.6015869094125,
          -39.402295196050645,
          10.625299290561797,
          10.60228839849409,
          -30.398336610576862,
          -59.436142306447664,
          -42.368306804382776,
          -42.44692317812912,
          10.594904024152358,
          -72.37657098913834
         ],
         "y": [
          9.950482782181155,
          2.063642256036413,
          -0.5383137675574663,
          23.84671502839525,
          -0.8149805722920804,
          -5.4793532047950055,
          -12.938763144508007,
          3.919717774298106,
          -5.648049115927524,
          -10.07982594572725,
          -9.590555699839873,
          -4.268112458341451,
          -10.69454921242507,
          -13.01385335705193,
          -6.7544867363873005,
          -2.11931519004153,
          -7.453270400960129,
          -11.383804272487096,
          -11.331780529347402,
          5.7104706033036,
          -10.633241122562389,
          -4.581515467071043,
          6.791032944161279,
          -5.929521333143754,
          20.979865325109163,
          -11.829115772828379,
          -3.771079528942306,
          -7.021036485842118,
          2.8122285680254047,
          1.8717544205676464,
          -9.863303197976215,
          -3.7578760588282547,
          -6.348151119445358,
          -5.264608960755472,
          -4.167636260781663,
          -1.0578056309344586,
          -2.9553810904953193,
          9.557978144731958,
          -3.2728430144915523,
          -6.186039218712352,
          -7.9641545679276184,
          -8.07473912597882,
          -3.082876737347902,
          -12.79736665609583,
          -8.564983923370173,
          -0.9297807896522162,
          4.480618592239982,
          28.86163324267099,
          -2.6938386358074458,
          -11.261645797653836,
          -7.628975869274533,
          -12.057716752933604,
          12.941682678724417,
          13.080551212821227,
          -16.342755323783692,
          -8.772073691342491,
          30.588656038773028,
          -0.33237720151301847,
          -8.37589089899451,
          -5.85957327790841,
          -5.0941167000155,
          -4.266088819802008,
          -5.468338798729687,
          -4.696593242259477,
          10.546700338107481,
          -11.153022791546675,
          -11.1202723545759,
          -2.495369127026595,
          -8.7903590834429,
          -10.332331436172105,
          -2.0763027401843175,
          -4.7397046430367675,
          30.122783622188468,
          -7.3877843083580474,
          -7.770571282950083,
          -6.115006432711578,
          -4.786736988307225,
          -0.8290348364835778,
          -12.057708639934745,
          -13.553445728224837,
          -2.005860475009158,
          -0.39914605666057895,
          1.483804086214781,
          -8.546846376455356,
          -0.9665876126973721,
          7.991388377058833,
          -2.4154460067899737,
          -10.846869748749773,
          -5.653631609554214,
          -7.633586167718157,
          1.1773859977124554,
          3.7153688862546543,
          -1.817386446854604,
          -10.903182496165067,
          2.260108743060734,
          7.101718607674635,
          -6.44966005831796,
          -14.338065072058765,
          -10.584617570624918,
          -5.377659348195385,
          8.16176323758535,
          12.391968929457763,
          8.981848597789265,
          -0.8122088687567732,
          35.97922057745953,
          -9.957139305480993,
          -3.590490177682846,
          -4.7048331048674195,
          -1.2609186141380158,
          -4.4636581686959,
          -1.0395671627798924,
          -14.363824970983217,
          -9.06737598714692,
          -4.561390123263981,
          -6.921835432314106,
          -10.65949240391021,
          -4.891321000559447,
          4.924692045588355,
          -3.4440660945306982,
          -6.66659990978694,
          -0.3058329124106941,
          17.678443849739175,
          13.396973649061373,
          3.830298658018139,
          1.530586448282077,
          18.308743255384286,
          -9.641439149137751,
          -9.581510935710345,
          10.536259084750911,
          25.163996265631724,
          10.295619237463313,
          -5.176235977640365,
          14.413873980327715,
          -5.910243774384363,
          -0.8324331345758225,
          3.0235150534022184,
          31.634321578597156,
          10.212789318666196,
          5.279341192116878,
          -3.8960723401990935,
          5.3866755839574045,
          2.3959371329121084,
          -8.342399601080807,
          0.12896469597284668,
          -11.22399308173665,
          -11.445869389986319,
          -3.4771824410527508,
          -6.954803792798012,
          -11.870743675198373,
          12.044056908273333,
          -5.681294241675588,
          3.4027771410834413,
          -1.5850741759749956,
          -5.097351468418324,
          -7.863005546070157,
          -8.759068295049381,
          3.9522701884504317,
          11.482985226955323,
          -3.1905685887647026,
          -0.7032583375453108,
          -4.384277403450146,
          -8.95282033176943,
          25.456179473592957,
          0.25241090456349574,
          -8.794699860286926,
          -10.941793358423775,
          -6.8133670470600265,
          3.1851770621996858,
          29.215735448244356,
          -12.60655720864935,
          -0.9890703519220447,
          4.099232190892657,
          -2.056306895951026,
          -4.823144642510357,
          -8.2768002088743,
          -8.933226277429222,
          -11.131824274222204,
          -2.029735346462609,
          -7.174377354522128,
          -6.533899314371593,
          -8.128887444680764,
          -15.033306427422518,
          -10.608286962990238,
          -5.841841686826106,
          -7.919686068682823,
          -8.36306460528343,
          -1.6358476835747138,
          -8.812009255987325,
          -13.218041292854998,
          -5.771222933955012,
          6.572740036622068,
          8.912787911792531,
          1.9779959083755352,
          3.1470767907247064,
          14.027556976098573,
          4.510924912015323,
          -7.265951525259918,
          -0.11673607407768127,
          -2.8931091398060222,
          -6.251598992923213,
          -1.396049341353205,
          -8.652226215589064,
          -1.0026614878452806,
          -10.865566249666072,
          5.726310693377979,
          -4.197860375775927,
          -7.81417292430623
         ],
         "z": [
          -3.6474598098808464,
          -3.325720542216553,
          3.5045600901884897,
          -0.11974603057799627,
          5.437495392659757,
          -4.961561149887508,
          -2.769136634115683,
          -3.2356784670207266,
          12.445507286422675,
          10.650728546994936,
          -6.470478396796001,
          1.1388938286756174,
          -3.461436617792448,
          -3.878116323886206,
          -6.287688289852391,
          -2.8076856409170765,
          -5.1593821927542916,
          -6.5573333678073915,
          -6.56022920942652,
          -1.0310228228923721,
          -6.610114724822987,
          -7.006383677558104,
          0.7103239965091632,
          -2.035926259192757,
          -2.4661822610409505,
          -5.774218117186258,
          -4.900313995005503,
          -3.2857532082096927,
          0.8652488431313516,
          1.8152712332406093,
          7.651344480183173,
          -3.8262283007396514,
          0.8800450976353887,
          -0.02641751326685926,
          30.319094356931554,
          -2.6558441632635197,
          -2.795298644732008,
          -4.435628707501894,
          -6.74508725448563,
          2.002502848593842,
          -4.380723183584805,
          0.8048942111549995,
          -2.8769038422230997,
          4.1923797534966205,
          -4.271375024391571,
          -3.6319530501809165,
          -3.9427180212009962,
          -2.7729706261935623,
          -5.804583226602287,
          2.4894053551238597,
          -6.292308959174435,
          56.55577752328256,
          -1.2053933934042513,
          5.749174451546602,
          41.12894646439712,
          8.331024188576375,
          0.45274097460393525,
          -0.6352476249211492,
          1.7121085591447938,
          5.95309522381442,
          -3.0921450527615204,
          10.134822825701253,
          10.962679342064433,
          -4.964869718000812,
          -3.760221431338832,
          0.4789488679955549,
          -0.5591995075671027,
          -4.658364301625415,
          -4.3757926736761386,
          22.707688899097718,
          -1.7137069175585737,
          -6.071495756326357,
          8.64267472901301,
          19.799294852884767,
          -5.3184117112078315,
          -3.215293382410758,
          -1.8717274631812546,
          -3.564874907058355,
          9.433613220375905,
          3.1931590523397135,
          0.41629085981961933,
          1.472171766442785,
          -4.253063202295347,
          -4.261864183796265,
          -2.5931108915817127,
          -2.7392823976820395,
          30.364815119611453,
          -4.624649204477129,
          25.13967788624583,
          -6.289934846546329,
          -4.411398363503003,
          12.023130955990366,
          -3.6598788460018965,
          -4.6569519062605105,
          -5.317092441282264,
          -3.8400280765635215,
          0.7823663588064477,
          12.226581643558301,
          3.4871773598466653,
          -5.9546932359868965,
          -0.5523667682730368,
          0.042013040361817744,
          -2.6450603056243076,
          -3.5643225595001664,
          -0.8845313392617791,
          -3.5276856578706215,
          2.1001854799047392,
          2.971580648497313,
          -0.6690069704165917,
          33.287750177546734,
          -2.638915843864543,
          40.25870460241283,
          -1.3825289548197874,
          -6.992020073849045,
          -5.324866177996547,
          -5.559323757108064,
          -4.047154494987073,
          -0.976542355951967,
          1.131698004268512,
          2.770933578395311,
          0.4664830443835418,
          -1.8749068013591639,
          3.8603188144102463,
          0.9786950151194592,
          -6.3006545411262245,
          -1.5363478864509477,
          52.78862893944567,
          -7.549522288045741,
          -4.339229201561214,
          6.023990761908976,
          4.522997481551772,
          2.107614995254923,
          -2.9402488281402244,
          -4.139602949531706,
          -4.637238253008708,
          -3.2683806153214765,
          1.6462229518863363,
          -4.506193399955244,
          -1.8440729123819886,
          -3.9515022982046486,
          -2.8388664911363097,
          -5.229467740513016,
          0.6737316331132154,
          -3.484573554116644,
          11.556340435017633,
          -5.55160268892625,
          2.17022826372467,
          -5.362813727122011,
          -4.751664923816729,
          -2.3037541156445975,
          -2.971846192956405,
          -5.664703057997446,
          -3.558342112718978,
          29.20616638709578,
          6.795278913603165,
          -4.352928945599746,
          7.9296820941581965,
          -4.226774248926243,
          9.231486668063837,
          -1.3396446782537974,
          -5.856548378185186,
          -0.28608328723760124,
          -2.8232449602507512,
          -5.532750775023042,
          -5.438104130689459,
          -2.5627161168933164,
          -5.241127292677628,
          -1.062731712332298,
          -3.598530782781707,
          3.2632905681453406,
          -1.5426605424113928,
          -4.174918893712892,
          -2.780166102630828,
          -5.043774415531941,
          2.7943300292980666,
          5.58503041681065,
          -1.1241491004842223,
          -1.6776495252900139,
          0.8832113323450117,
          -7.181009942449051,
          -0.8056602448012995,
          8.076887699901999,
          -7.650526354586196,
          -5.152692283830026,
          -4.354140123814426,
          2.7801400155788794,
          -0.3835897665160102,
          -5.462215336223676,
          -7.753962211243386,
          -6.199767684314313,
          -4.739713184540455,
          -1.6499239028004329,
          -3.380761733431596,
          -4.221288007620259,
          1.04637126702856,
          -6.567439827244366,
          -7.1515423772331586,
          -5.238325362996618,
          -2.763610576274034,
          -7.035477483594899,
          -5.539313427374215,
          4.712305986163737,
          7.437881115287425,
          -3.575729783702468,
          1.1200124703660879,
          2.2022605104744493,
          -5.345895769988507
         ]
        },
        {
         "hovertemplate": "rating=TV-MA<br>x=%{x}<br>y=%{y}<br>z=%{z}<extra></extra>",
         "legendgroup": "TV-MA",
         "marker": {
          "color": "#EF553B",
          "symbol": "circle"
         },
         "mode": "markers",
         "name": "TV-MA",
         "scene": "scene",
         "showlegend": true,
         "type": "scatter3d",
         "x": [
          -72.37503908194667,
          10.588600754729123,
          -92.43113035773754,
          -106.43824671267019,
          -69.45293373938196,
          -123.49838510587686,
          -81.37696658971153,
          -61.440196998291874,
          -106.45308249916248,
          -69.36789395151943,
          -65.38517724302366,
          10.628555159601172,
          -91.45754699819378,
          -88.38463579224437,
          -63.37462889295308,
          190.5859189241938,
          -69.37658888418187,
          10.647614299724845,
          10.621450254116299,
          -76.38687945471978,
          -102.46809129776044,
          10.571107013645406,
          -62.3724849501243,
          -62.40602813480021,
          -45.378980800336976,
          -69.39770884471189,
          -80.40192967492827,
          -34.38552556450307,
          -78.41669303841303,
          190.58200081605864,
          -58.41691233243686,
          -62.43799587909116,
          -67.38303645710573,
          1090.5591646783002,
          -115.49114361532341,
          -46.40441593937655,
          -62.37605248080564,
          10.526196836604871,
          -73.43597300785831,
          10.604048441612,
          10.637372119398774,
          730.5979414946263,
          -39.41287457339049,
          -111.4381806325046,
          10.634152911341324,
          -102.46164385076938,
          -74.38337906321578,
          -82.37158796321116,
          -49.482906651802665,
          -76.39098290682763,
          10.586220449170836,
          -66.4146942363361,
          -68.35736900693487,
          -53.37669388361548,
          -84.46524357007985,
          -75.38553034379002,
          -83.37848559700122,
          -82.40671162386734,
          -45.36279382869642,
          -62.406422781643414,
          -74.3891430952117,
          -96.43626977332875,
          -69.43159947440166,
          6.612023614531414,
          -49.39588441486985,
          10.604057314841569,
          -104.47860320793104,
          10.560874264053831,
          -67.4146602588715,
          190.54565882585828,
          -53.470852923601306,
          -75.38871451636216,
          -81.53320883736691,
          370.6199379731875,
          -88.39744246715576,
          -75.38907439847488,
          -65.3920299015485,
          10.618198765293698,
          -71.40399387717429,
          190.60492222403732,
          -74.34884018273114,
          -81.3664163987317,
          12.609759861713012,
          -115.46779934135671,
          -76.3621728537902,
          1450.557495609228,
          -38.40661175628612,
          -72.37662785239647,
          -66.40629807154471,
          10.523973647384869,
          -60.385097421763874,
          10.622235641674198,
          -68.39103315737573,
          -50.39965832921692,
          550.6535257389072,
          -79.37845473528236,
          -72.35535984443891,
          10.607702799755941,
          190.62227704554698,
          -108.41487600663726,
          -72.3528557105011,
          10.565887734763256,
          -39.441253640760166,
          -29.41940876665217,
          -63.44031067421117,
          10.562831784864215,
          -52.38309279657351,
          -17.387659200673735,
          370.6325903178816,
          10.582141556832777,
          -71.39195060534978,
          10.630683418307791,
          10.630939204438814,
          -108.46364962464865,
          10.630696069959336,
          190.56871516396916,
          -85.64004213880769,
          190.5834079326745,
          -83.51916990475814,
          -75.38669716242133,
          10.641313657106377,
          10.609728902564163,
          -103.44250456011478,
          10.641441514173303,
          -46.40861935922694,
          -70.38500172812151,
          -73.3954035606989,
          -74.37067640599076,
          -71.39789146824947,
          -73.38272820123167,
          10.622211612079559,
          10.542406140713712,
          -88.54250331387482,
          550.5812972597906,
          -39.362086162209486,
          550.6193119327783,
          10.622226919672052,
          10.626752470156317,
          190.59636589798248,
          10.5859650615847,
          -43.444653086233245,
          -76.38055949344736,
          190.6253986671729,
          -72.4143610338988,
          -82.37267977739845,
          -138.4845123475438,
          -84.38438896748778,
          10.596322899207838,
          190.60478003665787,
          -100.48014756403563,
          -76.38069517284532,
          -74.39968390095811,
          10.552022555072343,
          10.64765720462799,
          10.616134883009277,
          -78.40593166112014,
          -55.37669148114389,
          -98.40749060498933,
          10.532363446378643,
          -74.44868850739405,
          -81.41866613599531,
          -79.42691575966036,
          -119.52723380076122,
          -95.43415470037831,
          -53.408589685679246,
          -58.39799325450102,
          10.628303644606515,
          10.615891235999825,
          -79.52767625272504,
          -98.48717411813581,
          10.622160926085515,
          10.562133434458419,
          -63.4171582495796,
          -94.38003170012787,
          -90.45322710330939,
          10.632247254747492,
          -75.45140712611115,
          10.626269603197052,
          -39.38750131562449,
          10.615482421214981,
          -102.49347258261585,
          -82.39970836886121,
          -69.3976862955116,
          -59.390159180873006,
          10.598904081084079,
          -95.3672917972751,
          -81.36426393248651,
          190.59874907423318,
          -60.36824512365601,
          10.60313359664738,
          10.583210695935838,
          -32.42543054244202,
          -94.36361657864177,
          -70.41037573670351,
          -45.41068944568231,
          10.627777553134175,
          -107.4466939249222,
          -87.42150487194525,
          10.576859367323324,
          -30.410863656584404,
          -72.46542619207192,
          -88.51569643482235,
          -58.38310734221454,
          -72.40193958067017,
          -44.37465510748929,
          -98.38728362871318,
          -75.38912981770652,
          -100.47226384038801,
          -99.42985476702223,
          10.656524476956616,
          -56.5294231595758,
          10.593803940614313,
          -78.40391829240409,
          -26.360144829801776,
          370.61115969483427,
          -21.489419831098587,
          550.6132404540651,
          370.6049706612798,
          10.592721362059727,
          -88.39741380641647,
          -95.50847791066933,
          -77.36534585228593,
          -39.42168692664287,
          -29.406678010250207,
          -107.46155374100914,
          190.53482937220875,
          10.622419339021304,
          -77.39510680907564,
          -45.43682419236008,
          10.444281504546742,
          -91.47031458807645,
          -43.38291641696488,
          10.60090434900156,
          -62.40482760380763,
          -78.34659116027971,
          370.5420325937982,
          370.5475962532507,
          10.582870199736767,
          -73.43363230338159,
          -65.35752434600315,
          -109.4233472484839,
          730.5716215205447,
          -64.37299667786874,
          -77.35588095949083,
          -67.35529005075699,
          10.608330374802243,
          -71.41028980885207,
          10.647816872380455,
          10.596993965291826,
          370.63629526935046,
          10.52310172890067,
          -79.37290191485643,
          190.61992361624968,
          -88.39699536559105,
          -105.42555727147828,
          -77.39614083584875,
          10.569379462475379,
          -85.46826791113418,
          370.61838430246434,
          -81.40767339381331,
          -98.45956358563458,
          -75.47713006169246,
          -60.37035422332864,
          -72.39759078227343,
          190.61105969720245,
          -74.41307466579501,
          -108.46513290423829,
          -68.38516162451894,
          10.609787870334763,
          -54.35752593222161,
          -72.3764908381755,
          -87.45054368039614,
          10.605593700083315,
          10.558407954924222,
          -60.42281816512332,
          -122.56194669119333,
          -70.37001386475357,
          -105.42340011261638,
          10.520041489938766,
          -43.46817419110372,
          10.584154538126846,
          -52.410637267472325,
          10.531015704669278,
          10.639156498244475,
          -79.37812643111226,
          -75.38143923686867,
          -77.41445336462766,
          10.60715934333512,
          190.6342906503585,
          -77.40261694357912,
          190.55822424536942,
          -67.39524834910901
         ],
         "y": [
          -7.798183584875773,
          0.28593776848731595,
          -2.135271582324319,
          7.008727346156942,
          11.320085412061488,
          12.476273027206398,
          -6.723976177880647,
          5.954503721000201,
          11.088403324629224,
          -9.78852750270915,
          -4.590068185075081,
          -7.353135092322854,
          10.946266531374057,
          -7.082508608047283,
          -11.26735513552915,
          3.4137294555171187,
          -12.573952754866525,
          -12.426164886484306,
          -5.257994578897328,
          -4.7421548334795425,
          9.200446902914178,
          6.675782470306923,
          -9.965607199287108,
          -6.78675354169414,
          -9.003584198032286,
          -5.208723941975749,
          -3.0532402623849353,
          -9.262731343305944,
          -0.16929071502668464,
          3.198691725871714,
          -0.10039222267346302,
          4.869534966765465,
          -8.097289785436011,
          9.89214037025651,
          20.004400984150266,
          -0.6445916276548611,
          -6.554395728147599,
          4.554524266327371,
          4.910368710485373,
          -2.475130737141099,
          -10.537209394267894,
          0.49722905090076486,
          -2.2053896155239823,
          6.988752582943504,
          -9.438701098817353,
          11.896983411560631,
          -5.800931628938593,
          -8.825206177720794,
          18.340967410030604,
          -3.743623847482824,
          -2.2078015118897416,
          -3.6221574615700525,
          -12.870996231917458,
          -6.5410683934228135,
          13.04202850701865,
          -4.71068374351225,
          -7.938313372418358,
          0.2201883041941833,
          -10.652990547562016,
          -2.008316325238016,
          -8.41354282225462,
          5.95298497187994,
          1.541225559678045,
          -4.410573764136482,
          -6.234996128035899,
          -2.47588859903673,
          17.06204384986656,
          7.366411358336539,
          -0.03531625500991044,
          11.06867447275998,
          15.277275713403762,
          -4.82271482379414,
          12.206012323666355,
          -4.935417170594927,
          -1.7075849396361926,
          -3.6417143221197534,
          -4.985645815270731,
          -4.282499011090169,
          -1.941706138028021,
          -2.8561517189430705,
          -13.673975363562576,
          -11.016864380342565,
          -4.486965756980115,
          15.132124729317322,
          -9.586954950987879,
          10.3361839205519,
          -0.7152370311411633,
          -12.58917881299072,
          -6.810140401099342,
          14.027340751850055,
          -6.970510342018377,
          -5.262652894215718,
          -4.907316265978796,
          -1.6285273853413584,
          -12.071399354437567,
          -9.136238461475127,
          -12.78747972058691,
          -3.591677127089488,
          -5.651604189485579,
          2.128461186038627,
          -12.6795962702173,
          6.476631971526703,
          8.34937250707423,
          1.1090354092855212,
          -1.2317029418120382,
          6.268912266904934,
          -6.825517973525977,
          -4.506452627560982,
          -10.295748885052017,
          3.5736295699579617,
          -5.0096155311268555,
          -10.842391923344861,
          -7.266614840411798,
          14.165428038559998,
          -8.44869805487961,
          6.1975385578789615,
          53.74067469524405,
          3.301823110290134,
          27.1935819893721,
          -4.721217645678968,
          -10.33699023194414,
          -2.278903358082625,
          9.212096005492755,
          -11.548231855764667,
          -3.239104282325947,
          -7.0131047541394596,
          -2.7408472570392064,
          -9.981638148858616,
          -7.623760943989324,
          -5.724162502059634,
          -6.459375336367334,
          11.354774912856287,
          27.26131124797,
          3.639285765064993,
          -10.563240551717412,
          -14.868983599219451,
          -5.277315218024507,
          -6.273601619562839,
          0.33096607600196193,
          2.594362027510649,
          8.217796669976327,
          -5.637234713922785,
          -7.82597880532521,
          -0.053664707410810635,
          -8.917905869296241,
          16.625441371256827,
          -7.049108573797908,
          0.708055718656478,
          -2.8549863587333677,
          15.844810482398046,
          -5.626817979759655,
          -1.7495120176777748,
          4.570068869131668,
          -11.230749987899662,
          -4.385309442498307,
          -0.85926080671113,
          -7.7457807408598045,
          -1.0353899637915494,
          15.62989396548153,
          7.890191243579491,
          0.9027469345006187,
          4.1023360956841755,
          24.25451417972602,
          6.057978194269517,
          -0.8746173790491529,
          -3.9817013260837912,
          -7.345108730922309,
          -6.761912459834956,
          24.40596343346691,
          16.684208935516587,
          -6.458196730947486,
          8.650938419688574,
          -9.695746166328298,
          -6.898947971038877,
          11.132822573851461,
          -8.345445461041193,
          8.919832513697045,
          -6.255208380866057,
          -9.36715032055717,
          -4.379897880186568,
          18.75858238490585,
          -2.9692459921711634,
          -8.796241162197296,
          -6.039516709894597,
          -0.4041049244267666,
          -9.886927001449973,
          -10.904682697800673,
          -0.7649376911308503,
          -9.755556211106253,
          -1.3850379986389116,
          3.70071120208547,
          1.997599701769754,
          -10.874572995024929,
          -4.619529594919958,
          -0.9309375150327692,
          -8.545070281008957,
          10.19077755417814,
          4.302708451495075,
          5.79106446204548,
          0.3257092167591583,
          11.893245496579283,
          22.57835401748309,
          -5.6678903273485925,
          -6.629442422446605,
          -8.796471931468416,
          -3.7055598097572457,
          -3.6449732737935285,
          14.989987936062153,
          5.047369296143481,
          -13.235199095307632,
          25.677857391892164,
          0.593273377159067,
          -0.7598299084918609,
          -10.400377143905962,
          -4.126999061130615,
          19.349440184015542,
          -3.222696374703206,
          -2.035928892720534,
          0.48874670229503336,
          -4.097855697530892,
          24.06143993571612,
          -10.898109550856477,
          -3.8205032946055053,
          -1.8728307731000582,
          13.07373109049881,
          12.958910305087475,
          -5.277043137737504,
          -5.144947494516888,
          6.1482338921176405,
          35.31768116690129,
          13.927933073557604,
          -10.38867806192103,
          -6.272958308693116,
          -0.794403500057488,
          -13.600397597874421,
          12.989341785260036,
          11.974969812335233,
          3.694140639395567,
          2.6342066862881524,
          -12.858493121835037,
          4.1137889519082105,
          6.469293015695142,
          -8.858588587337428,
          -11.682359394616283,
          -12.752852281943673,
          -2.272953555898668,
          0.150096184566837,
          -12.441862673573063,
          0.7064657376848724,
          -8.897657819490322,
          16.30282947254413,
          -8.901338757621277,
          -5.754408170391191,
          -2.881011309980425,
          2.832015778879606,
          -2.841532612827244,
          6.557862631888389,
          11.661805982143099,
          -7.313141873226741,
          -2.173675540531531,
          12.013993763579121,
          -1.8858135139495198,
          -8.659864310402378,
          -4.021865492233219,
          -7.339346120777024,
          1.1616978858543618,
          11.754009455189435,
          -5.798775485154758,
          -2.2776383860984315,
          -11.61622655738539,
          -9.010417377937108,
          2.965306397225379,
          -2.495985226385612,
          9.660009145085429,
          4.382268925226275,
          29.79289182825019,
          -9.893552996799578,
          4.12976876247896,
          9.036335082132448,
          13.088538705262824,
          -2.308952099352378,
          0.23766967802640931,
          15.524205108715398,
          -11.634743215543498,
          -6.72666498733474,
          -6.896036228538253,
          -0.06266557770778636,
          -2.3779170100459095,
          -9.830835642935115,
          -3.1477983635789966,
          8.086727394909605,
          -3.908130713365645
         ],
         "z": [
          -5.354256811513168,
          -2.3670665705337606,
          7.244928569773825,
          -3.9246223307487234,
          -5.4046288438999355,
          10.67327411395602,
          -6.264951978740179,
          -1.907115184874784,
          -4.5150777754708,
          -5.5363371715278955,
          -7.015293156983384,
          -6.1559667450770625,
          -2.486984001106003,
          -3.2926712496702524,
          -0.6523082991598939,
          -5.676197033146765,
          2.2172417967129965,
          -5.66490993133541,
          -6.933208635240876,
          -6.0437673797327465,
          4.346626578411433,
          -5.733062190132548,
          -3.53281921320568,
          4.827828439505947,
          -2.393244176489998,
          -1.055102359614534,
          -2.869025000732828,
          0.6192587186205356,
          -1.5635468109038915,
          -3.6831914678100737,
          -1.5154242669685218,
          -1.0176246933227038,
          -2.3488560573666617,
          -2.058804902509525,
          -3.6286820044175587,
          -5.563794038205833,
          -7.204718599780027,
          15.159042420801796,
          -2.0451841397911505,
          -4.641552384521002,
          -4.466474967117,
          -3.794724716203919,
          0.3279922309675589,
          -3.937508316155965,
          -5.348035281447267,
          -2.414267552914571,
          -5.153246808471768,
          -5.472166273866103,
          -4.648350036986791,
          -5.94737697108766,
          2.4060058167507186,
          3.13659700490027,
          -4.840120179176376,
          -7.185320066324527,
          -3.2499518276302597,
          -6.047357564076759,
          -4.377870881535413,
          -5.566221762700272,
          -5.58560409572019,
          -2.7242942845067666,
          0.6238683942394064,
          -3.005198066950066,
          1.6447576759496783,
          -5.829860021972524,
          -0.10913085064103756,
          -4.642033659223974,
          -3.90360768220087,
          -2.6468664311452947,
          -2.53333694977309,
          -1.883066512163936,
          -3.9732335631718416,
          -5.046409537886185,
          24.808408147505478,
          -5.13088866103847,
          -6.770193883738403,
          -6.937436482928828,
          -3.0400847306182834,
          -6.849629724237107,
          -3.7361299934597154,
          -3.296706002816873,
          -6.950236602512778,
          -3.6899597318704487,
          -4.821925081837105,
          -5.128727993925914,
          -7.549980750666563,
          -1.2205241853341602,
          -4.550832595435549,
          2.20782203704991,
          4.825969975785341,
          1.0496015114155828,
          -3.222699361838934,
          -6.9486174365064,
          -4.0389737875636085,
          -5.677167062701025,
          -6.467411959989193,
          -2.479135950465217,
          -5.8512238504253276,
          -3.7660469439547506,
          -5.586630420482541,
          -5.429822714419974,
          -6.846658727548144,
          -3.7316634977851715,
          -4.647303679175693,
          -2.3299729587052544,
          9.413586747411102,
          -1.7571735314273913,
          -4.1966431359662915,
          -5.891712751927288,
          -1.6503138157398547,
          -5.0466885141727635,
          -3.055547913106974,
          -1.4858531867695173,
          -7.153128200205303,
          -5.211753230443138,
          -5.262378466625426,
          -3.3803666580506126,
          1.8743006731393481,
          -4.670608300372503,
          -3.833548291688345,
          -6.046293426984231,
          -6.459227607871688,
          -6.634998808551326,
          -5.704195325472717,
          -4.572957798552123,
          0.20249250058452417,
          -3.2502607804230133,
          -5.833904556313673,
          -3.568073454678154,
          2.715490315752576,
          -6.13934755600057,
          -5.060247234450698,
          -2.232220847704182,
          5.207170518052734,
          -2.8546992676309615,
          -6.556409819509335,
          11.341079458900493,
          -6.941076385868891,
          -7.047374958887253,
          -4.981784355852498,
          -5.143466429870254,
          -3.648030223377054,
          -7.137432170431019,
          -3.7883562816276424,
          -2.551026034150643,
          -4.48234332431391,
          -1.0070006583383615,
          -3.287486544505229,
          -6.335573705614054,
          -3.2954569716209168,
          -1.9977645931007861,
          -7.143316903842323,
          -5.737662288732562,
          5.107341747167805,
          -7.554947118498053,
          -5.8505258176409916,
          -4.649407270364668,
          -5.302104258431721,
          -3.7093034750983813,
          -4.810830697406228,
          -1.7445567533061512,
          -2.4661059414012003,
          -4.152854696588923,
          3.829362651194205,
          -3.9972413410872365,
          -3.592398599632901,
          -2.9160349206961627,
          -6.154391414487043,
          -2.0756151980189355,
          3.937327493719109,
          0.09080513399110934,
          -5.058516234811226,
          -5.5246415988075706,
          13.579292480228665,
          -5.3028865739031,
          -4.473864678896076,
          -6.238568000142316,
          -1.6531621709060222,
          -7.046592899439513,
          1.6066721506635318,
          -5.841963087644775,
          -0.7120903312314886,
          -3.8688414697598423,
          4.6135072814721525,
          -2.1332713472589298,
          -5.446883823109467,
          -5.608660619246642,
          -4.6797786249465645,
          -4.0844200237055075,
          -5.5171006371858535,
          -5.54963706308541,
          -6.024352315626167,
          -1.2493560828524157,
          -5.7055778747743116,
          3.0257567305970983,
          -2.572805214073172,
          -4.252251756288365,
          -5.613438497711147,
          -6.168288252606363,
          -6.816938992522972,
          -4.422517459907151,
          -1.3306552605971715,
          1.7258874658776606,
          -6.102401687745034,
          2.815690822724682,
          -4.3740049848721565,
          -7.00221881523498,
          -6.938821553854301,
          -3.100634219561119,
          -4.108713183353312,
          -7.760856832042997,
          2.110955257853335,
          -5.337182195199486,
          -5.643484063277392,
          -7.519785130206722,
          -3.0362766956443883,
          -3.4764467541563406,
          -4.559905009746185,
          -3.8263386785815037,
          -4.35486582565722,
          -2.9917205528329647,
          -3.1718852958064,
          -4.665838497261605,
          6.186502732635823,
          -2.6375346928527774,
          -4.31552374037752,
          -0.6838377378562934,
          -6.950781843775076,
          -2.0723092208298954,
          -2.868404013229979,
          -0.8125706004957483,
          -2.183865150261062,
          1.49279414689575,
          2.9985616542089373,
          -4.615407758706925,
          -7.95547637917826,
          -3.293560719047992,
          -3.410399617259158,
          -6.0250757808428546,
          0.7413307247497014,
          -4.836112357658653,
          -5.230268679326694,
          -3.173318282740173,
          -4.4387351454013775,
          -6.766069083530665,
          -5.833204379358296,
          -6.631215019245443,
          -4.53083540481715,
          -5.668741323711025,
          -6.339238967164029,
          -5.526477480334333,
          -1.7418138639218135,
          -4.477447955293057,
          -4.595401143175902,
          -4.880273592829968,
          -2.336871779873661,
          -4.860561832988812,
          -4.743276541655172,
          0.6136985246846517,
          -1.3386691664300392,
          -1.7781325952510898,
          -3.398676673660315,
          25.390392297669543,
          -6.410752930170022,
          -2.9476485970194317,
          1.2741230881635452,
          -4.445787495860219,
          -1.4262705777528077,
          -5.134654546172027,
          -6.642714954214153,
          -6.696774507977235,
          -3.4575464067606383,
          6.77674177058661,
          -4.659699236938924,
          -5.429831481964301,
          -6.090622710190916,
          8.419542102326117,
          -4.544196459537806,
          -5.219959891000901,
          10.586077412074586,
          -2.1540612077203165,
          3.40044458703422,
          -4.480693414000835,
          -3.8315215896002197,
          -3.576139496744448,
          -6.258253404185502,
          -4.265007934792535,
          -2.556328639052784,
          -5.647469669561094,
          -3.9950254913651673,
          -1.8781410325682366,
          -2.184374818569007,
          -3.935387495370362
         ]
        },
        {
         "hovertemplate": "rating=R<br>x=%{x}<br>y=%{y}<br>z=%{z}<extra></extra>",
         "legendgroup": "R",
         "marker": {
          "color": "#00cc96",
          "symbol": "circle"
         },
         "mode": "markers",
         "name": "R",
         "scene": "scene",
         "showlegend": true,
         "type": "scatter3d",
         "x": [
          -36.4002628301452,
          -88.36954146836882,
          -78.38137382377762,
          -80.40772645297432,
          -65.45730584823839,
          -43.38806235652245,
          -75.43438345464034,
          -56.39968074543934,
          -76.39745438341335,
          -78.4697243014806,
          -61.43065027196186,
          -63.41229151346694,
          -28.369201918564944,
          -11.442773113275583,
          -66.37306677883626,
          -75.3801409037281,
          -78.42318024087305,
          -72.4375407732787,
          -85.37896742831695,
          -79.45036578858681,
          -40.465924347078094,
          -75.37387436795525,
          -76.45056751490259,
          -69.3803110081855,
          -57.44520280411718,
          -34.457160753438345,
          -87.42799322199932,
          -52.44767458265476,
          -72.4407837191464,
          -78.38342903217293,
          -77.39511618877782,
          -68.37834293724491,
          -60.40692565666738,
          -64.44826408869068,
          -60.39641092247232,
          -80.39714448884529,
          -72.3866039692239,
          -76.38137430117858,
          -58.441096229328714,
          -61.477964360925576,
          -72.45663148100414,
          -71.3888030048582,
          -74.41006044399023,
          -58.47220221806008,
          -79.3940345878836,
          -77.36945850809218,
          -77.41214813358906,
          -35.3713479326149,
          -56.393647242342375,
          -68.46963089431597,
          -73.400675929012,
          -62.40202368181209,
          -83.41084662182432,
          -68.41766779274803,
          -29.461568562132374,
          -54.39434268696832,
          -50.41881729563873,
          2.6018087074696576,
          -47.41864928475968,
          -58.38693780240006,
          -61.40696987952571,
          -76.3994483536794,
          -47.3869911015514,
          -65.43872641026178,
          -72.40893829545072
         ],
         "y": [
          -1.6008779436641838,
          -11.156715316550518,
          -8.111910787163279,
          -0.9634199121101981,
          3.9325009056702127,
          -3.487153358242374,
          7.3159439651873885,
          -7.657083476394394,
          -7.636882798280892,
          -13.4708118951256,
          -4.376107578959761,
          -4.687795030647815,
          -8.512717547424637,
          1.2732493756842724,
          -14.839047900406168,
          -5.611196348558093,
          1.906409869503529,
          2.4429934649572305,
          -5.642815025112675,
          0.6094213839001374,
          -9.52518663068464,
          -8.914014180694373,
          -13.737073114481387,
          -11.573101551415627,
          8.078610850396261,
          12.441376096284436,
          1.6038544072637637,
          -6.3520962113651835,
          2.24973563662235,
          -7.0283519807727854,
          -3.94808023979252,
          -7.893945229441412,
          0.31125138874184033,
          4.36324526316326,
          -8.744630424930639,
          -2.8524222433071333,
          -7.0990255571248655,
          -10.496247693323216,
          -1.2859514154697185,
          16.12269693278994,
          6.318818057266761,
          -6.002512830186835,
          -5.840700446898237,
          3.255757077695396,
          -2.738397066596431,
          -9.899127243923086,
          0.042038162420859775,
          -9.841689037069232,
          -8.543694757581724,
          8.120281737424236,
          -5.403064314706887,
          -4.196048011716497,
          0.030051411366298394,
          -3.8190575799289883,
          8.66907387467034,
          -5.030891601710515,
          1.0320597363929829,
          -6.1214413848865314,
          3.4412264188187898,
          -10.63643767299062,
          -0.889321193479712,
          -2.9525980543022294,
          -7.012224349474985,
          5.967449110388902,
          -1.0231450729028613
         ],
         "z": [
          -5.641461726431549,
          -2.7075321285492633,
          -2.385507415044641,
          -3.662944566973174,
          7.922591688747929,
          -6.858539550454578,
          -5.833118796045455,
          3.7497542482605453,
          2.70188736229405,
          40.306597369492444,
          11.097172224820085,
          4.035444847062485,
          -6.3353907815935555,
          6.762508328430266,
          5.002861573728399,
          -7.140364864176938,
          -2.361266973460485,
          2.7326267719229342,
          -7.171031794510768,
          10.566322803618224,
          32.74567606936745,
          -4.459157316827709,
          33.25039571684202,
          2.32179425777495,
          -2.702578205327299,
          -5.217443861499341,
          0.5925278813024937,
          20.970552438975208,
          4.713959312121207,
          -3.2736007903912157,
          -3.9611594661848466,
          -4.343960083595296,
          -5.507790500114378,
          3.9500934898207833,
          4.627881809209116,
          -4.862351109973049,
          -2.2601093436622866,
          1.4025937520897747,
          10.417269411889222,
          -2.890549618671134,
          4.13324375610316,
          -3.152917366359035,
          4.900213842040735,
          14.907636510037637,
          -5.861632932907283,
          -4.565306944632855,
          -3.5566839225672355,
          -3.472071211898605,
          2.6596937598485457,
          6.33182089466761,
          0.9169355369526418,
          -0.9352776105722388,
          -3.5753299766090816,
          5.10807910466553,
          2.450073957582773,
          -2.014265200761516,
          -2.3915291554773845,
          1.0248720382233065,
          -6.159173736246814,
          3.4393490948510674,
          -3.622477538439371,
          -3.859249579810063,
          -2.1952513797354216,
          -1.9257100890866652,
          -2.6512097812683533
         ]
        },
        {
         "hovertemplate": "rating=PG<br>x=%{x}<br>y=%{y}<br>z=%{z}<extra></extra>",
         "legendgroup": "PG",
         "marker": {
          "color": "#ab63fa",
          "symbol": "circle"
         },
         "mode": "markers",
         "name": "PG",
         "scene": "scene",
         "showlegend": true,
         "type": "scatter3d",
         "x": [
          -57.563251448324266,
          -78.44070849252998,
          -50.47607520974889,
          -27.4130118473696,
          -51.410201372171784,
          -56.5204296934963,
          -83.4756135603145,
          -78.4735945704021,
          -68.41644462524746,
          -69.40812163474367,
          -75.42694974015035,
          -84.45652559701234,
          -87.49262573032014,
          -71.35689362401648,
          -26.440656559479958,
          -77.56083926334999,
          -71.3590986098595,
          -78.45255163286514,
          -78.4312203401925,
          -38.44029348382303,
          -77.40782047745799,
          -74.41626921067021,
          -51.47426621929191,
          -76.39932519019685,
          -94.4902813593857,
          -75.4003796864233,
          -95.52209239570432,
          -74.36543455217546,
          -63.39948780268352,
          -69.4323785030539,
          -58.44413079338929
         ],
         "y": [
          9.693803518792294,
          2.223648025383397,
          12.66699531509174,
          -15.306264852906974,
          0.255476621537384,
          26.096830317785393,
          11.356493776712744,
          9.084054197070689,
          -3.7055634053844635,
          -3.3013831792036146,
          -0.6506313500499561,
          8.67227520339285,
          10.532269634560077,
          -11.659195082140354,
          -8.259830409052917,
          9.727047612278444,
          -11.76069909658129,
          -4.2663096942713,
          -3.256004279793901,
          -1.1084122293468703,
          -4.534136124834985,
          1.057356647365875,
          -9.961645485732879,
          -2.9286098621960623,
          17.78676422148201,
          -0.6421071232926808,
          24.644061236798937,
          -14.468746990162606,
          -6.48449557551112,
          2.653280876879915,
          8.172374162428108
         ],
         "z": [
          40.69367312560855,
          4.702861015517946,
          1.8075808097480048,
          21.12398191291342,
          -4.478969892252314,
          -1.8643351685479783,
          3.614187248530553,
          6.409095728977662,
          4.1262967815848794,
          0.14206824696937564,
          3.421100227090734,
          0.32201332454760634,
          11.561621732777024,
          -6.7382044451610765,
          20.843429111450924,
          39.65405263183028,
          -5.741107908604825,
          19.122359062930755,
          9.175179972215428,
          9.482522587040599,
          2.01271389473395,
          -3.4426472091266174,
          36.703241835442284,
          -3.854310219063776,
          -0.7830625597343763,
          -6.642782340587996,
          0.9164805840470927,
          1.00967600399212,
          1.8426817649890812,
          0.7398546263820522,
          -3.6916352929808
         ]
        },
        {
         "hovertemplate": "rating=TV-PG<br>x=%{x}<br>y=%{y}<br>z=%{z}<extra></extra>",
         "legendgroup": "TV-PG",
         "marker": {
          "color": "#FFA15A",
          "symbol": "circle"
         },
         "mode": "markers",
         "name": "TV-PG",
         "scene": "scene",
         "showlegend": true,
         "type": "scatter3d",
         "x": [
          190.62341296164328,
          -83.43521358542344,
          10.617669277098724,
          -86.41619952697347,
          10.560590991359428,
          10.577467215487486,
          -87.36341383398342,
          -77.41324153664891,
          -74.39079180743623,
          10.583899346108105,
          -74.4142305841462,
          10.633776947015427,
          -97.38873504729155,
          -33.37688148434927,
          10.568973884378142,
          10.588468855850651,
          -67.40785323542762,
          10.603304642342941,
          10.608330374802243,
          -62.42113844654504,
          -63.37182575907157,
          -42.40830316119438,
          10.621983594822531,
          -105.45188241524063,
          10.560256486005027,
          10.535021835321228,
          550.4789100646387,
          10.56274911009989,
          -103.49773138795553,
          190.59836051470901,
          370.559934697556,
          10.623159359868387,
          10.56874929882373,
          -117.43603313969626,
          -109.44983193464896,
          -115.48841278746688,
          910.5887934360774,
          -56.41977556547552,
          10.60689697474916,
          10.609739811145486,
          -83.39951425234202,
          -121.56224684852218,
          -75.48348139030499,
          -79.42090105427587,
          10.587979811026402,
          -82.39718323696165,
          -54.46372280073593,
          -79.58589228810014,
          -44.38315891056198,
          -89.41452637703433,
          -55.38080355693947,
          -24.38970451032588,
          -65.38993698900359,
          -79.53503146738473,
          10.638992788680463,
          -65.39977554749838,
          -65.47846355443538,
          -61.45749825879407,
          -43.41501815612109,
          10.561617797274192,
          -42.485428952566146,
          190.65278263178553,
          910.5903939686875,
          7.6031719812209575,
          -20.396452804957168,
          -53.35962095016956,
          10.518447785356647,
          -78.49470959672298,
          -96.38043489334855,
          -74.45783660341442,
          -13.407045281415355,
          1810.5592262628193,
          10.538852545664582,
          730.514349141441,
          190.61747251986563
         ],
         "y": [
          -7.92918526139696,
          6.076977817313272,
          -13.841154972813491,
          -0.1871451277567951,
          8.56303356275074,
          4.584671348451281,
          -10.85509800953366,
          -0.042427160478414,
          -3.713889066019326,
          0.10191478008968802,
          -1.255871761187251,
          -8.24179567167807,
          -4.92707938042372,
          -6.457995214160531,
          6.574751928859183,
          0.28655386784633297,
          0.29272103950403067,
          -3.7931221106259505,
          -2.272953555898668,
          0.8923703597613232,
          -8.744426737250937,
          -4.407563949512227,
          -11.245649005614782,
          11.183218332347142,
          6.172556617420027,
          13.33477637127435,
          27.53061453443849,
          2.6792889474484203,
          20.943692118353596,
          -3.158680757152761,
          6.613393493283948,
          -6.353503494613535,
          5.379840242712421,
          5.866773430798641,
          10.073027451092916,
          15.401781860848114,
          -8.657929892184564,
          2.114676067769676,
          -5.9654407765490856,
          -4.671083270401666,
          -2.9695888298845796,
          17.829711274754438,
          0.20453974601049207,
          -0.38634731106538,
          -2.0897527353240837,
          -7.652592129940182,
          8.47441821591208,
          40.82383625439789,
          -5.5974336805583835,
          1.06986511407331,
          -6.735260226200894,
          -5.8210191385649965,
          -3.687185578655849,
          28.888674108045013,
          -11.634256054331605,
          -2.910948718793186,
          -10.234445641593343,
          -6.818847136715046,
          -1.1364015157774625,
          6.274876511615595,
          -8.044760738028646,
          -13.691562438827651,
          2.19940803706552,
          -14.383400523657771,
          -10.907900657120472,
          -11.713930978938423,
          12.525607406074606,
          18.844250761957838,
          -6.913337956773792,
          9.815140748563266,
          -4.185173957644389,
          -5.86922554809577,
          7.557484190611376,
          2.546251704757735,
          -4.643213462054502
         ],
         "z": [
          -2.789989382306036,
          -3.9560850413216295,
          8.260744731340095,
          -1.5889432891723045,
          -4.536876528388375,
          -4.940956787938715,
          -5.683792335081332,
          -2.567985107272349,
          -5.937411107706509,
          -0.37157587862667907,
          -0.6638311480390051,
          -7.237863173891225,
          -5.103170609371631,
          -7.13204319790153,
          -4.738344281061015,
          -2.3657316352202518,
          -5.515108263786913,
          -1.775276190498176,
          -6.631215019245443,
          -1.42306500904708,
          -5.419192067876613,
          2.102268341362126,
          2.4945685090856253,
          -5.496037884992482,
          -0.7547248170291392,
          -2.0410550436033654,
          -0.42719987272325044,
          3.90969555529357,
          -2.5022344708610107,
          -0.311996696619236,
          0.06677141375623014,
          -6.041014032644964,
          -2.844999434678195,
          -3.0593972030776353,
          -4.613872231709025,
          1.9441610349844562,
          14.76886726373282,
          -3.3065790639326145,
          0.021923608065557487,
          -2.865974550102744,
          -3.8697065788751006,
          27.301149845566165,
          24.597805620772736,
          0.41989041246412706,
          1.4161561537408087,
          2.691156485304188,
          3.386768100123283,
          0.5870914489607069,
          -6.061301194755538,
          -4.480117575586853,
          -5.196873289884094,
          -3.0217660043747703,
          -5.925603352332906,
          -0.629840238055793,
          -3.574740546898406,
          -3.8238511615190145,
          38.642751908118534,
          24.92996522236907,
          -0.5828992845679026,
          -1.7427528381730268,
          37.921461033050626,
          -5.390486521889383,
          -3.219836054070601,
          13.25816991644561,
          7.520228039904268,
          -5.697233250399448,
          5.91623190297054,
          -0.6390569988083223,
          -5.304329679730907,
          -0.5548794460828295,
          1.1803849238731012,
          25.053239330505697,
          5.423298862853424,
          25.572683863145674,
          -5.484343580199529
         ]
        },
        {
         "hovertemplate": "rating=TV-Y<br>x=%{x}<br>y=%{y}<br>z=%{z}<extra></extra>",
         "legendgroup": "TV-Y",
         "marker": {
          "color": "#19d3f3",
          "symbol": "circle"
         },
         "mode": "markers",
         "name": "TV-Y",
         "scene": "scene",
         "showlegend": true,
         "type": "scatter3d",
         "x": [
          550.5268690243323,
          10.591971389955063,
          370.6171487383279,
          190.59976921233974,
          10.515177082464485,
          190.64509402149847,
          10.562604299067354,
          -72.40581707233643,
          -123.55775157749414,
          -98.48810604411983,
          190.572156252333,
          10.559723381396632,
          -91.42884658187394,
          10.525665401904329,
          -145.4174672697492,
          -96.5368968153988,
          550.5998619770902,
          10.61911458655507,
          -123.47931521500672,
          10.606291781356848,
          730.5989333963734,
          550.6183532868781
         ],
         "y": [
          3.5288836087477558,
          -0.6873204288859199,
          -3.820438443898983,
          -0.6593914952356217,
          18.41340348103244,
          -10.506806630911594,
          7.47060663637577,
          -2.032797511008222,
          35.978511998930166,
          19.068255330719726,
          4.010280944887322,
          8.567587889827474,
          2.7773729208049627,
          10.541266553118483,
          3.066798185338538,
          27.5240381141295,
          -2.6118383161978014,
          -5.3576711397584305,
          15.782336353988647,
          -7.160576830596486,
          -2.9864579442621473,
          -4.094027530515589
         ],
         "z": [
          18.245561607506808,
          -2.4494803651924073,
          -6.013458258306529,
          -5.071392124360349,
          -2.519316042873652,
          -7.083415379698007,
          -3.637628330555742,
          -2.748695514713504,
          -3.0180331816992543,
          -3.67368636760201,
          -1.5818696141737618,
          -4.524590735612266,
          -1.2971386606182516,
          5.7257852033651595,
          -6.409896848374139,
          2.2135678996596284,
          -0.4749076222007736,
          -5.939509360835365,
          -2.0518773247572435,
          1.917168295649542,
          0.8896620831651931,
          -5.643606462012096
         ]
        },
        {
         "hovertemplate": "rating=TV-G<br>x=%{x}<br>y=%{y}<br>z=%{z}<extra></extra>",
         "legendgroup": "TV-G",
         "marker": {
          "color": "#FF6692",
          "symbol": "circle"
         },
         "mode": "markers",
         "name": "TV-G",
         "scene": "scene",
         "showlegend": true,
         "type": "scatter3d",
         "x": [
          -64.38096700553245,
          -62.4316198978496,
          10.536907038085873,
          -59.388880325226,
          -67.41866531703855,
          -82.55887764656082,
          -159.537267531268,
          -127.47408103982407,
          10.596325823989314,
          10.483566270838834,
          -65.39944264576896,
          -97.43094847413175,
          10.586017319010297,
          190.53633636109612,
          -77.43763255660542
         ],
         "y": [
          -9.180996828211828,
          5.159357554631703,
          7.4584158533055405,
          -3.566203271408255,
          2.1668133696110936,
          30.15026080107946,
          30.767580484104656,
          14.77877613767699,
          -1.6835368494770893,
          13.307681031705199,
          -2.8986032523514633,
          0.2589277791978667,
          -0.9945349825098189,
          1.096174837059177,
          2.426911616035175
         ],
         "z": [
          -1.4474721731381468,
          -4.002312550647293,
          6.405378953422764,
          -6.894005190666302,
          -4.320398287916634,
          6.5292907064539705,
          -2.630434896457437,
          -2.1755786291058423,
          -2.5579129560747362,
          18.067209764564545,
          -3.824249029853024,
          3.4588564700759967,
          0.5215951396545189,
          17.21725223008953,
          2.7207010023917744
         ]
        },
        {
         "hovertemplate": "rating=PG-13<br>x=%{x}<br>y=%{y}<br>z=%{z}<extra></extra>",
         "legendgroup": "PG-13",
         "marker": {
          "color": "#B6E880",
          "symbol": "circle"
         },
         "mode": "markers",
         "name": "PG-13",
         "scene": "scene",
         "showlegend": true,
         "type": "scatter3d",
         "x": [
          -67.42417188381684,
          -19.380010538793965,
          -41.46349996232327,
          -16.379214877430172,
          -56.40861117751474,
          -46.40439229720389,
          -64.38360998705427,
          -61.38366495994227,
          -34.43589785506505,
          -73.427155292427,
          -66.41747801993456,
          -62.414424154987344,
          -72.39083681846161,
          -72.41203871741568,
          -30.411693485152185,
          -60.432532587576716,
          -54.43464624953538,
          -73.40360218343763,
          -47.45521047150236,
          -43.44238057888441,
          -83.52886065624777,
          -77.39722430970103,
          -64.37194372324164,
          -75.4853756480794,
          9.47106230190985,
          -39.43076780326363,
          -65.42929238216418,
          -59.368840280727596,
          -84.59663666764095,
          31.43896684692941,
          -60.43802133734648,
          -77.38551793858184,
          -72.3720017735516,
          -34.39241415005823,
          -48.40853600529363,
          -78.41629699553299,
          -72.41007925862901,
          -58.41127578615959,
          -87.41101237331684,
          -58.41443644663354,
          -83.44860260435696,
          -59.40162023645699,
          -86.38970707157813,
          -67.46409591294342,
          -55.444403146889435,
          -70.4133238362669,
          -63.3984589895797,
          -76.41540246963149,
          -61.45259402491922,
          -81.41099320186375,
          -84.4055901709227,
          -75.35904436229988
         ],
         "y": [
          -12.492037220282299,
          -10.178638123030764,
          3.747915383810894,
          -7.688855740677261,
          -0.8886547086780155,
          -5.429881753032855,
          -6.970304748392333,
          -12.929286927964522,
          6.289898215594196,
          -12.613509548473628,
          2.186869803617151,
          -5.9927696263806665,
          -7.301231452593096,
          0.0519235993982798,
          -5.743413846417504,
          0.29575214609332934,
          1.4280139663823284,
          -1.9434465434574795,
          7.698113214801723,
          -7.228516893862061,
          10.021691105095147,
          -5.246481754043603,
          -8.768422110270526,
          8.49104860797023,
          18.77797924913769,
          -5.5051982256761525,
          -5.515245832291289,
          -11.03000596365118,
          25.934073971838785,
          26.924189622773646,
          -11.880514733185876,
          -5.928809939998972,
          -9.988805334783338,
          -3.653404679926417,
          -0.8530429726072445,
          -0.16353988459656918,
          -9.407588631590777,
          -1.0793974184471293,
          1.216188293966486,
          0.02574408768619407,
          5.482604947201265,
          -0.5870429184117172,
          -9.743318382263778,
          13.124004990219207,
          -12.15277528168226,
          -8.398219736170644,
          -2.8866338172773593,
          -9.717856811944147,
          2.9764465960442297,
          -5.945570894106408,
          -6.861780127670737,
          -12.993741942008093
         ],
         "z": [
          21.315134370145522,
          0.549763739552853,
          10.97239438619483,
          -4.202690937792216,
          -3.6024833950022455,
          1.9890456538581727,
          -3.241884917136368,
          6.211090013575131,
          -3.826350376743519,
          22.306511291872095,
          -4.321985568660641,
          6.922929229286182,
          -0.27019348221996997,
          -3.5394116608783444,
          6.005710169727323,
          4.539974163389069,
          3.664565334428385,
          -3.7464732942595202,
          1.313131799194196,
          19.90738622054895,
          26.594684309210052,
          -1.0757256153141177,
          -5.427701893634375,
          12.381077282874578,
          13.609063654047468,
          13.046073332491149,
          11.98985279948687,
          -2.6385434870070497,
          28.209478020368266,
          13.479569009466715,
          25.428921695049983,
          -4.164195842994686,
          -3.5614691157561302,
          -4.845428915279225,
          -3.5801537303844673,
          -1.5698461403334563,
          10.573463614458642,
          -1.6253101290519594,
          -5.475776889164188,
          -2.51149967996328,
          2.0117055890952367,
          -6.593373593546288,
          3.4677048218743582,
          -3.212360945481833,
          28.424713695157187,
          10.675847794796628,
          -3.8297631647769954,
          13.53920527540266,
          7.835631101263894,
          5.871675427832324,
          4.777900200133107,
          -3.8686315563118896
         ]
        },
        {
         "hovertemplate": "rating=TV-Y7<br>x=%{x}<br>y=%{y}<br>z=%{z}<extra></extra>",
         "legendgroup": "TV-Y7",
         "marker": {
          "color": "#FF97FF",
          "symbol": "circle"
         },
         "mode": "markers",
         "name": "TV-Y7",
         "scene": "scene",
         "showlegend": true,
         "type": "scatter3d",
         "x": [
          730.5144278489507,
          10.605555988304605,
          190.50898534237385,
          370.5253545961645,
          10.59623764848959,
          -104.51349532264653,
          -123.45393015171018,
          -71.50543942390603,
          -145.59347004043815,
          10.551182642792764,
          190.6407182016933,
          550.5848827912603,
          -124.55357151010138,
          370.52787047206334,
          1270.568534467353,
          370.6063396926539,
          190.53179500341747,
          10.492312236386567,
          550.5206618732875,
          190.56162327323344,
          190.54675093788293,
          -84.36518532894455,
          550.5297338150417,
          10.602897240794523,
          190.6066094789426,
          -125.43474867840729,
          190.59963841532624
         ],
         "y": [
          20.494803450190528,
          -3.6740214489840257,
          17.734696088710823,
          9.785906019235714,
          -0.48525934599044024,
          23.815388163724368,
          6.225302572656611,
          23.155596914214048,
          38.95610069049455,
          4.573658077800146,
          -10.709459895076234,
          3.863398882468549,
          31.390288643567235,
          17.069566436370707,
          7.633402532967125,
          -1.930029930943617,
          10.467757752441571,
          23.287388084039378,
          12.799571521617459,
          7.096255527312694,
          12.371693984727367,
          -8.524737232864164,
          16.793996552798315,
          -3.7771494215907024,
          -1.5534295059234862,
          2.337735498385183,
          -10.23335408404459
         ],
         "z": [
          -2.75003671713968,
          -2.761313225277116,
          1.822879006170046,
          8.445249574478257,
          -4.438916183335478,
          -1.1977001029855,
          3.003704295081921,
          -3.2028941405040423,
          6.281031912626059,
          5.119427435433421,
          -5.094392515673156,
          -4.834534345321651,
          2.5435372487924495,
          -3.883511194759274,
          -1.8837056610993455,
          -4.809039991347659,
          4.099179243795454,
          -1.0186354051625202,
          6.122753718275792,
          -2.27325210889735,
          -4.752216321760985,
          -8.457291530110938,
          -3.5206813361859166,
          -1.7713695765440713,
          -6.166587758992551,
          1.6017219266165996,
          10.035646123212885
         ]
        },
        {
         "hovertemplate": "rating=NR<br>x=%{x}<br>y=%{y}<br>z=%{z}<extra></extra>",
         "legendgroup": "NR",
         "marker": {
          "color": "#FECB52",
          "symbol": "circle"
         },
         "mode": "markers",
         "name": "NR",
         "scene": "scene",
         "showlegend": true,
         "type": "scatter3d",
         "x": [
          -88.38226815518848,
          -53.40841922081,
          -74.49336102855858,
          10.533932092395778,
          -79.38676907740671,
          -85.51829199398158,
          -81.37597644700745,
          -85.37647126949173
         ],
         "y": [
          -8.172731238782108,
          -2.0571399742432988,
          -0.19871601888744062,
          10.951729132883678,
          -7.133816466961482,
          6.9293554133416055,
          -10.21481449855246,
          -11.456274635116015
         ],
         "z": [
          -2.404335280287171,
          -1.7018892322012171,
          28.593055784335967,
          1.7462215608881986,
          -2.281594737992644,
          27.27880482443179,
          -1.5919955555671705,
          0.2857112741197736
         ]
        },
        {
         "hovertemplate": "rating=G<br>x=%{x}<br>y=%{y}<br>z=%{z}<extra></extra>",
         "legendgroup": "G",
         "marker": {
          "color": "#636efa",
          "symbol": "circle"
         },
         "mode": "markers",
         "name": "G",
         "scene": "scene",
         "showlegend": true,
         "type": "scatter3d",
         "x": [
          -82.42257496687877,
          -80.403730821356,
          -75.49745681024169,
          -23.542696194466817,
          -69.43987506972276,
          -70.46947343456203
         ],
         "y": [
          3.116562283456806,
          -12.72043029287522,
          -6.375887134805652,
          1.2833197366765026,
          -1.230058154749459,
          12.909723057582918
         ],
         "z": [
          -4.254783162625128,
          13.231778427199115,
          40.02419982437744,
          45.94257469809415,
          9.398259826698387,
          -1.2260109700558393
         ]
        }
       ],
       "layout": {
        "legend": {
         "title": {
          "text": "rating"
         },
         "tracegroupgap": 0
        },
        "margin": {
         "t": 60
        },
        "scene": {
         "domain": {
          "x": [
           0,
           1
          ],
          "y": [
           0,
           1
          ]
         },
         "xaxis": {
          "title": {
           "text": "x"
          }
         },
         "yaxis": {
          "title": {
           "text": "y"
          }
         },
         "zaxis": {
          "title": {
           "text": "z"
          }
         }
        },
        "template": {
         "data": {
          "bar": [
           {
            "error_x": {
             "color": "#2a3f5f"
            },
            "error_y": {
             "color": "#2a3f5f"
            },
            "marker": {
             "line": {
              "color": "#E5ECF6",
              "width": 0.5
             },
             "pattern": {
              "fillmode": "overlay",
              "size": 10,
              "solidity": 0.2
             }
            },
            "type": "bar"
           }
          ],
          "barpolar": [
           {
            "marker": {
             "line": {
              "color": "#E5ECF6",
              "width": 0.5
             },
             "pattern": {
              "fillmode": "overlay",
              "size": 10,
              "solidity": 0.2
             }
            },
            "type": "barpolar"
           }
          ],
          "carpet": [
           {
            "aaxis": {
             "endlinecolor": "#2a3f5f",
             "gridcolor": "white",
             "linecolor": "white",
             "minorgridcolor": "white",
             "startlinecolor": "#2a3f5f"
            },
            "baxis": {
             "endlinecolor": "#2a3f5f",
             "gridcolor": "white",
             "linecolor": "white",
             "minorgridcolor": "white",
             "startlinecolor": "#2a3f5f"
            },
            "type": "carpet"
           }
          ],
          "choropleth": [
           {
            "colorbar": {
             "outlinewidth": 0,
             "ticks": ""
            },
            "type": "choropleth"
           }
          ],
          "contour": [
           {
            "colorbar": {
             "outlinewidth": 0,
             "ticks": ""
            },
            "colorscale": [
             [
              0,
              "#0d0887"
             ],
             [
              0.1111111111111111,
              "#46039f"
             ],
             [
              0.2222222222222222,
              "#7201a8"
             ],
             [
              0.3333333333333333,
              "#9c179e"
             ],
             [
              0.4444444444444444,
              "#bd3786"
             ],
             [
              0.5555555555555556,
              "#d8576b"
             ],
             [
              0.6666666666666666,
              "#ed7953"
             ],
             [
              0.7777777777777778,
              "#fb9f3a"
             ],
             [
              0.8888888888888888,
              "#fdca26"
             ],
             [
              1,
              "#f0f921"
             ]
            ],
            "type": "contour"
           }
          ],
          "contourcarpet": [
           {
            "colorbar": {
             "outlinewidth": 0,
             "ticks": ""
            },
            "type": "contourcarpet"
           }
          ],
          "heatmap": [
           {
            "colorbar": {
             "outlinewidth": 0,
             "ticks": ""
            },
            "colorscale": [
             [
              0,
              "#0d0887"
             ],
             [
              0.1111111111111111,
              "#46039f"
             ],
             [
              0.2222222222222222,
              "#7201a8"
             ],
             [
              0.3333333333333333,
              "#9c179e"
             ],
             [
              0.4444444444444444,
              "#bd3786"
             ],
             [
              0.5555555555555556,
              "#d8576b"
             ],
             [
              0.6666666666666666,
              "#ed7953"
             ],
             [
              0.7777777777777778,
              "#fb9f3a"
             ],
             [
              0.8888888888888888,
              "#fdca26"
             ],
             [
              1,
              "#f0f921"
             ]
            ],
            "type": "heatmap"
           }
          ],
          "heatmapgl": [
           {
            "colorbar": {
             "outlinewidth": 0,
             "ticks": ""
            },
            "colorscale": [
             [
              0,
              "#0d0887"
             ],
             [
              0.1111111111111111,
              "#46039f"
             ],
             [
              0.2222222222222222,
              "#7201a8"
             ],
             [
              0.3333333333333333,
              "#9c179e"
             ],
             [
              0.4444444444444444,
              "#bd3786"
             ],
             [
              0.5555555555555556,
              "#d8576b"
             ],
             [
              0.6666666666666666,
              "#ed7953"
             ],
             [
              0.7777777777777778,
              "#fb9f3a"
             ],
             [
              0.8888888888888888,
              "#fdca26"
             ],
             [
              1,
              "#f0f921"
             ]
            ],
            "type": "heatmapgl"
           }
          ],
          "histogram": [
           {
            "marker": {
             "pattern": {
              "fillmode": "overlay",
              "size": 10,
              "solidity": 0.2
             }
            },
            "type": "histogram"
           }
          ],
          "histogram2d": [
           {
            "colorbar": {
             "outlinewidth": 0,
             "ticks": ""
            },
            "colorscale": [
             [
              0,
              "#0d0887"
             ],
             [
              0.1111111111111111,
              "#46039f"
             ],
             [
              0.2222222222222222,
              "#7201a8"
             ],
             [
              0.3333333333333333,
              "#9c179e"
             ],
             [
              0.4444444444444444,
              "#bd3786"
             ],
             [
              0.5555555555555556,
              "#d8576b"
             ],
             [
              0.6666666666666666,
              "#ed7953"
             ],
             [
              0.7777777777777778,
              "#fb9f3a"
             ],
             [
              0.8888888888888888,
              "#fdca26"
             ],
             [
              1,
              "#f0f921"
             ]
            ],
            "type": "histogram2d"
           }
          ],
          "histogram2dcontour": [
           {
            "colorbar": {
             "outlinewidth": 0,
             "ticks": ""
            },
            "colorscale": [
             [
              0,
              "#0d0887"
             ],
             [
              0.1111111111111111,
              "#46039f"
             ],
             [
              0.2222222222222222,
              "#7201a8"
             ],
             [
              0.3333333333333333,
              "#9c179e"
             ],
             [
              0.4444444444444444,
              "#bd3786"
             ],
             [
              0.5555555555555556,
              "#d8576b"
             ],
             [
              0.6666666666666666,
              "#ed7953"
             ],
             [
              0.7777777777777778,
              "#fb9f3a"
             ],
             [
              0.8888888888888888,
              "#fdca26"
             ],
             [
              1,
              "#f0f921"
             ]
            ],
            "type": "histogram2dcontour"
           }
          ],
          "mesh3d": [
           {
            "colorbar": {
             "outlinewidth": 0,
             "ticks": ""
            },
            "type": "mesh3d"
           }
          ],
          "parcoords": [
           {
            "line": {
             "colorbar": {
              "outlinewidth": 0,
              "ticks": ""
             }
            },
            "type": "parcoords"
           }
          ],
          "pie": [
           {
            "automargin": true,
            "type": "pie"
           }
          ],
          "scatter": [
           {
            "marker": {
             "colorbar": {
              "outlinewidth": 0,
              "ticks": ""
             }
            },
            "type": "scatter"
           }
          ],
          "scatter3d": [
           {
            "line": {
             "colorbar": {
              "outlinewidth": 0,
              "ticks": ""
             }
            },
            "marker": {
             "colorbar": {
              "outlinewidth": 0,
              "ticks": ""
             }
            },
            "type": "scatter3d"
           }
          ],
          "scattercarpet": [
           {
            "marker": {
             "colorbar": {
              "outlinewidth": 0,
              "ticks": ""
             }
            },
            "type": "scattercarpet"
           }
          ],
          "scattergeo": [
           {
            "marker": {
             "colorbar": {
              "outlinewidth": 0,
              "ticks": ""
             }
            },
            "type": "scattergeo"
           }
          ],
          "scattergl": [
           {
            "marker": {
             "colorbar": {
              "outlinewidth": 0,
              "ticks": ""
             }
            },
            "type": "scattergl"
           }
          ],
          "scattermapbox": [
           {
            "marker": {
             "colorbar": {
              "outlinewidth": 0,
              "ticks": ""
             }
            },
            "type": "scattermapbox"
           }
          ],
          "scatterpolar": [
           {
            "marker": {
             "colorbar": {
              "outlinewidth": 0,
              "ticks": ""
             }
            },
            "type": "scatterpolar"
           }
          ],
          "scatterpolargl": [
           {
            "marker": {
             "colorbar": {
              "outlinewidth": 0,
              "ticks": ""
             }
            },
            "type": "scatterpolargl"
           }
          ],
          "scatterternary": [
           {
            "marker": {
             "colorbar": {
              "outlinewidth": 0,
              "ticks": ""
             }
            },
            "type": "scatterternary"
           }
          ],
          "surface": [
           {
            "colorbar": {
             "outlinewidth": 0,
             "ticks": ""
            },
            "colorscale": [
             [
              0,
              "#0d0887"
             ],
             [
              0.1111111111111111,
              "#46039f"
             ],
             [
              0.2222222222222222,
              "#7201a8"
             ],
             [
              0.3333333333333333,
              "#9c179e"
             ],
             [
              0.4444444444444444,
              "#bd3786"
             ],
             [
              0.5555555555555556,
              "#d8576b"
             ],
             [
              0.6666666666666666,
              "#ed7953"
             ],
             [
              0.7777777777777778,
              "#fb9f3a"
             ],
             [
              0.8888888888888888,
              "#fdca26"
             ],
             [
              1,
              "#f0f921"
             ]
            ],
            "type": "surface"
           }
          ],
          "table": [
           {
            "cells": {
             "fill": {
              "color": "#EBF0F8"
             },
             "line": {
              "color": "white"
             }
            },
            "header": {
             "fill": {
              "color": "#C8D4E3"
             },
             "line": {
              "color": "white"
             }
            },
            "type": "table"
           }
          ]
         },
         "layout": {
          "annotationdefaults": {
           "arrowcolor": "#2a3f5f",
           "arrowhead": 0,
           "arrowwidth": 1
          },
          "autotypenumbers": "strict",
          "coloraxis": {
           "colorbar": {
            "outlinewidth": 0,
            "ticks": ""
           }
          },
          "colorscale": {
           "diverging": [
            [
             0,
             "#8e0152"
            ],
            [
             0.1,
             "#c51b7d"
            ],
            [
             0.2,
             "#de77ae"
            ],
            [
             0.3,
             "#f1b6da"
            ],
            [
             0.4,
             "#fde0ef"
            ],
            [
             0.5,
             "#f7f7f7"
            ],
            [
             0.6,
             "#e6f5d0"
            ],
            [
             0.7,
             "#b8e186"
            ],
            [
             0.8,
             "#7fbc41"
            ],
            [
             0.9,
             "#4d9221"
            ],
            [
             1,
             "#276419"
            ]
           ],
           "sequential": [
            [
             0,
             "#0d0887"
            ],
            [
             0.1111111111111111,
             "#46039f"
            ],
            [
             0.2222222222222222,
             "#7201a8"
            ],
            [
             0.3333333333333333,
             "#9c179e"
            ],
            [
             0.4444444444444444,
             "#bd3786"
            ],
            [
             0.5555555555555556,
             "#d8576b"
            ],
            [
             0.6666666666666666,
             "#ed7953"
            ],
            [
             0.7777777777777778,
             "#fb9f3a"
            ],
            [
             0.8888888888888888,
             "#fdca26"
            ],
            [
             1,
             "#f0f921"
            ]
           ],
           "sequentialminus": [
            [
             0,
             "#0d0887"
            ],
            [
             0.1111111111111111,
             "#46039f"
            ],
            [
             0.2222222222222222,
             "#7201a8"
            ],
            [
             0.3333333333333333,
             "#9c179e"
            ],
            [
             0.4444444444444444,
             "#bd3786"
            ],
            [
             0.5555555555555556,
             "#d8576b"
            ],
            [
             0.6666666666666666,
             "#ed7953"
            ],
            [
             0.7777777777777778,
             "#fb9f3a"
            ],
            [
             0.8888888888888888,
             "#fdca26"
            ],
            [
             1,
             "#f0f921"
            ]
           ]
          },
          "colorway": [
           "#636efa",
           "#EF553B",
           "#00cc96",
           "#ab63fa",
           "#FFA15A",
           "#19d3f3",
           "#FF6692",
           "#B6E880",
           "#FF97FF",
           "#FECB52"
          ],
          "font": {
           "color": "#2a3f5f"
          },
          "geo": {
           "bgcolor": "white",
           "lakecolor": "white",
           "landcolor": "#E5ECF6",
           "showlakes": true,
           "showland": true,
           "subunitcolor": "white"
          },
          "hoverlabel": {
           "align": "left"
          },
          "hovermode": "closest",
          "mapbox": {
           "style": "light"
          },
          "paper_bgcolor": "white",
          "plot_bgcolor": "#E5ECF6",
          "polar": {
           "angularaxis": {
            "gridcolor": "white",
            "linecolor": "white",
            "ticks": ""
           },
           "bgcolor": "#E5ECF6",
           "radialaxis": {
            "gridcolor": "white",
            "linecolor": "white",
            "ticks": ""
           }
          },
          "scene": {
           "xaxis": {
            "backgroundcolor": "#E5ECF6",
            "gridcolor": "white",
            "gridwidth": 2,
            "linecolor": "white",
            "showbackground": true,
            "ticks": "",
            "zerolinecolor": "white"
           },
           "yaxis": {
            "backgroundcolor": "#E5ECF6",
            "gridcolor": "white",
            "gridwidth": 2,
            "linecolor": "white",
            "showbackground": true,
            "ticks": "",
            "zerolinecolor": "white"
           },
           "zaxis": {
            "backgroundcolor": "#E5ECF6",
            "gridcolor": "white",
            "gridwidth": 2,
            "linecolor": "white",
            "showbackground": true,
            "ticks": "",
            "zerolinecolor": "white"
           }
          },
          "shapedefaults": {
           "line": {
            "color": "#2a3f5f"
           }
          },
          "ternary": {
           "aaxis": {
            "gridcolor": "white",
            "linecolor": "white",
            "ticks": ""
           },
           "baxis": {
            "gridcolor": "white",
            "linecolor": "white",
            "ticks": ""
           },
           "bgcolor": "#E5ECF6",
           "caxis": {
            "gridcolor": "white",
            "linecolor": "white",
            "ticks": ""
           }
          },
          "title": {
           "x": 0.05
          },
          "xaxis": {
           "automargin": true,
           "gridcolor": "white",
           "linecolor": "white",
           "ticks": "",
           "title": {
            "standoff": 15
           },
           "zerolinecolor": "white",
           "zerolinewidth": 2
          },
          "yaxis": {
           "automargin": true,
           "gridcolor": "white",
           "linecolor": "white",
           "ticks": "",
           "title": {
            "standoff": 15
           },
           "zerolinecolor": "white",
           "zerolinewidth": 2
          }
         }
        }
       }
      }
     },
     "metadata": {},
     "output_type": "display_data"
    }
   ],
   "source": [
    "\"\"\"\n",
    "CELL N°11 : DATASET VISUALIZATION\n",
    "Apply PCA on the numerical part of your dataset. Keep the 2-3 most relevant PCA components to reduce\n",
    "the dimensionality of the inherent numerical data matrix. Then, plot the samples in the coordinate space of the 3 most \n",
    "relevant components with the group_visualization function. \n",
    "\"\"\"\n",
    "\n",
    "from sklearn.decomposition import PCA\n",
    "\n",
    "target = dataset.rating.values\n",
    "dim = 3\n",
    "\n",
    "#########################################################################################################\n",
    "# Start : Student version\n",
    "#########################################################################################################\n",
    "\n",
    "pca = PCA(n_components=dim)\n",
    "pca.fit(numeric_dataset)\n",
    "\n",
    "# Change this!!\n",
    "X = pca.transform(numeric_dataset)\n",
    "\n",
    "#########################################################################################################\n",
    "# End : Student version\n",
    "#########################################################################################################\n",
    "\n",
    "\n",
    "tb.group_visualization(target, X, less_points=True, save_fig=None)"
   ]
  },
  {
   "cell_type": "markdown",
   "metadata": {},
   "source": [
    "<br>\n",
    "<font size=7 color=#009999> <b>PART 3 - IT'S TIME TO ... CLUSTER!</b> </font> <br><br>\n",
    "\n",
    "<br>\n",
    "<font size=5 color=#009999> <b>3.1 - Clustering: definition </b> <br>\n",
    "THE ABC OF CLUSTERING\n",
    "</font> <br> <br>\n",
    "\n",
    "Clustering can be defined as the task of *grouping* objects from a set $S$ (here, each row/observation is an object) in such a way that objects assigned to the same group (called cluster) are more **similar** (or less **distant**) with respect to each other (in some sense) than to those assigned to the other groups. Usually, we would like to divide our objects into $K$ groups.\n",
    "\n",
    "As such, clustering reduces to finding, among all $K$-partitions possible of $S$, the partition $\\mathcal{P}$ that minimizes some error criterion $f(\\mathcal{P})$. Each object will be assigned a cluster, $C_i$, and each cluster will have its centroid $c_i$ the distance between **any object** in $C_i$ to centroid $c_i$ is **always smaller** that the distance to any other centroid. In other words, each object is assigned to the cluster whose centroid is the closest.\n",
    "\n",
    "\n",
    "A mathematical formulation of the problem could be the following, $$ \\boxed{\\min_{(C_1,\\dots,C_K) \\,\\in\\, \\mathcal{P}}\\,f(C_1,\\dots,C_K) = \\sum_{i = 1}^{K}\\,\\sum_{x \\in C_i}\\,\\Delta(x,c_i)}$$\n",
    "\n",
    "where $\\Delta(x,c_i)$ denotes the distance between object $x$ and centroid $c_i$.\n",
    "\n",
    "<br>\n",
    "<font size=5 color=#009999> <b>3.2 - Clustering: example </b> <br>\n",
    "EXAMPLE OF SEPARATING OBJECTS INTO 10 CLUSTERS\n",
    "</font> <br> <br>\n",
    "\n",
    "**First**, let us imagine the following 2D dataset.\n",
    "\n",
    "<img src=\"Imgs/10-partitions-data.svg\" width = \"250\">\n",
    "\n",
    "**Then**, a 10-partition is defined by the position of the centroids, one for each cluster. Below, you can observe four examples of (random) centroids localizations (stars).\n",
    "\n",
    "<img src=\"Imgs/10-partitions-chose-centroids.svg\" width = \"1000\">\n",
    "\n",
    "**Next**, the regions are colored based on their closest centroid. Here, we take the distance to be the Euclidean distance.\n",
    "\n",
    "<img src=\"Imgs/10-partitions-centroids.svg\" width = \"1000\">\n",
    "\n",
    "**Finally**, data points (objects) are colored based in the region they are in.\n",
    "\n",
    "<img src=\"Imgs/10-partitions-clusters.svg\" width = \"1000\">\n",
    "\n",
    "<br>\n",
    "<font size=5 color=#009999> <b>3.3 - Customized clustering with K-Prototypes </b> <br>\n",
    "DEFINE YOUR OWN DISTANCE FUNCTION AND IMPLEMENT A CLUSTERING ALGORITHM\n",
    "</font> <br> <br>\n",
    "\n",
    "In the example above, the distance was the well-known Euclidean distance. However, a variety of metrics can be used and what you will use depends on the problem your are working on. [scikit-learn](https://scikit-learn.org/stable/modules/classes.html#pairwise-metrics) offers many possibilities, but we encourage you to implement yours!\n",
    "\n",
    "For your $\\Delta$ function to be valid, it should admit the following properties:\n",
    "\n",
    "1. $\\Delta(a,b) = 0 \\Longleftrightarrow a = b$\n",
    "2. $\\Delta(a,b) = \\Delta(b,a)$\n",
    "3. $\\Delta(a,b) \\in [0,\\infty[$\n",
    "\n",
    "In many cases, the centroids localization is not optimal. Therefore, after clustering, objects in each cluster can choose a new centroid for their cluster.\n",
    "\n",
    "The computation if the new centroid is performed with,\n",
    "$$\\boxed{ c_i \\gets \\arg \\min_{c}\\, \\frac{1}{|C_i|} \\sum_{x \\in C_i}\n",
    "\\,\\Delta^2(x,c)}$$\n",
    "\n",
    "where $c$ can be any vector (object) and $|C_i|$ refers to the number of objects in the clusters.\n",
    "\n",
    "Typically, if one uses the Euclidean distance $\\Delta(a,b) = ||a-b||_2$, then $c_i$ simply stands as the **mean** vector of its inherent cluster, \n",
    "\n",
    "$$ c_i = \\frac{1}{|C_i|} \\sum_{x \\in C_i} \\,x $$\n",
    "\n",
    "A $K$-Prototypes methods is therefore an algorithm that divides the observation set into $K$ clusters, by applying an arbitrary distance metric."
   ]
  },
  {
   "cell_type": "markdown",
   "metadata": {},
   "source": [
    "<div class=\"alert alert-info\">\n",
    "<b>[Remark] Centroids are not observations </b>  <br>\n",
    "    <b>Centroids</b> do not necessarily belong to the set of observations, $S$. They represent as much as possible their cluster as being, in <i>average</i>, the most similar to the objects within the cluster.\n",
    "</div>"
   ]
  },
  {
   "cell_type": "markdown",
   "metadata": {},
   "source": [
    "The goal of our $K$-Prototypes method it to return $K$ centroids from a suitable $K$ partition of your dataset and assign each object to its most **similar** centroid.\n",
    "\n",
    "For this purpose, the algorithm iterates between two steps until a stopping criteria is reached (i.e., data points are assigned to the same cluster, maximum number of iterations, ...). Let $(C_{1,t},\\dots,C_{K,t})$ and $(c_{1,t},\\dots,c_{K,t})$ respectively represent the current **clusters** and **centroids** after $t$ iterations. \n",
    "\n",
    "Then, one iteration of the algorithm can divided into two parts:\n",
    "1. **Data assignment step:** each data point $x \\in S$ is assigned to its closest centroid.    \n",
    "2. **Centroid update step:** new **centroids** $c_{i,t+1}$ are computed, and if possible such that the sum of squared distances in minimized.\n",
    "\n",
    "As detailed aboved, steps are repeated until convergence is observe or a maximum number of iterations has been performed.\n",
    "\n",
    "<div class=\"alert alert-info\">\n",
    "<b>[Remark] Empty clusters </b>  <br>\n",
    "    At this step, what could happend one cluster becomes *depleted* (i.e., empty)? Find a way to handle properly such a situation.\n",
    "</div>\n",
    "\n",
    "<div class=\"alert alert-info\">\n",
    "<b>[Remark] Convergence </b>  <br>\n",
    "    K-Prototypes algorithm is guaranteed to converge to a result. However, the result may be a local optimum (i.e. not necessarily the best possible outcome), meaning that assessing more than one run of the algorithm with randomized starting centroids may give a better outcome.\n",
    "</div>  "
   ]
  },
  {
   "cell_type": "markdown",
   "metadata": {},
   "source": [
    "<div class=\"alert alert-warning\">\n",
    "<b>[Question 3.1] Convergence of your centroids </b>  <br>\n",
    "    How can you determine if your centroids are converging or not?\n",
    "</div>"
   ]
  },
  {
   "cell_type": "markdown",
   "metadata": {},
   "source": [
    "<div class=\"alert alert-success\">\n",
    "<b>Example</b>  <br>\n",
    "K-Means is K-Prototypes in the Euclidean setting described above. One equivalently tries to minimize the error criterion <i>Sum of Squared Squares</i> : $$f(\\mathcal{P}) = \\sum_{i=1}^{K}\\,\\sum_{x \\in C_i} ||a-b||_2^2$$\n",
    "</div> \n",
    "\n",
    "![KMeansUrl](https://dashee87.github.io/images/kmeans.gif \"KMeans\")"
   ]
  },
  {
   "cell_type": "markdown",
   "metadata": {},
   "source": [
    "<div class=\"alert alert-warning\">\n",
    "<b>[Question 3.2] Implement a meaningful distance function $\\Delta$. </b>  <br>\n",
    "    Based on the data types of your final dataset (after feature selection/extraction), define an appropriate $\\Delta$ function to be used within your <br>$K$-Prototypes. Discuss your decision and the potential impact it can have on determining the optimal centroid location.\n",
    "</div> "
   ]
  },
  {
   "cell_type": "markdown",
   "metadata": {},
   "source": [
    "<div class=\"alert alert-info\">\n",
    "<b>[Remark] Distance on categorical data </b>  <br>\n",
    "    Until here, we presented results on numerical data. However, you can also define distance function that work with categorical data (e.g., the movie type), something that could be applied here. You can find examples <a href=\"https://towardsdatascience.com/the-k-prototype-as-clustering-algorithm-for-mixed-data-type-categorical-and-numerical-fe7c50538ebb\">here</a>.\n",
    "</div>  "
   ]
  },
  {
   "cell_type": "code",
   "execution_count": 178,
   "metadata": {},
   "outputs": [],
   "source": [
    "\"\"\"\n",
    "CELL N°12 : DISTANCE METRIC\n",
    "Based on the templates below, define a custom metric for your needs.\n",
    "\"\"\"\n",
    "\n",
    "\n",
    "def delta_euclidian(a, b, weights=None):\n",
    "    # Same as `scipy.spatial.distance.euclidean`\n",
    "    if weights is None:\n",
    "        weights = np.ones(len(a))\n",
    "    return sum(weights * (a - b) ** 2)\n",
    "\n",
    "\n",
    "def delta_mode(a, b, weights=None):\n",
    "    if weights is None:\n",
    "        weights = np.ones(len(a))\n",
    "    return sum(weights * (a != b))\n",
    "\n",
    "\n",
    "# Your metric\n",
    "def distance_metric(a, b, **kwargs):\n",
    "    \"\"\"\n",
    "    A pairwise distance between vectors a and b.\n",
    "\n",
    "    :param a: a vector\n",
    "    :param b: a vector\n",
    "    :param kwargs: any keyword arguments you would like to add..\n",
    "    \"\"\"\n",
    "    #########################################################################################################\n",
    "    # Start : Student version\n",
    "    #########################################################################################################\n",
    "\n",
    "    return delta_euclidian(a, b, weights=kwargs.get(\"weights\"))\n",
    "\n",
    "    #########################################################################################################\n",
    "    # End : Student version\n",
    "    #########################################################################################################"
   ]
  },
  {
   "cell_type": "code",
   "execution_count": 179,
   "metadata": {},
   "outputs": [],
   "source": [
    "\"\"\"\n",
    "CELL N°13 : K-PROTOTYPES IMPLEMENTATION\n",
    "Implement here your K-Prototypes algorithm.\n",
    "\"\"\"\n",
    "\n",
    "\n",
    "def KPrototypes(\n",
    "    X,\n",
    "    k=5,\n",
    "    n_max=100,\n",
    "    metric=distance_metric,\n",
    "    **kwargs,\n",
    "):\n",
    "    \"\"\"\n",
    "    Run a K-Prototypes algorithm on input data.\n",
    "\n",
    "    :param X: m-by-n observation matrix or DataFrame\n",
    "    :param k: number of clusters\n",
    "    :param n_max: maximum number of iterations\n",
    "    :param metric: the distance metric to use\n",
    "    :param kwargs: optional arguments to be passed to `metric`\n",
    "    :return: the cluster labels and the centroids\n",
    "    \"\"\"\n",
    "\n",
    "    #########################################################################################################\n",
    "    # Start : Student version\n",
    "    #########################################################################################################\n",
    "\n",
    "    # Change this\n",
    "    centroids = np.random.rand(k, X.shape[1])\n",
    "    cluster_labels = np.zeros(X.shape[0], dtype=X.dtype)\n",
    "\n",
    "    # Do some iterations...\n",
    "\n",
    "    ...\n",
    "\n",
    "    #########################################################################################################\n",
    "    # End : Student version\n",
    "    #########################################################################################################\n",
    "\n",
    "\n",
    "    # Return the results\n",
    "\n",
    "    return cluster_labels, centroids"
   ]
  },
  {
   "cell_type": "markdown",
   "metadata": {},
   "source": [
    "<div class=\"alert alert-warning\">\n",
    "<b> Apply the K-Prototypes clustering algorithm on your dataset. </b>  <br>\n",
    "</div>"
   ]
  },
  {
   "cell_type": "markdown",
   "metadata": {},
   "source": [
    "<div class=\"alert alert-info\">\n",
    "<b>[Remark] K-Prototypes can be slow </b>  <br>\n",
    "    Depending on how you implement $K$-Prototypes, or even your $\\Delta$ function, the processing of your dataset can take from a few seconds to minutes. For debugging purpose, we encourage you to downsample your dataset to reduce computation time. To this end, we provide you with the necessary code below.\n",
    "</div>  "
   ]
  },
  {
   "cell_type": "code",
   "execution_count": 180,
   "metadata": {},
   "outputs": [],
   "source": [
    "\"\"\"\n",
    "CELL N°14 : DOWNSAMPLING\n",
    "Optionally, downsample your dataset.\n",
    "\"\"\"\n",
    "\n",
    "# Set to True if you would like to downsample\n",
    "downsample = False\n",
    "\n",
    "if downsample:\n",
    "\n",
    "    fraction = 0.3  # % of dataset you will consider for the rest of your analysis\n",
    "    assert 0 < fraction <= 1\n",
    "\n",
    "    uniques = np.unique(target)\n",
    "\n",
    "    n = len(target)\n",
    "    size = int(n * fraction)\n",
    "\n",
    "    selected = np.zeros_like(target, dtype=bool)\n",
    "\n",
    "    for unique in uniques:\n",
    "        indices = np.argwhere(target == unique).flatten()\n",
    "        size = max(1, int(len(indices) * fraction))\n",
    "        indices = np.random.choice(indices, size=size, replace=False)\n",
    "        selected[indices] = True\n",
    "\n",
    "    target = target[selected]\n",
    "    X = X[selected, :]"
   ]
  },
  {
   "cell_type": "code",
   "execution_count": 181,
   "metadata": {
    "scrolled": false
   },
   "outputs": [],
   "source": [
    "\"\"\"\n",
    "CELL N°15 : K-PROTOTYPES EXECUTION\n",
    "Simply run this cell.\n",
    "\"\"\"\n",
    "\n",
    "k = min(5, len(np.unique(target)))\n",
    "\n",
    "use_KPrototype = False  # Set to True when ready to test your implementation\n",
    "\n",
    "if use_KPrototype:\n",
    "    cluster_labels, centroids = KPrototypes(X, k=k)\n",
    "else:\n",
    "\n",
    "    from sklearn.cluster import KMeans\n",
    "\n",
    "    kmeans = KMeans(n_clusters=k, random_state=0)\n",
    "\n",
    "    cluster_labels = kmeans.fit_predict(X)\n",
    "    centroids = kmeans.cluster_centers_"
   ]
  },
  {
   "cell_type": "markdown",
   "metadata": {},
   "source": [
    "<br>\n",
    "<font size=5 color=#009999> <b>3.2 - RESULTS ANALYSIS </b> <br>\n",
    "OBSERVE AND COMPARE\n",
    "</font> <br> <br>\n",
    "\n",
    "In this section, we adress the difficult task of evaluating the performance of the clustering algorithm. We suggest you to work in 3 steps : \n",
    "<br> \n",
    "1. <b>Look at the result.</b> Before any quantitative study, you should look at your clustering in the low dimensional space. It should help you to get some insight. We already made this step in part 2. \n",
    "<br><br>    \n",
    "2. <b>Perform a silhouette analysis.</b> One way to assess the quality of the data partitionning is the use of the silhouette analysis. Each silhouette shows which object lies well within their cluster, and which one is merely somewhere in between clusters. The entire clustering is displayed by combining the silhouettes into a single plot, allowing an appreciation of the relative quality of the clusters and an overview of the data configuration. The coefficient varies between -1 and 1. A value close to 1 implies that the instance is close to its cluster is a part of the right cluster. Whereas, a value close to -1 means that the value is assigned to the wrong cluster.\n",
    "<br><br>\n",
    "3. <b>Compute the confusion matrices.</b> In the context where some labeled data are available for assigning clusters to known labels, we need to find which cluster corresponds to which label. For this purpose we have to find the label permutation that leads to the best [accuracy](https://smorbieu.gitlab.io/accuracy-from-classification-to-clustering-evaluation/). As there are $K!$ permutations, testing all of them is not a viable solution. Therefore, we encourage you to manually test some permutations and, then, derive a method to find a good permutation (without trying all of them!)."
   ]
  },
  {
   "cell_type": "code",
   "execution_count": 182,
   "metadata": {},
   "outputs": [],
   "source": [
    "\"\"\"\n",
    "CELL N°16 : PAIRWISE DISTANCE.\n",
    "Warning: if you use your own metric, it might take much longer to compute.\n",
    "\"\"\"\n",
    "distance_matrix = tb.pairwise_distance(X, metric=\"euclidean\")"
   ]
  },
  {
   "cell_type": "code",
   "execution_count": 183,
   "metadata": {
    "scrolled": false
   },
   "outputs": [
    {
     "data": {
      "image/png": "[encoded data removed]",
      "text/plain": [
       "<Figure size 432x360 with 1 Axes>"
      ]
     },
     "metadata": {},
     "output_type": "display_data"
    }
   ],
   "source": [
    "\"\"\"\n",
    "CELL N°17 : SILHOUETTE ANALYSIS\n",
    "Analyse how your clustering algorithm performs.\n",
    "\"\"\"\n",
    "\n",
    "tb.silhouette_visualization(cluster_labels, distance_matrix)"
   ]
  },
  {
   "cell_type": "markdown",
   "metadata": {},
   "source": [
    "https://scikit-learn.org/stable/auto_examples/cluster/plot_kmeans_silhouette_analysis.html#sphx-glr-auto-examples-cluster-plot-kmeans-silhouette-analysis-py"
   ]
  },
  {
   "cell_type": "code",
   "execution_count": 184,
   "metadata": {},
   "outputs": [
    {
     "data": {
      "application/vnd.plotly.v1+json": {
       "config": {
        "plotlyServerURL": "https://plot.ly"
       },
       "data": [
        {
         "colorscale": [
          [
           0,
           "#440154"
          ],
          [
           0.1111111111111111,
           "#482878"
          ],
          [
           0.2222222222222222,
           "#3e4989"
          ],
          [
           0.3333333333333333,
           "#31688e"
          ],
          [
           0.4444444444444444,
           "#26828e"
          ],
          [
           0.5555555555555556,
           "#1f9e89"
          ],
          [
           0.6666666666666666,
           "#35b779"
          ],
          [
           0.7777777777777778,
           "#6ece58"
          ],
          [
           0.8888888888888888,
           "#b5de2b"
          ],
          [
           1,
           "#fde725"
          ]
         ],
         "reversescale": false,
         "showscale": true,
         "type": "heatmap",
         "x": [
          "ADULT",
          "GENERAL",
          "NR",
          "TEEN",
          "YOUNG"
         ],
         "y": [
          "ADULT",
          "GENERAL",
          "NR",
          "TEEN",
          "YOUNG"
         ],
         "z": [
          [
           0,
           0,
           0,
           0,
           0
          ],
          [
           0,
           0,
           0,
           0,
           0
          ],
          [
           0,
           5,
           1,
           60,
           0
          ],
          [
           0,
           0,
           0,
           0,
           0
          ],
          [
           0,
           0,
           0,
           0,
           0
          ]
         ]
        }
       ],
       "layout": {
        "annotations": [
         {
          "font": {
           "color": "#FFFFFF"
          },
          "showarrow": false,
          "text": "0",
          "x": "ADULT",
          "xref": "x",
          "y": "ADULT",
          "yref": "y"
         },
         {
          "font": {
           "color": "#FFFFFF"
          },
          "showarrow": false,
          "text": "0",
          "x": "GENERAL",
          "xref": "x",
          "y": "ADULT",
          "yref": "y"
         },
         {
          "font": {
           "color": "#FFFFFF"
          },
          "showarrow": false,
          "text": "0",
          "x": "NR",
          "xref": "x",
          "y": "ADULT",
          "yref": "y"
         },
         {
          "font": {
           "color": "#FFFFFF"
          },
          "showarrow": false,
          "text": "0",
          "x": "TEEN",
          "xref": "x",
          "y": "ADULT",
          "yref": "y"
         },
         {
          "font": {
           "color": "#FFFFFF"
          },
          "showarrow": false,
          "text": "0",
          "x": "YOUNG",
          "xref": "x",
          "y": "ADULT",
          "yref": "y"
         },
         {
          "font": {
           "color": "#FFFFFF"
          },
          "showarrow": false,
          "text": "0",
          "x": "ADULT",
          "xref": "x",
          "y": "GENERAL",
          "yref": "y"
         },
         {
          "font": {
           "color": "#FFFFFF"
          },
          "showarrow": false,
          "text": "0",
          "x": "GENERAL",
          "xref": "x",
          "y": "GENERAL",
          "yref": "y"
         },
         {
          "font": {
           "color": "#FFFFFF"
          },
          "showarrow": false,
          "text": "0",
          "x": "NR",
          "xref": "x",
          "y": "GENERAL",
          "yref": "y"
         },
         {
          "font": {
           "color": "#FFFFFF"
          },
          "showarrow": false,
          "text": "0",
          "x": "TEEN",
          "xref": "x",
          "y": "GENERAL",
          "yref": "y"
         },
         {
          "font": {
           "color": "#FFFFFF"
          },
          "showarrow": false,
          "text": "0",
          "x": "YOUNG",
          "xref": "x",
          "y": "GENERAL",
          "yref": "y"
         },
         {
          "font": {
           "color": "#FFFFFF"
          },
          "showarrow": false,
          "text": "0",
          "x": "ADULT",
          "xref": "x",
          "y": "NR",
          "yref": "y"
         },
         {
          "font": {
           "color": "#FFFFFF"
          },
          "showarrow": false,
          "text": "5",
          "x": "GENERAL",
          "xref": "x",
          "y": "NR",
          "yref": "y"
         },
         {
          "font": {
           "color": "#FFFFFF"
          },
          "showarrow": false,
          "text": "1",
          "x": "NR",
          "xref": "x",
          "y": "NR",
          "yref": "y"
         },
         {
          "font": {
           "color": "#000000"
          },
          "showarrow": false,
          "text": "60",
          "x": "TEEN",
          "xref": "x",
          "y": "NR",
          "yref": "y"
         },
         {
          "font": {
           "color": "#FFFFFF"
          },
          "showarrow": false,
          "text": "0",
          "x": "YOUNG",
          "xref": "x",
          "y": "NR",
          "yref": "y"
         },
         {
          "font": {
           "color": "#FFFFFF"
          },
          "showarrow": false,
          "text": "0",
          "x": "ADULT",
          "xref": "x",
          "y": "TEEN",
          "yref": "y"
         },
         {
          "font": {
           "color": "#FFFFFF"
          },
          "showarrow": false,
          "text": "0",
          "x": "GENERAL",
          "xref": "x",
          "y": "TEEN",
          "yref": "y"
         },
         {
          "font": {
           "color": "#FFFFFF"
          },
          "showarrow": false,
          "text": "0",
          "x": "NR",
          "xref": "x",
          "y": "TEEN",
          "yref": "y"
         },
         {
          "font": {
           "color": "#FFFFFF"
          },
          "showarrow": false,
          "text": "0",
          "x": "TEEN",
          "xref": "x",
          "y": "TEEN",
          "yref": "y"
         },
         {
          "font": {
           "color": "#FFFFFF"
          },
          "showarrow": false,
          "text": "0",
          "x": "YOUNG",
          "xref": "x",
          "y": "TEEN",
          "yref": "y"
         },
         {
          "font": {
           "color": "#FFFFFF"
          },
          "showarrow": false,
          "text": "0",
          "x": "ADULT",
          "xref": "x",
          "y": "YOUNG",
          "yref": "y"
         },
         {
          "font": {
           "color": "#FFFFFF"
          },
          "showarrow": false,
          "text": "0",
          "x": "GENERAL",
          "xref": "x",
          "y": "YOUNG",
          "yref": "y"
         },
         {
          "font": {
           "color": "#FFFFFF"
          },
          "showarrow": false,
          "text": "0",
          "x": "NR",
          "xref": "x",
          "y": "YOUNG",
          "yref": "y"
         },
         {
          "font": {
           "color": "#FFFFFF"
          },
          "showarrow": false,
          "text": "0",
          "x": "TEEN",
          "xref": "x",
          "y": "YOUNG",
          "yref": "y"
         },
         {
          "font": {
           "color": "#FFFFFF"
          },
          "showarrow": false,
          "text": "0",
          "x": "YOUNG",
          "xref": "x",
          "y": "YOUNG",
          "yref": "y"
         }
        ],
        "margin": {
         "l": 200,
         "t": 50
        },
        "template": {
         "data": {
          "bar": [
           {
            "error_x": {
             "color": "#2a3f5f"
            },
            "error_y": {
             "color": "#2a3f5f"
            },
            "marker": {
             "line": {
              "color": "#E5ECF6",
              "width": 0.5
             },
             "pattern": {
              "fillmode": "overlay",
              "size": 10,
              "solidity": 0.2
             }
            },
            "type": "bar"
           }
          ],
          "barpolar": [
           {
            "marker": {
             "line": {
              "color": "#E5ECF6",
              "width": 0.5
             },
             "pattern": {
              "fillmode": "overlay",
              "size": 10,
              "solidity": 0.2
             }
            },
            "type": "barpolar"
           }
          ],
          "carpet": [
           {
            "aaxis": {
             "endlinecolor": "#2a3f5f",
             "gridcolor": "white",
             "linecolor": "white",
             "minorgridcolor": "white",
             "startlinecolor": "#2a3f5f"
            },
            "baxis": {
             "endlinecolor": "#2a3f5f",
             "gridcolor": "white",
             "linecolor": "white",
             "minorgridcolor": "white",
             "startlinecolor": "#2a3f5f"
            },
            "type": "carpet"
           }
          ],
          "choropleth": [
           {
            "colorbar": {
             "outlinewidth": 0,
             "ticks": ""
            },
            "type": "choropleth"
           }
          ],
          "contour": [
           {
            "colorbar": {
             "outlinewidth": 0,
             "ticks": ""
            },
            "colorscale": [
             [
              0,
              "#0d0887"
             ],
             [
              0.1111111111111111,
              "#46039f"
             ],
             [
              0.2222222222222222,
              "#7201a8"
             ],
             [
              0.3333333333333333,
              "#9c179e"
             ],
             [
              0.4444444444444444,
              "#bd3786"
             ],
             [
              0.5555555555555556,
              "#d8576b"
             ],
             [
              0.6666666666666666,
              "#ed7953"
             ],
             [
              0.7777777777777778,
              "#fb9f3a"
             ],
             [
              0.8888888888888888,
              "#fdca26"
             ],
             [
              1,
              "#f0f921"
             ]
            ],
            "type": "contour"
           }
          ],
          "contourcarpet": [
           {
            "colorbar": {
             "outlinewidth": 0,
             "ticks": ""
            },
            "type": "contourcarpet"
           }
          ],
          "heatmap": [
           {
            "colorbar": {
             "outlinewidth": 0,
             "ticks": ""
            },
            "colorscale": [
             [
              0,
              "#0d0887"
             ],
             [
              0.1111111111111111,
              "#46039f"
             ],
             [
              0.2222222222222222,
              "#7201a8"
             ],
             [
              0.3333333333333333,
              "#9c179e"
             ],
             [
              0.4444444444444444,
              "#bd3786"
             ],
             [
              0.5555555555555556,
              "#d8576b"
             ],
             [
              0.6666666666666666,
              "#ed7953"
             ],
             [
              0.7777777777777778,
              "#fb9f3a"
             ],
             [
              0.8888888888888888,
              "#fdca26"
             ],
             [
              1,
              "#f0f921"
             ]
            ],
            "type": "heatmap"
           }
          ],
          "heatmapgl": [
           {
            "colorbar": {
             "outlinewidth": 0,
             "ticks": ""
            },
            "colorscale": [
             [
              0,
              "#0d0887"
             ],
             [
              0.1111111111111111,
              "#46039f"
             ],
             [
              0.2222222222222222,
              "#7201a8"
             ],
             [
              0.3333333333333333,
              "#9c179e"
             ],
             [
              0.4444444444444444,
              "#bd3786"
             ],
             [
              0.5555555555555556,
              "#d8576b"
             ],
             [
              0.6666666666666666,
              "#ed7953"
             ],
             [
              0.7777777777777778,
              "#fb9f3a"
             ],
             [
              0.8888888888888888,
              "#fdca26"
             ],
             [
              1,
              "#f0f921"
             ]
            ],
            "type": "heatmapgl"
           }
          ],
          "histogram": [
           {
            "marker": {
             "pattern": {
              "fillmode": "overlay",
              "size": 10,
              "solidity": 0.2
             }
            },
            "type": "histogram"
           }
          ],
          "histogram2d": [
           {
            "colorbar": {
             "outlinewidth": 0,
             "ticks": ""
            },
            "colorscale": [
             [
              0,
              "#0d0887"
             ],
             [
              0.1111111111111111,
              "#46039f"
             ],
             [
              0.2222222222222222,
              "#7201a8"
             ],
             [
              0.3333333333333333,
              "#9c179e"
             ],
             [
              0.4444444444444444,
              "#bd3786"
             ],
             [
              0.5555555555555556,
              "#d8576b"
             ],
             [
              0.6666666666666666,
              "#ed7953"
             ],
             [
              0.7777777777777778,
              "#fb9f3a"
             ],
             [
              0.8888888888888888,
              "#fdca26"
             ],
             [
              1,
              "#f0f921"
             ]
            ],
            "type": "histogram2d"
           }
          ],
          "histogram2dcontour": [
           {
            "colorbar": {
             "outlinewidth": 0,
             "ticks": ""
            },
            "colorscale": [
             [
              0,
              "#0d0887"
             ],
             [
              0.1111111111111111,
              "#46039f"
             ],
             [
              0.2222222222222222,
              "#7201a8"
             ],
             [
              0.3333333333333333,
              "#9c179e"
             ],
             [
              0.4444444444444444,
              "#bd3786"
             ],
             [
              0.5555555555555556,
              "#d8576b"
             ],
             [
              0.6666666666666666,
              "#ed7953"
             ],
             [
              0.7777777777777778,
              "#fb9f3a"
             ],
             [
              0.8888888888888888,
              "#fdca26"
             ],
             [
              1,
              "#f0f921"
             ]
            ],
            "type": "histogram2dcontour"
           }
          ],
          "mesh3d": [
           {
            "colorbar": {
             "outlinewidth": 0,
             "ticks": ""
            },
            "type": "mesh3d"
           }
          ],
          "parcoords": [
           {
            "line": {
             "colorbar": {
              "outlinewidth": 0,
              "ticks": ""
             }
            },
            "type": "parcoords"
           }
          ],
          "pie": [
           {
            "automargin": true,
            "type": "pie"
           }
          ],
          "scatter": [
           {
            "marker": {
             "colorbar": {
              "outlinewidth": 0,
              "ticks": ""
             }
            },
            "type": "scatter"
           }
          ],
          "scatter3d": [
           {
            "line": {
             "colorbar": {
              "outlinewidth": 0,
              "ticks": ""
             }
            },
            "marker": {
             "colorbar": {
              "outlinewidth": 0,
              "ticks": ""
             }
            },
            "type": "scatter3d"
           }
          ],
          "scattercarpet": [
           {
            "marker": {
             "colorbar": {
              "outlinewidth": 0,
              "ticks": ""
             }
            },
            "type": "scattercarpet"
           }
          ],
          "scattergeo": [
           {
            "marker": {
             "colorbar": {
              "outlinewidth": 0,
              "ticks": ""
             }
            },
            "type": "scattergeo"
           }
          ],
          "scattergl": [
           {
            "marker": {
             "colorbar": {
              "outlinewidth": 0,
              "ticks": ""
             }
            },
            "type": "scattergl"
           }
          ],
          "scattermapbox": [
           {
            "marker": {
             "colorbar": {
              "outlinewidth": 0,
              "ticks": ""
             }
            },
            "type": "scattermapbox"
           }
          ],
          "scatterpolar": [
           {
            "marker": {
             "colorbar": {
              "outlinewidth": 0,
              "ticks": ""
             }
            },
            "type": "scatterpolar"
           }
          ],
          "scatterpolargl": [
           {
            "marker": {
             "colorbar": {
              "outlinewidth": 0,
              "ticks": ""
             }
            },
            "type": "scatterpolargl"
           }
          ],
          "scatterternary": [
           {
            "marker": {
             "colorbar": {
              "outlinewidth": 0,
              "ticks": ""
             }
            },
            "type": "scatterternary"
           }
          ],
          "surface": [
           {
            "colorbar": {
             "outlinewidth": 0,
             "ticks": ""
            },
            "colorscale": [
             [
              0,
              "#0d0887"
             ],
             [
              0.1111111111111111,
              "#46039f"
             ],
             [
              0.2222222222222222,
              "#7201a8"
             ],
             [
              0.3333333333333333,
              "#9c179e"
             ],
             [
              0.4444444444444444,
              "#bd3786"
             ],
             [
              0.5555555555555556,
              "#d8576b"
             ],
             [
              0.6666666666666666,
              "#ed7953"
             ],
             [
              0.7777777777777778,
              "#fb9f3a"
             ],
             [
              0.8888888888888888,
              "#fdca26"
             ],
             [
              1,
              "#f0f921"
             ]
            ],
            "type": "surface"
           }
          ],
          "table": [
           {
            "cells": {
             "fill": {
              "color": "#EBF0F8"
             },
             "line": {
              "color": "white"
             }
            },
            "header": {
             "fill": {
              "color": "#C8D4E3"
             },
             "line": {
              "color": "white"
             }
            },
            "type": "table"
           }
          ]
         },
         "layout": {
          "annotationdefaults": {
           "arrowcolor": "#2a3f5f",
           "arrowhead": 0,
           "arrowwidth": 1
          },
          "autotypenumbers": "strict",
          "coloraxis": {
           "colorbar": {
            "outlinewidth": 0,
            "ticks": ""
           }
          },
          "colorscale": {
           "diverging": [
            [
             0,
             "#8e0152"
            ],
            [
             0.1,
             "#c51b7d"
            ],
            [
             0.2,
             "#de77ae"
            ],
            [
             0.3,
             "#f1b6da"
            ],
            [
             0.4,
             "#fde0ef"
            ],
            [
             0.5,
             "#f7f7f7"
            ],
            [
             0.6,
             "#e6f5d0"
            ],
            [
             0.7,
             "#b8e186"
            ],
            [
             0.8,
             "#7fbc41"
            ],
            [
             0.9,
             "#4d9221"
            ],
            [
             1,
             "#276419"
            ]
           ],
           "sequential": [
            [
             0,
             "#0d0887"
            ],
            [
             0.1111111111111111,
             "#46039f"
            ],
            [
             0.2222222222222222,
             "#7201a8"
            ],
            [
             0.3333333333333333,
             "#9c179e"
            ],
            [
             0.4444444444444444,
             "#bd3786"
            ],
            [
             0.5555555555555556,
             "#d8576b"
            ],
            [
             0.6666666666666666,
             "#ed7953"
            ],
            [
             0.7777777777777778,
             "#fb9f3a"
            ],
            [
             0.8888888888888888,
             "#fdca26"
            ],
            [
             1,
             "#f0f921"
            ]
           ],
           "sequentialminus": [
            [
             0,
             "#0d0887"
            ],
            [
             0.1111111111111111,
             "#46039f"
            ],
            [
             0.2222222222222222,
             "#7201a8"
            ],
            [
             0.3333333333333333,
             "#9c179e"
            ],
            [
             0.4444444444444444,
             "#bd3786"
            ],
            [
             0.5555555555555556,
             "#d8576b"
            ],
            [
             0.6666666666666666,
             "#ed7953"
            ],
            [
             0.7777777777777778,
             "#fb9f3a"
            ],
            [
             0.8888888888888888,
             "#fdca26"
            ],
            [
             1,
             "#f0f921"
            ]
           ]
          },
          "colorway": [
           "#636efa",
           "#EF553B",
           "#00cc96",
           "#ab63fa",
           "#FFA15A",
           "#19d3f3",
           "#FF6692",
           "#B6E880",
           "#FF97FF",
           "#FECB52"
          ],
          "font": {
           "color": "#2a3f5f"
          },
          "geo": {
           "bgcolor": "white",
           "lakecolor": "white",
           "landcolor": "#E5ECF6",
           "showlakes": true,
           "showland": true,
           "subunitcolor": "white"
          },
          "hoverlabel": {
           "align": "left"
          },
          "hovermode": "closest",
          "mapbox": {
           "style": "light"
          },
          "paper_bgcolor": "white",
          "plot_bgcolor": "#E5ECF6",
          "polar": {
           "angularaxis": {
            "gridcolor": "white",
            "linecolor": "white",
            "ticks": ""
           },
           "bgcolor": "#E5ECF6",
           "radialaxis": {
            "gridcolor": "white",
            "linecolor": "white",
            "ticks": ""
           }
          },
          "scene": {
           "xaxis": {
            "backgroundcolor": "#E5ECF6",
            "gridcolor": "white",
            "gridwidth": 2,
            "linecolor": "white",
            "showbackground": true,
            "ticks": "",
            "zerolinecolor": "white"
           },
           "yaxis": {
            "backgroundcolor": "#E5ECF6",
            "gridcolor": "white",
            "gridwidth": 2,
            "linecolor": "white",
            "showbackground": true,
            "ticks": "",
            "zerolinecolor": "white"
           },
           "zaxis": {
            "backgroundcolor": "#E5ECF6",
            "gridcolor": "white",
            "gridwidth": 2,
            "linecolor": "white",
            "showbackground": true,
            "ticks": "",
            "zerolinecolor": "white"
           }
          },
          "shapedefaults": {
           "line": {
            "color": "#2a3f5f"
           }
          },
          "ternary": {
           "aaxis": {
            "gridcolor": "white",
            "linecolor": "white",
            "ticks": ""
           },
           "baxis": {
            "gridcolor": "white",
            "linecolor": "white",
            "ticks": ""
           },
           "bgcolor": "#E5ECF6",
           "caxis": {
            "gridcolor": "white",
            "linecolor": "white",
            "ticks": ""
           }
          },
          "title": {
           "x": 0.05
          },
          "xaxis": {
           "automargin": true,
           "gridcolor": "white",
           "linecolor": "white",
           "ticks": "",
           "title": {
            "standoff": 15
           },
           "zerolinecolor": "white",
           "zerolinewidth": 2
          },
          "yaxis": {
           "automargin": true,
           "gridcolor": "white",
           "linecolor": "white",
           "ticks": "",
           "title": {
            "standoff": 15
           },
           "zerolinecolor": "white",
           "zerolinewidth": 2
          }
         }
        },
        "title": {
         "text": "<i><b>Confusion matrix</b></i>"
        },
        "xaxis": {
         "dtick": 1,
         "gridcolor": "rgb(0, 0, 0)",
         "side": "top",
         "ticks": "",
         "title": {
          "text": "Prediction"
         }
        },
        "yaxis": {
         "dtick": 1,
         "ticks": "",
         "ticksuffix": "  ",
         "title": {
          "text": "True value"
         }
        }
       }
      }
     },
     "metadata": {},
     "output_type": "display_data"
    }
   ],
   "source": [
    "\"\"\"\n",
    "CELL N°18 : CONFUSION MATRIX\n",
    "Observe the impact of your cluster mapping on the confusion matrix, and try to determine to best mapping possible.\n",
    "\"\"\"\n",
    "\n",
    "\n",
    "cluster_mapping = {0: \"TEEN\", 1: \"ADULT\", 2: \"NR\", 3: \"YOUNG\", 4: \"GENERAL\"}\n",
    "tb.confusion_matrix_visualization(target, cluster_labels, cluster_mapping)"
   ]
  },
  {
   "cell_type": "markdown",
   "metadata": {},
   "source": [
    "<div class=\"alert alert-warning\">\n",
    "    <b>[Question 3.3] Silhouette plots</b>  <br> \n",
    "    Analyze results of your clustering method thanks to <i>Silhouette</i> graphs as well as <i>Confusion</i> matrices. <br>\n",
    "    Try to be quite exhaustive and present/comment your findings to prove us you have taught about great features :)\n",
    "</div> "
   ]
  },
  {
   "cell_type": "markdown",
   "metadata": {},
   "source": [
    "<div class=\"alert alert-warning\">\n",
    "    <b>[Question 3.4] Mapping clusters to ratings</b>  <br> \n",
    "    Given all the possible permutations, how would do to determine a good cluster mapping, i.e., a permutation with a high accuracy, without testing all possible mappings?\n",
    "</div>"
   ]
  },
  {
   "cell_type": "markdown",
   "metadata": {},
   "source": [
    "Now, you should be able to create a complete pipeline, from start to end, that can train a model on a data, and output some prediction for a given input vector. **However**, you do not have to implement such thing here. This will be seen during, e.g., the Machine Learning [LELEC2870](https://uclouvain.be/en-cours-2021-lelec2870) classes."
   ]
  },
  {
   "cell_type": "code",
   "execution_count": null,
   "metadata": {},
   "outputs": [],
   "source": []
  }
 ],
 "metadata": {
  "interpreter": {
   "hash": "ba05a6ce37f0793115f1bacb57b7c2fc706f1478b985e37f038cb93f22ad5181"
  },
  "kernelspec": {
   "display_name": "lepl1109",
   "language": "python",
   "name": "python3"
  },
  "language_info": {
   "codemirror_mode": {
    "name": "ipython",
    "version": 3
   },
   "file_extension": ".py",
   "mimetype": "text/x-python",
   "name": "python",
   "nbconvert_exporter": "python",
   "pygments_lexer": "ipython3",
   "version": "3.8.10"
  }
 },
 "nbformat": 4,
 "nbformat_minor": 2
}
